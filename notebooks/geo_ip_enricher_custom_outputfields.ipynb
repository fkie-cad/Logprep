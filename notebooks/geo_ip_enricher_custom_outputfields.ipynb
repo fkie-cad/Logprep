{
 "cells": [
  {
   "cell_type": "markdown",
   "metadata": {},
   "source": [
    "# Configuration of the GeoipEnricher\n",
    "\n",
    "This presentations goal is to introduce the configuration of the output subfields of the `GeoipEnricher`.\n",
    "\n",
    "Prerequisites: a local geo ip database is available"
   ]
  },
  {
   "cell_type": "markdown",
   "metadata": {},
   "source": [
    "### The challenge\n",
    "\n",
    "The given document"
   ]
  },
  {
   "cell_type": "code",
   "execution_count": 92,
   "metadata": {},
   "outputs": [],
   "source": [
    "document = {\"client\": {\"ip\": \"8.8.8.8\"}}\n"
   ]
  },
  {
   "cell_type": "markdown",
   "metadata": {},
   "source": [
    "will result in the default output"
   ]
  },
  {
   "cell_type": "code",
   "execution_count": 93,
   "metadata": {},
   "outputs": [],
   "source": [
    "default_output = {\n",
    "    \"client\": {\"ip: 8.8.8.8\"},\n",
    "    \"geoip\": {\n",
    "        \"geometry\": {\"coordinates\": [-97.822, 37.751], \"type\": \"Point\"},\n",
    "        \"properties\": {\n",
    "            \"accuracy_radius\": 1000,\n",
    "            \"continent\": \"North America\",\n",
    "            \"continent_code\": \"NA\",\n",
    "            \"country\": \"United States\",\n",
    "            \"country_iso_code\": \"US\",\n",
    "            \"time_zone\": \"America/Chicago\",\n",
    "        },\n",
    "        \"type\": \"Feature\",\n",
    "    },\n",
    "}\n"
   ]
  },
  {
   "cell_type": "markdown",
   "metadata": {},
   "source": [
    "which instead should be configured to look like"
   ]
  },
  {
   "cell_type": "code",
   "execution_count": 94,
   "metadata": {},
   "outputs": [],
   "source": [
    "expected_output = {\n",
    "    \"client\": {\n",
    "        \"geo\": {\n",
    "            \"accuracy\": 1000,\n",
    "            \"continent_code\": \"NA\",\n",
    "            \"continent_name\": \"North America\",\n",
    "            \"country_iso_code\": \"US\",\n",
    "            \"country_name\": \"United States\",\n",
    "            \"geometry_type\": \"Point\",\n",
    "            \"location\": [-97.822, 37.751],\n",
    "            \"timezone\": \"America/Chicago\",\n",
    "            \"type\": \"Feature\",\n",
    "        },\n",
    "        \"ip\": \"8.8.8.8\",\n",
    "    }\n",
    "}\n"
   ]
  },
  {
   "cell_type": "markdown",
   "metadata": {},
   "source": [
    "### Create rule and processor\n",
    "create the rule:"
   ]
  },
  {
   "cell_type": "code",
   "execution_count": 95,
   "metadata": {},
   "outputs": [
    {
     "data": {
      "text/plain": [
       "678"
      ]
     },
     "execution_count": 95,
     "metadata": {},
     "output_type": "execute_result"
    }
   ],
   "source": [
    "from pathlib import Path\n",
    "import tempfile\n",
    "\n",
    "\n",
    "rule_yaml = \"\"\"---\n",
    "filter: \"client.ip\"\n",
    "geoip_enricher:\n",
    "  source_fields: [\"client.ip\"]\n",
    "  customize_target_subfields: \n",
    "    type: client.geo.type\n",
    "    geometry.type: client.geo.geometry_type\n",
    "    geometry.coordinates: client.geo.location\n",
    "    properties.accuracy_radius: client.geo.accuracy\n",
    "    properties.continent: client.geo.continent_name\n",
    "    properties.continent_code: client.geo.continent_code\n",
    "    properties.country: client.geo.country_name\n",
    "    properties.city: client.geo.city_name\n",
    "    properties.postal_code: client.geo.postal_code\n",
    "    properties.subdivision: client.geo.subdivision\n",
    "    properties.time_zone: client.geo.timezone\n",
    "    properties.country_iso_code: client.geo.country_iso_code\n",
    "\"\"\"\n",
    "\n",
    "rule_path = Path(tempfile.gettempdir()) / \"geoip\"\n",
    "rule_path.mkdir(exist_ok=True)\n",
    "rule_file = rule_path / \"data-stream.yml\"\n",
    "rule_file.write_text(rule_yaml)\n"
   ]
  },
  {
   "cell_type": "markdown",
   "metadata": {},
   "source": [
    "create the processor config and replace the `db_path` with your local geo ip database:"
   ]
  },
  {
   "cell_type": "code",
   "execution_count": 96,
   "metadata": {},
   "outputs": [],
   "source": [
    "processor_config = {\n",
    "    \"geoip_enricher\": {\n",
    "        \"type\": \"geoip_enricher\",\n",
    "        \"specific_rules\": [str(rule_path)],\n",
    "        \"generic_rules\": [\"/dev\"],\n",
    "        \"db_path\": \"<INSERT_PATH_TO_GEOIP_DATABASE>\"\n",
    "    }\n",
    "}\n"
   ]
  },
  {
   "cell_type": "markdown",
   "metadata": {},
   "source": [
    "create the processor with the factory:"
   ]
  },
  {
   "cell_type": "code",
   "execution_count": 97,
   "metadata": {},
   "outputs": [
    {
     "data": {
      "text/plain": [
       "geoip_enricher"
      ]
     },
     "execution_count": 97,
     "metadata": {},
     "output_type": "execute_result"
    }
   ],
   "source": [
    "from unittest import mock\n",
    "import sys\n",
    "sys.path.append(\"..\")\n",
    "from logprep.factory import Factory\n",
    "\n",
    "mock_logger = mock.MagicMock()\n",
    "geoip_enricher = Factory.create(processor_config, mock_logger)\n",
    "geoip_enricher\n"
   ]
  },
  {
   "cell_type": "markdown",
   "metadata": {},
   "source": [
    "### Process event"
   ]
  },
  {
   "cell_type": "code",
   "execution_count": 98,
   "metadata": {},
   "outputs": [
    {
     "data": {
      "text/plain": [
       "'The output has the expected form: True'"
      ]
     },
     "execution_count": 98,
     "metadata": {},
     "output_type": "execute_result"
    }
   ],
   "source": [
    "from copy import deepcopy\n",
    "\n",
    "mydocument = deepcopy(document)\n",
    "geoip_enricher.process(mydocument)\n",
    "assert mydocument == expected_output\n",
    "f\"The output has the expected form: {mydocument == expected_output}\""
   ]
  }
 ],
 "metadata": {
  "kernelspec": {
   "display_name": "Python 3.11.0 ('venv311': venv)",
   "language": "python",
   "name": "python3"
  },
  "language_info": {
   "codemirror_mode": {
    "name": "ipython",
    "version": 3
   },
   "file_extension": ".py",
   "mimetype": "text/x-python",
   "name": "python",
   "nbconvert_exporter": "python",
   "pygments_lexer": "ipython3",
   "version": "3.11.0"
  },
  "orig_nbformat": 4,
  "vscode": {
   "interpreter": {
    "hash": "29409ed53bc6eb81f9a741ed8db3a316fb32f9653fed698d09496af847ef5314"
   }
  }
 },
 "nbformat": 4,
 "nbformat_minor": 2
}
