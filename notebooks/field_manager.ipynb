{
 "cells": [
  {
   "cell_type": "markdown",
   "metadata": {},
   "source": [
    "# FieldManager\n",
    "\n",
    "This presentations goal it to introduce the features of the `FieldManager` and how to configure it."
   ]
  },
  {
   "cell_type": "markdown",
   "metadata": {},
   "source": [
    "### The challenges\n",
    "\n",
    "- I want to move or rename a field.\n",
    "- I want to copy a field.\n",
    "- I want to merge field values to a list.\n",
    "- I want to merge lists from different fields to one list in a new or existing field\n"
   ]
  },
  {
   "cell_type": "markdown",
   "metadata": {},
   "source": [
    "given preprocessed log entry:"
   ]
  },
  {
   "cell_type": "code",
   "execution_count": 164,
   "metadata": {},
   "outputs": [],
   "source": [
    "document = {\n",
    "    \"client\": {\"ip\": [\"127.0.0.1\", \"fe89::\", \"192.168.5.1\"], \"nat\": {\"ip\": \"223.2.3.2\"}},\n",
    "    \"destination\": {\"ip\": \"8.8.8.8\"},\n",
    "    \"host\": {\"_hostname\": \"customer2\", \"ip\": [\"192.168.5.1\", \"180.22.66.3\"]},\n",
    "    \"observer\": {\"ip\": \"10.10.2.33\"},\n",
    "    \"server\": {\"ip\": \"10.10.2.33\", \"nat\": {\"ip\": \"180.22.66.1\"}},\n",
    "    \"source\": {\"ip\": \"10.10.2.33\"},\n",
    "    \"preexisting\": \"I exists already\"\n",
    "}\n"
   ]
  },
  {
   "cell_type": "markdown",
   "metadata": {},
   "source": [
    "### Create rules and processor"
   ]
  },
  {
   "cell_type": "markdown",
   "metadata": {},
   "source": [
    "create the rules:"
   ]
  },
  {
   "cell_type": "code",
   "execution_count": 165,
   "metadata": {},
   "outputs": [
    {
     "ename": "TypeError",
     "evalue": "__init__() got an unexpected keyword argument 'extend_target_field'",
     "output_type": "error",
     "traceback": [
      "\u001b[0;31m---------------------------------------------------------------------------\u001b[0m",
      "\u001b[0;31mTypeError\u001b[0m                                 Traceback (most recent call last)",
      "Cell \u001b[0;32mIn [165], line 17\u001b[0m\n\u001b[1;32m      4\u001b[0m \u001b[39mfrom\u001b[39;00m \u001b[39mlogprep\u001b[39;00m\u001b[39m.\u001b[39;00m\u001b[39mprocessor\u001b[39;00m\u001b[39m.\u001b[39;00m\u001b[39mfield_manager\u001b[39;00m\u001b[39m.\u001b[39;00m\u001b[39mrule\u001b[39;00m \u001b[39mimport\u001b[39;00m FieldManagerRule\n\u001b[1;32m      5\u001b[0m rules_definitions \u001b[39m=\u001b[39m [\n\u001b[1;32m      6\u001b[0m     {\n\u001b[1;32m      7\u001b[0m         \u001b[39m\"\u001b[39m\u001b[39mfilter\u001b[39m\u001b[39m\"\u001b[39m: \u001b[39m\"\u001b[39m\u001b[39mhost._hostname\u001b[39m\u001b[39m\"\u001b[39m,\n\u001b[0;32m   (...)\u001b[0m\n\u001b[1;32m     15\u001b[0m     }\n\u001b[1;32m     16\u001b[0m ]\n\u001b[0;32m---> 17\u001b[0m rules \u001b[39m=\u001b[39m [FieldManagerRule\u001b[39m.\u001b[39m_create_from_dict(rule_dict) \u001b[39mfor\u001b[39;00m rule_dict \u001b[39min\u001b[39;00m rules_definitions]\n\u001b[1;32m     18\u001b[0m rules\n",
      "Cell \u001b[0;32mIn [165], line 17\u001b[0m, in \u001b[0;36m<listcomp>\u001b[0;34m(.0)\u001b[0m\n\u001b[1;32m      4\u001b[0m \u001b[39mfrom\u001b[39;00m \u001b[39mlogprep\u001b[39;00m\u001b[39m.\u001b[39;00m\u001b[39mprocessor\u001b[39;00m\u001b[39m.\u001b[39;00m\u001b[39mfield_manager\u001b[39;00m\u001b[39m.\u001b[39;00m\u001b[39mrule\u001b[39;00m \u001b[39mimport\u001b[39;00m FieldManagerRule\n\u001b[1;32m      5\u001b[0m rules_definitions \u001b[39m=\u001b[39m [\n\u001b[1;32m      6\u001b[0m     {\n\u001b[1;32m      7\u001b[0m         \u001b[39m\"\u001b[39m\u001b[39mfilter\u001b[39m\u001b[39m\"\u001b[39m: \u001b[39m\"\u001b[39m\u001b[39mhost._hostname\u001b[39m\u001b[39m\"\u001b[39m,\n\u001b[0;32m   (...)\u001b[0m\n\u001b[1;32m     15\u001b[0m     }\n\u001b[1;32m     16\u001b[0m ]\n\u001b[0;32m---> 17\u001b[0m rules \u001b[39m=\u001b[39m [FieldManagerRule\u001b[39m.\u001b[39;49m_create_from_dict(rule_dict) \u001b[39mfor\u001b[39;00m rule_dict \u001b[39min\u001b[39;00m rules_definitions]\n\u001b[1;32m     18\u001b[0m rules\n",
      "File \u001b[0;32m~/external_work/Logprep/notebooks/../logprep/processor/base/rule.py:257\u001b[0m, in \u001b[0;36mRule._create_from_dict\u001b[0;34m(cls, rule)\u001b[0m\n\u001b[1;32m    255\u001b[0m     \u001b[39mif\u001b[39;00m special_field_value \u001b[39mis\u001b[39;00m \u001b[39mnot\u001b[39;00m \u001b[39mNone\u001b[39;00m:\n\u001b[1;32m    256\u001b[0m         config\u001b[39m.\u001b[39mupdate({special_field: special_field_value})\n\u001b[0;32m--> 257\u001b[0m config \u001b[39m=\u001b[39m \u001b[39mcls\u001b[39;49m\u001b[39m.\u001b[39;49mConfig(\u001b[39m*\u001b[39;49m\u001b[39m*\u001b[39;49mconfig)\n\u001b[1;32m    258\u001b[0m \u001b[39mreturn\u001b[39;00m \u001b[39mcls\u001b[39m(filter_expression, config)\n",
      "\u001b[0;31mTypeError\u001b[0m: __init__() got an unexpected keyword argument 'extend_target_field'"
     ]
    }
   ],
   "source": [
    "import sys\n",
    "sys.path.append(\"..\")\n",
    "\n",
    "from logprep.processor.field_manager.rule import FieldManagerRule\n",
    "rules_definitions = [\n",
    "    {\n",
    "        \"filter\": \"host._hostname\",\n",
    "        \"field_manager\": {\n",
    "            \"source_fields\": [\"client.nat.ip\", \"source.ip\"],\n",
    "            \"target_field\": \"related.ip\",\n",
    "            \"overwrite_target\": True,\n",
    "            \"delete_source_fields\": True,\n",
    "            \"extend_target_list\": True\n",
    "        },\n",
    "    }\n",
    "]\n",
    "rules = [FieldManagerRule._create_from_dict(rule_dict) for rule_dict in rules_definitions]\n",
    "rules"
   ]
  },
  {
   "cell_type": "markdown",
   "metadata": {},
   "source": [
    "create the processor config:"
   ]
  },
  {
   "cell_type": "code",
   "execution_count": null,
   "metadata": {},
   "outputs": [],
   "source": [
    "processor_config = {\n",
    "    \"the_field_manager\": {\n",
    "        \"type\": \"field_manager\",\n",
    "        \"specific_rules\": [\"/dev\"],\n",
    "        \"generic_rules\": [\"/dev\"],\n",
    "    }\n",
    "}\n"
   ]
  },
  {
   "cell_type": "markdown",
   "metadata": {},
   "source": [
    "create the processor with the factory:"
   ]
  },
  {
   "cell_type": "code",
   "execution_count": null,
   "metadata": {},
   "outputs": [
    {
     "data": {
      "text/plain": [
       "field_manager"
      ]
     },
     "execution_count": 159,
     "metadata": {},
     "output_type": "execute_result"
    }
   ],
   "source": [
    "from logging import getLogger\n",
    "from logprep.factory import Factory\n",
    "\n",
    "logger = getLogger()\n",
    "\n",
    "processor = Factory.create(processor_config, logger)\n",
    "processor\n"
   ]
  },
  {
   "cell_type": "markdown",
   "metadata": {},
   "source": [
    "load rules to processor"
   ]
  },
  {
   "cell_type": "code",
   "execution_count": null,
   "metadata": {},
   "outputs": [
    {
     "data": {
      "text/plain": [
       "[FieldManagerRule.Config(description='', regex_fields=[], tests=[], tag_on_failure=['_field_manager_failure'], source_fields=['host._hostname'], target_field='host.hostname', delete_source_fields=True, overwrite_target=True, extend_target_list=False)]"
      ]
     },
     "execution_count": 160,
     "metadata": {},
     "output_type": "execute_result"
    }
   ],
   "source": [
    "for rule in rules:\n",
    "    processor._specific_tree.add_rule(rule)\n",
    "    \n",
    "processor._specific_rules"
   ]
  },
  {
   "cell_type": "markdown",
   "metadata": {},
   "source": [
    "### Process event"
   ]
  },
  {
   "cell_type": "code",
   "execution_count": null,
   "metadata": {},
   "outputs": [],
   "source": [
    "from copy import deepcopy\n",
    "\n",
    "mydocument = deepcopy(document)\n",
    "processor.process(mydocument)\n"
   ]
  },
  {
   "cell_type": "markdown",
   "metadata": {},
   "source": [
    "### Check Results"
   ]
  },
  {
   "cell_type": "code",
   "execution_count": null,
   "metadata": {},
   "outputs": [
    {
     "data": {
      "text/plain": [
       "{'client': {'ip': ['127.0.0.1', 'fe89::', '192.168.5.1'],\n",
       "  'nat': {'ip': '223.2.3.2'}},\n",
       " 'destination': {'ip': '8.8.8.8'},\n",
       " 'host': {'_hostname': 'customer2', 'ip': ['192.168.5.1', '180.22.66.3']},\n",
       " 'observer': {'ip': '10.10.2.33'},\n",
       " 'server': {'ip': '10.10.2.33', 'nat': {'ip': '180.22.66.1'}},\n",
       " 'source': {'ip': '10.10.2.33'},\n",
       " 'preexisting': 'I exists already'}"
      ]
     },
     "execution_count": 162,
     "metadata": {},
     "output_type": "execute_result"
    }
   ],
   "source": [
    "document"
   ]
  },
  {
   "cell_type": "code",
   "execution_count": null,
   "metadata": {},
   "outputs": [
    {
     "data": {
      "text/plain": [
       "{'client': {'ip': ['127.0.0.1', 'fe89::', '192.168.5.1'],\n",
       "  'nat': {'ip': '223.2.3.2'}},\n",
       " 'destination': {'ip': '8.8.8.8'},\n",
       " 'host': {'ip': ['192.168.5.1', '180.22.66.3'], 'hostname': 'customer2'},\n",
       " 'observer': {'ip': '10.10.2.33'},\n",
       " 'server': {'ip': '10.10.2.33', 'nat': {'ip': '180.22.66.1'}},\n",
       " 'source': {'ip': '10.10.2.33'},\n",
       " 'preexisting': 'I exists already'}"
      ]
     },
     "execution_count": 163,
     "metadata": {},
     "output_type": "execute_result"
    }
   ],
   "source": [
    "mydocument"
   ]
  }
 ],
 "metadata": {
  "kernelspec": {
   "display_name": "Python 3.9.14 ('.venv': venv)",
   "language": "python",
   "name": "python3"
  },
  "language_info": {
   "codemirror_mode": {
    "name": "ipython",
    "version": 3
   },
   "file_extension": ".py",
   "mimetype": "text/x-python",
   "name": "python",
   "nbconvert_exporter": "python",
   "pygments_lexer": "ipython3",
   "version": "3.9.15"
  },
  "orig_nbformat": 4,
  "vscode": {
   "interpreter": {
    "hash": "586280540a85d3e21edc698fe7b86af2848b9b02644e6c22463da25c40a3f1be"
   }
  }
 },
 "nbformat": 4,
 "nbformat_minor": 2
}
