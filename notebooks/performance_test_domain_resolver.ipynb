{
 "cells": [
  {
   "cell_type": "code",
   "execution_count": 86,
   "metadata": {},
   "outputs": [
    {
     "data": {
      "text/plain": [
       "[<logprep.processor.dropper.rule.DropperRule at 0x7f0e76ca0640>,\n",
       " <logprep.processor.dropper.rule.DropperRule at 0x7f0e76ca0a30>,\n",
       " <logprep.processor.dropper.rule.DropperRule at 0x7f0e76ca07c0>]"
      ]
     },
     "execution_count": 86,
     "metadata": {},
     "output_type": "execute_result"
    }
   ],
   "source": [
    "import sys\n",
    "sys.path.append(\"..\")\n",
    "from logging import DEBUG\n",
    "from logprep.factory import Factory\n",
    "from logprep.registry import Registry\n",
    "from logprep.abc import Processor\n",
    "from logprep.processor.dropper.rule import DropperRule\n",
    "from time import perf_counter\n",
    "from logging import getLogger\n",
    "\n",
    "class OldDropper(Processor):\n",
    "    \"\"\"Normalize log events by copying specific values to standardized fields.\"\"\"\n",
    "\n",
    "    rule_class = DropperRule\n",
    "\n",
    "    def _traverse_dict_and_delete(self, dict_: dict, sub_fields, drop_full: bool):\n",
    "        sub_field = sub_fields[0] if sub_fields else None\n",
    "        remaining_sub_fields = sub_fields[1:]\n",
    "\n",
    "        if not remaining_sub_fields and sub_field in dict_.keys():\n",
    "            del dict_[sub_field]\n",
    "        if (\n",
    "            isinstance(dict_, dict)\n",
    "            and sub_field in dict_\n",
    "            and (isinstance(dict_[sub_field], dict) and dict_[sub_field])\n",
    "        ):\n",
    "            self._traverse_dict_and_delete(dict_[sub_field], remaining_sub_fields, drop_full)\n",
    "            if dict_[sub_field] == {} and drop_full:\n",
    "                del dict_[sub_field]\n",
    "\n",
    "    def _drop_field(self, event: dict, dotted_field: str, drop_full: bool):\n",
    "        sub_fields = dotted_field.split(\".\")\n",
    "        self._traverse_dict_and_delete(event, sub_fields, drop_full)\n",
    "\n",
    "    def _apply_rules(self, event: dict, rule: DropperRule):\n",
    "        \"\"\"Drops fields from event Logs.\"\"\"\n",
    "\n",
    "        if self._logger.isEnabledFor(DEBUG):  # pragma: no cover\n",
    "            self._logger.debug(f\"{self.describe()} processing matching event\")\n",
    "        for drop_field in rule.fields_to_drop:\n",
    "            self._try_dropping_field(event, drop_field, rule.drop_full)\n",
    "\n",
    "    def _try_dropping_field(self, event: dict, dotted_field: str, drop_full: bool):\n",
    "        if self._field_exists(event, dotted_field):\n",
    "            self._drop_field(event, dotted_field, drop_full)\n",
    "\n",
    "dropper_config = {\n",
    "    \"dropper\": {\n",
    "        \"type\": \"dropper\",\n",
    "        \"specific_rules\": [\"/dev\"],\n",
    "        \"generic_rules\": [\"/dev\"]  \n",
    "    }\n",
    "}\n",
    "\n",
    "logger = getLogger(__name__)\n",
    "\n",
    "dropper = Factory.create(dropper_config, logger)\n",
    "\n",
    "Registry.mapping.update({\"old_dropper\": OldDropper})\n",
    "\n",
    "old_dropper_config = {\n",
    "    \"dropper\": {\n",
    "        \"type\": \"old_dropper\",\n",
    "        \"specific_rules\": [\"/dev\"],\n",
    "        \"generic_rules\": [\"/dev\"]  \n",
    "    }\n",
    "}\n",
    "\n",
    "old_dropper = Factory.create(old_dropper_config, logger)\n",
    "\n",
    "dropper\n",
    "old_dropper\n",
    "\n",
    "rules = [\n",
    "{\n",
    "    \"filter\": \"key1\",\n",
    "    \"dropper\": {\n",
    "        \"drop\": [\"key1\"],\n",
    "        \n",
    "    },\n",
    "},\n",
    "{\n",
    "    \"filter\": \"key1\",\n",
    "    \"dropper\": {\n",
    "        \"drop\": [\"key1.a\", \"key1.b\", \"key1.key2.a\", \"key1.key2.key3.b\"],\n",
    "        \"drop_full\": False\n",
    "    }\n",
    "},\n",
    "{\n",
    "    \"filter\": \"key1\",\n",
    "    \"dropper\": {\n",
    "        \"drop\": [\"key1.key2.a\", \"key1.key2.key3.key4.key5.a\", \"key1.key2.ke3.b\", \"key1.key2.ke3.a\"],\n",
    "    }\n",
    "}\n",
    "\n",
    "]\n",
    "\n",
    "rules = [DropperRule._create_from_dict(rule) for rule in rules]\n",
    "[dropper._specific_tree.add_rule(rule) for rule in rules]\n",
    "[old_dropper._specific_tree.add_rule(rule) for rule in rules]\n",
    "\n",
    "dropper._rules\n"
   ]
  },
  {
   "cell_type": "code",
   "execution_count": 87,
   "metadata": {},
   "outputs": [],
   "source": [
    "document = {\n",
    "    \"list\": [\"existing\"],\n",
    "    \"key1\": {\n",
    "        \"a\": {\"b\": \"value\"},\n",
    "        \"key2\": {\n",
    "            \"a\": {\"b\": \"value\"},\n",
    "            \"key3\": {\n",
    "                \"a\": {\"b\": \"value\"},\n",
    "                \"key4\": {\n",
    "                    \"a\": {\"b\": \"value\"},\n",
    "                    \"key5\": {\n",
    "                        \"a\": {\"b\": \"value\"},\n",
    "                        \"key6\": \"value\"}\n",
    "                    \n",
    "}}}}}\n"
   ]
  },
  {
   "cell_type": "code",
   "execution_count": 88,
   "metadata": {},
   "outputs": [
    {
     "ename": "KeyboardInterrupt",
     "evalue": "",
     "output_type": "error",
     "traceback": [
      "\u001b[0;31m---------------------------------------------------------------------------\u001b[0m",
      "\u001b[0;31mKeyboardInterrupt\u001b[0m                         Traceback (most recent call last)",
      "Cell \u001b[0;32mIn [88], line 4\u001b[0m\n\u001b[1;32m      2\u001b[0m start \u001b[39m=\u001b[39m perf_counter()\n\u001b[1;32m      3\u001b[0m \u001b[39mfor\u001b[39;00m event \u001b[39min\u001b[39;00m documents:\n\u001b[0;32m----> 4\u001b[0m     dropper\u001b[39m.\u001b[39;49mprocess(event)\n\u001b[1;32m      5\u001b[0m \u001b[39mprint\u001b[39m(perf_counter() \u001b[39m-\u001b[39m start)\n",
      "File \u001b[0;32m~/external_work/Logprep/notebooks/../logprep/util/time_measurement.py:45\u001b[0m, in \u001b[0;36mTimeMeasurement.measure_time.<locals>.inner_decorator.<locals>.inner\u001b[0;34m(*args, **kwargs)\u001b[0m\n\u001b[1;32m     43\u001b[0m         add_processing_times_to_event(first_argument, processing_time, caller, name)\n\u001b[1;32m     44\u001b[0m     \u001b[39mreturn\u001b[39;00m result\n\u001b[0;32m---> 45\u001b[0m \u001b[39mreturn\u001b[39;00m func(\u001b[39m*\u001b[39;49margs, \u001b[39m*\u001b[39;49m\u001b[39m*\u001b[39;49mkwargs)\n",
      "File \u001b[0;32m~/external_work/Logprep/notebooks/../logprep/abc/processor.py:159\u001b[0m, in \u001b[0;36mProcessor.process\u001b[0;34m(self, event)\u001b[0m\n\u001b[1;32m    157\u001b[0m \u001b[39mif\u001b[39;00m \u001b[39mself\u001b[39m\u001b[39m.\u001b[39m_logger\u001b[39m.\u001b[39misEnabledFor(DEBUG):  \u001b[39m# pragma: no cover\u001b[39;00m\n\u001b[1;32m    158\u001b[0m     \u001b[39mself\u001b[39m\u001b[39m.\u001b[39m_logger\u001b[39m.\u001b[39mdebug(\u001b[39mf\u001b[39m\u001b[39m\"\u001b[39m\u001b[39m{\u001b[39;00m\u001b[39mself\u001b[39m\u001b[39m.\u001b[39mdescribe()\u001b[39m}\u001b[39;00m\u001b[39m processing event \u001b[39m\u001b[39m{\u001b[39;00mevent\u001b[39m}\u001b[39;00m\u001b[39m\"\u001b[39m)\n\u001b[0;32m--> 159\u001b[0m \u001b[39mself\u001b[39;49m\u001b[39m.\u001b[39;49m_strategy\u001b[39m.\u001b[39;49mprocess(\n\u001b[1;32m    160\u001b[0m     event,\n\u001b[1;32m    161\u001b[0m     generic_tree\u001b[39m=\u001b[39;49m\u001b[39mself\u001b[39;49m\u001b[39m.\u001b[39;49m_generic_tree,\n\u001b[1;32m    162\u001b[0m     specific_tree\u001b[39m=\u001b[39;49m\u001b[39mself\u001b[39;49m\u001b[39m.\u001b[39;49m_specific_tree,\n\u001b[1;32m    163\u001b[0m     callback\u001b[39m=\u001b[39;49m\u001b[39mself\u001b[39;49m\u001b[39m.\u001b[39;49m_apply_rules_wrapper,\n\u001b[1;32m    164\u001b[0m     processor_metrics\u001b[39m=\u001b[39;49m\u001b[39mself\u001b[39;49m\u001b[39m.\u001b[39;49mmetrics,\n\u001b[1;32m    165\u001b[0m )\n",
      "File \u001b[0;32m~/external_work/Logprep/notebooks/../logprep/processor/processor_strategy.py:39\u001b[0m, in \u001b[0;36mSpecificGenericProcessStrategy.process\u001b[0;34m(self, event, **kwargs)\u001b[0m\n\u001b[1;32m     37\u001b[0m callback \u001b[39m=\u001b[39m kwargs\u001b[39m.\u001b[39mget(\u001b[39m\"\u001b[39m\u001b[39mcallback\u001b[39m\u001b[39m\"\u001b[39m)\n\u001b[1;32m     38\u001b[0m processor_metrics \u001b[39m=\u001b[39m kwargs\u001b[39m.\u001b[39mget(\u001b[39m\"\u001b[39m\u001b[39mprocessor_metrics\u001b[39m\u001b[39m\"\u001b[39m)\n\u001b[0;32m---> 39\u001b[0m \u001b[39mself\u001b[39;49m\u001b[39m.\u001b[39;49m_process_specific(event, specific_tree, callback, processor_metrics)\n\u001b[1;32m     40\u001b[0m \u001b[39mself\u001b[39m\u001b[39m.\u001b[39m_process_generic(event, generic_tree, callback, processor_metrics)\n\u001b[1;32m     41\u001b[0m processor_metrics\u001b[39m.\u001b[39mnumber_of_processed_events \u001b[39m+\u001b[39m\u001b[39m=\u001b[39m \u001b[39m1\u001b[39m\n",
      "File \u001b[0;32m~/external_work/Logprep/notebooks/../logprep/processor/processor_strategy.py:51\u001b[0m, in \u001b[0;36mSpecificGenericProcessStrategy._process_specific\u001b[0;34m(self, event, specific_tree, callback, processor_metrics)\u001b[0m\n\u001b[1;32m     43\u001b[0m \u001b[39mdef\u001b[39;00m \u001b[39m_process_specific\u001b[39m(\n\u001b[1;32m     44\u001b[0m     \u001b[39mself\u001b[39m,\n\u001b[1;32m     45\u001b[0m     event: \u001b[39mdict\u001b[39m,\n\u001b[0;32m   (...)\u001b[0m\n\u001b[1;32m     48\u001b[0m     processor_metrics: \u001b[39m\"\u001b[39m\u001b[39mProcessor.ProcessorMetrics\u001b[39m\u001b[39m\"\u001b[39m,\n\u001b[1;32m     49\u001b[0m ):\n\u001b[1;32m     50\u001b[0m     \u001b[39m\"\"\"method for processing specific rules\"\"\"\u001b[39;00m\n\u001b[0;32m---> 51\u001b[0m     \u001b[39mfor\u001b[39;00m rule \u001b[39min\u001b[39;00m specific_tree\u001b[39m.\u001b[39;49mget_matching_rules(event):\n\u001b[1;32m     52\u001b[0m         begin \u001b[39m=\u001b[39m time()\n\u001b[1;32m     53\u001b[0m         callback(event, rule)\n",
      "File \u001b[0;32m~/external_work/Logprep/notebooks/../logprep/framework/rule_tree/rule_tree.py:203\u001b[0m, in \u001b[0;36mRuleTree.get_matching_rules\u001b[0;34m(self, event)\u001b[0m\n\u001b[1;32m    201\u001b[0m matches \u001b[39m=\u001b[39m []\n\u001b[1;32m    202\u001b[0m matching_rules \u001b[39m=\u001b[39m \u001b[39mself\u001b[39m\u001b[39m.\u001b[39m_retrieve_matching_rules(event, \u001b[39mself\u001b[39m\u001b[39m.\u001b[39mroot, matches)\n\u001b[0;32m--> 203\u001b[0m matching_rules \u001b[39m=\u001b[39m \u001b[39mlist\u001b[39m(\u001b[39mdict\u001b[39;49m\u001b[39m.\u001b[39;49mfromkeys(matching_rules))\n\u001b[1;32m    204\u001b[0m \u001b[39mreturn\u001b[39;00m matching_rules\n",
      "\u001b[0;31mKeyboardInterrupt\u001b[0m: "
     ]
    }
   ],
   "source": [
    "documents = [document for _ in range(5_000_000)]\n",
    "start = perf_counter()\n",
    "for event in documents:\n",
    "    dropper.process(event)\n",
    "print(perf_counter() - start)\n"
   ]
  },
  {
   "cell_type": "code",
   "execution_count": null,
   "metadata": {},
   "outputs": [
    {
     "name": "stdout",
     "output_type": "stream",
     "text": [
      "2.1645570440000483\n"
     ]
    }
   ],
   "source": [
    "documents1 = [document for _ in range(5_000_000)]\n",
    "start = perf_counter()\n",
    "for event in documents1:\n",
    "    old_dropper.process(event)\n",
    "print(perf_counter() - start)"
   ]
  }
 ],
 "metadata": {
  "kernelspec": {
   "display_name": "Python 3.9.15 ('.venv': venv)",
   "language": "python",
   "name": "python3"
  },
  "language_info": {
   "codemirror_mode": {
    "name": "ipython",
    "version": 3
   },
   "file_extension": ".py",
   "mimetype": "text/x-python",
   "name": "python",
   "nbconvert_exporter": "python",
   "pygments_lexer": "ipython3",
   "version": "3.9.15"
  },
  "orig_nbformat": 4,
  "vscode": {
   "interpreter": {
    "hash": "586280540a85d3e21edc698fe7b86af2848b9b02644e6c22463da25c40a3f1be"
   }
  }
 },
 "nbformat": 4,
 "nbformat_minor": 2
}
