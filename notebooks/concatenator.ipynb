{
 "cells": [
  {
   "cell_type": "markdown",
   "metadata": {},
   "source": [
    "# Concatenator\n",
    "\n",
    "This presentations goal it to introduce the features of the `Concatenator` and how to configure it."
   ]
  },
  {
   "cell_type": "markdown",
   "metadata": {},
   "source": [
    "### The challenge\n",
    "\n",
    "I want to merge different fields from an event in one target field."
   ]
  },
  {
   "cell_type": "markdown",
   "metadata": {},
   "source": [
    "from this:"
   ]
  },
  {
   "cell_type": "code",
   "execution_count": null,
   "metadata": {},
   "outputs": [],
   "source": [
    "document = {\n",
    "    'data_stream': {\n",
    "        'dataset': 'windows', \n",
    "        'namespace': 'devopslab', \n",
    "        'type': 'logs'\n",
    "        }, \n",
    "    '_op_type': 'create'\n",
    "    }"
   ]
  },
  {
   "cell_type": "markdown",
   "metadata": {},
   "source": [
    "to this:"
   ]
  },
  {
   "cell_type": "code",
   "execution_count": null,
   "metadata": {},
   "outputs": [],
   "source": [
    "expected = {\n",
    "    'data_stream': {\n",
    "        'dataset': 'windows', \n",
    "        'namespace': 'devopslab', \n",
    "        'type': 'logs'\n",
    "        }, \n",
    "    '_op_type': 'create', \n",
    "    '_index': 'logs-windows-devopslab'\n",
    "    }"
   ]
  },
  {
   "cell_type": "markdown",
   "metadata": {},
   "source": [
    "### Create rule and processor"
   ]
  },
  {
   "cell_type": "markdown",
   "metadata": {},
   "source": [
    "create the rule:"
   ]
  },
  {
   "cell_type": "code",
   "execution_count": null,
   "metadata": {},
   "outputs": [],
   "source": [
    "import tempfile\n",
    "from pathlib import Path\n",
    "\n",
    "rule_yaml = \"\"\"---\n",
    "filter: \"data_stream\"\n",
    "concatenator:\n",
    "  source_fields:\n",
    "    - data_stream.type\n",
    "    - data_stream.dataset\n",
    "    - data_stream.namespace\n",
    "  target_field: _index\n",
    "  seperator: \"-\"\n",
    "  overwrite_target: false\n",
    "  delete_source_fields: false\n",
    "\"\"\"\n",
    "\n",
    "rule_path = Path(tempfile.gettempdir()) / \"concatenator\"\n",
    "rule_path.mkdir(exist_ok=True)\n",
    "rule_file = rule_path / \"data-stream.yml\"\n",
    "rule_file.write_text(rule_yaml)"
   ]
  },
  {
   "cell_type": "markdown",
   "metadata": {},
   "source": [
    "create the processor config:"
   ]
  },
  {
   "cell_type": "code",
   "execution_count": null,
   "metadata": {},
   "outputs": [],
   "source": [
    "processor_config = {\n",
    "    \"myconcatenator\":{   \n",
    "        \"type\": \"concatenator\",\n",
    "        \"specific_rules\": [str(rule_path)],\n",
    "        \"generic_rules\": [\"/dev\"],\n",
    "        }\n",
    "    }"
   ]
  },
  {
   "cell_type": "markdown",
   "metadata": {},
   "source": [
    "create the processor with the factory:"
   ]
  },
  {
   "cell_type": "code",
   "execution_count": 1,
   "metadata": {},
   "outputs": [
    {
     "ename": "ModuleNotFoundError",
     "evalue": "No module named 'logprep'",
     "output_type": "error",
     "traceback": [
      "\u001b[0;31m---------------------------------------------------------------------------\u001b[0m",
      "\u001b[0;31mModuleNotFoundError\u001b[0m                       Traceback (most recent call last)",
      "Cell \u001b[0;32mIn [1], line 4\u001b[0m\n\u001b[1;32m      2\u001b[0m os\u001b[39m.\u001b[39menviron[\u001b[39m\"\u001b[39m\u001b[39mPYTHONPATH\u001b[39m\u001b[39m\"\u001b[39m] \u001b[39m=\u001b[39m \u001b[39m'\u001b[39m\u001b[39m../\u001b[39m\u001b[39m'\u001b[39m\n\u001b[1;32m      3\u001b[0m \u001b[39mfrom\u001b[39;00m \u001b[39munittest\u001b[39;00m \u001b[39mimport\u001b[39;00m mock\n\u001b[0;32m----> 4\u001b[0m \u001b[39mfrom\u001b[39;00m \u001b[39mlogprep\u001b[39;00m\u001b[39m.\u001b[39;00m\u001b[39mfactory\u001b[39;00m \u001b[39mimport\u001b[39;00m Factory\n\u001b[1;32m      6\u001b[0m mock_logger \u001b[39m=\u001b[39m mock\u001b[39m.\u001b[39mMagicMock()\n\u001b[1;32m      7\u001b[0m concatenator \u001b[39m=\u001b[39m Factory\u001b[39m.\u001b[39mcreate(processor_config, mock_logger)\n",
      "\u001b[0;31mModuleNotFoundError\u001b[0m: No module named 'logprep'"
     ]
    }
   ],
   "source": [
    "import sys\n",
    "sys.path.append(\"..\")\n",
    "from unittest import mock\n",
    "from logprep.factory import Factory\n",
    "\n",
    "mock_logger = mock.MagicMock()\n",
    "concatenator = Factory.create(processor_config, mock_logger)\n",
    "concatenator"
   ]
  },
  {
   "cell_type": "markdown",
   "metadata": {},
   "source": [
    "### Process event"
   ]
  },
  {
   "cell_type": "code",
   "execution_count": null,
   "metadata": {},
   "outputs": [],
   "source": [
    "from copy import deepcopy\n",
    "mydocument = deepcopy(document)\n",
    "\n",
    "\n",
    "print(f\"before: {mydocument}\")\n",
    "concatenator.process(mydocument)\n",
    "print(f\"after: {mydocument}\")\n",
    "print(mydocument == expected)"
   ]
  }
 ],
 "metadata": {
  "kernelspec": {
   "display_name": "Python 3.9.14 ('.venv': venv)",
   "language": "python",
   "name": "python3"
  },
  "language_info": {
   "codemirror_mode": {
    "name": "ipython",
    "version": 3
   },
   "file_extension": ".py",
   "mimetype": "text/x-python",
   "name": "python",
   "nbconvert_exporter": "python",
   "pygments_lexer": "ipython3",
   "version": "3.9.15"
  },
  "orig_nbformat": 4,
  "vscode": {
   "interpreter": {
    "hash": "586280540a85d3e21edc698fe7b86af2848b9b02644e6c22463da25c40a3f1be"
   }
  }
 },
 "nbformat": 4,
 "nbformat_minor": 2
}
