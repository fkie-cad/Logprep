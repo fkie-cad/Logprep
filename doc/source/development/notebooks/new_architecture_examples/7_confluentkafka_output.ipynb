{
 "cells": [
  {
   "cell_type": "markdown",
   "metadata": {},
   "source": [
    "# Usage of ConfluentKafka Output Connector with Event Objects\n"
   ]
  },
  {
   "cell_type": "markdown",
   "metadata": {},
   "source": [
    "The following example demonstrates the delivery of events to the opensearch output connector"
   ]
  },
  {
   "cell_type": "code",
   "execution_count": 1,
   "metadata": {
    "vscode": {
     "languageId": "shellscript"
    }
   },
   "outputs": [
    {
     "name": "stderr",
     "output_type": "stream",
     "text": [
      " Container kafka  Stopping\n",
      " Container kafka  Stopped\n",
      " Container kafka  Removing\n",
      " Container kafka  Removed\n",
      " Network compose_kafka  Removing\n",
      " Network compose_kafka  Removed\n",
      " Network compose_kafka  Creating\n",
      " Network compose_kafka  Created\n",
      " Container kafka  Creating\n",
      " Container kafka  Created\n",
      " Container kafka  Starting\n",
      " Container kafka  Started\n"
     ]
    }
   ],
   "source": [
    "%%bash\n",
    "docker compose -f ../../../../../examples/compose/docker-compose.yml down -v  \n",
    "docker compose -f ../../../../../examples/compose/docker-compose.yml up -d kafka\n"
   ]
  },
  {
   "cell_type": "code",
   "execution_count": 24,
   "metadata": {},
   "outputs": [
    {
     "name": "stdout",
     "output_type": "stream",
     "text": [
      "DEBUG:KafkaOutput:Produced message {'message': 'Event 0', '@timestamp': '2025-07-28 11:25:24.300692+00:00'} to topic consumer\n",
      "DEBUG:KafkaOutput:Produced message {'message': 'Event 1', '@timestamp': '2025-07-28 11:25:24.300720+00:00'} to topic consumer\n",
      "DEBUG:KafkaOutput:Produced message {'message': 'Event 2', '@timestamp': '2025-07-28 11:25:24.300728+00:00'} to topic consumer\n",
      "DEBUG:KafkaOutput:Produced message {'message': 'Event 3', '@timestamp': '2025-07-28 11:25:24.300735+00:00'} to topic consumer\n",
      "DEBUG:KafkaOutput:Produced message {'message': 'Event 4', '@timestamp': '2025-07-28 11:25:24.300741+00:00'} to topic consumer\n",
      "DEBUG:KafkaOutput:Produced message {'message': 'Event 5', '@timestamp': '2025-07-28 11:25:24.300747+00:00'} to topic consumer\n",
      "DEBUG:KafkaOutput:Produced message {'message': 'Event 6', '@timestamp': '2025-07-28 11:25:24.300752+00:00'} to topic consumer\n",
      "DEBUG:KafkaOutput:Produced message {'message': 'Event 7', '@timestamp': '2025-07-28 11:25:24.300757+00:00'} to topic consumer\n",
      "DEBUG:KafkaOutput:Produced message {'message': 'Event 8', '@timestamp': '2025-07-28 11:25:24.300763+00:00'} to topic consumer\n",
      "DEBUG:KafkaOutput:Produced message {'message': 'Event 9', '@timestamp': '2025-07-28 11:25:24.300768+00:00'} to topic consumer\n",
      "DEBUG:KafkaOutput:Message delivered to 'consumer' partition 0, offset 10\n",
      "DEBUG:KafkaOutput:Message delivered to 'consumer' partition 0, offset 11\n",
      "DEBUG:KafkaOutput:Message delivered to 'consumer' partition 0, offset 12\n",
      "DEBUG:KafkaOutput:Message delivered to 'consumer' partition 0, offset 13\n",
      "DEBUG:KafkaOutput:Message delivered to 'consumer' partition 0, offset 14\n",
      "DEBUG:KafkaOutput:Message delivered to 'consumer' partition 0, offset 15\n",
      "DEBUG:KafkaOutput:Message delivered to 'consumer' partition 0, offset 16\n",
      "DEBUG:KafkaOutput:Message delivered to 'consumer' partition 0, offset 17\n",
      "DEBUG:KafkaOutput:Message delivered to 'consumer' partition 0, offset 18\n",
      "DEBUG:KafkaOutput:Message delivered to 'consumer' partition 0, offset 19\n",
      "INFO:KafkaOutput:Producer flushed successfully. 0 messages remaining.\n"
     ]
    }
   ],
   "source": [
    "from typing import Iterator\n",
    "from logprep.factory import Factory\n",
    "from logprep.util.time import TimeParser\n",
    "from logprep.ng.connector.confluent_kafka.output import ConfluentKafkaOutput\n",
    "from logprep.ng.event.log_event import LogEvent\n",
    "from logprep.ng.event.event_state import EventStateType\n",
    "import logging\n",
    "import sys\n",
    "\n",
    "# Configure logging\n",
    "logging.basicConfig(\n",
    "    level=logging.DEBUG, \n",
    "    stream=sys.stdout\n",
    ")\n",
    "\n",
    "\n",
    "config = {\n",
    "    \"type\": \"ng_confluentkafka_output\",\n",
    "    \"topic\": \"consumer\",\n",
    "    \"flush_timeout\": 300,\n",
    "    \"send_timeout\": 0,\n",
    "    \"kafka_config\": {\n",
    "        \"bootstrap.servers\": \"127.0.0.1:9092\",\n",
    "    }\n",
    "}\n",
    "\n",
    "confluent_kafka_output: ConfluentKafkaOutput = Factory.create({\"my_kafka\": config})\n",
    "\n",
    "\n",
    "events: Iterator = [\n",
    "    LogEvent({\"message\": f\"Event {i}\", \"@timestamp\": str(TimeParser.now())}, original=b\"\", state=EventStateType.PROCESSED)\n",
    "    for i in range(10)\n",
    "]\n",
    "\n",
    "# store events in the Opensearch output\n",
    "for event in events:\n",
    "    confluent_kafka_output.store(event)\n",
    "\n",
    "# event goes to state STORED_IN_OUTPUT first and then after callback from librdkafka it will be changed to DELIVERED\n",
    "# assert events[-1].state == EventStateType.STORED_IN_OUTPUT\n",
    "\n",
    "# Flush the output to ensure all events are sent\n",
    "confluent_kafka_output.shut_down()\n"
   ]
  },
  {
   "cell_type": "code",
   "execution_count": 25,
   "metadata": {},
   "outputs": [
    {
     "name": "stdout",
     "output_type": "stream",
     "text": [
      "Events total: 10\n",
      "Events in delivered state: 10\n",
      "Events not delivered: []\n"
     ]
    }
   ],
   "source": [
    "print(f\"Events total: {len(events)}\")\n",
    "print(f\"Events in delivered state: {len([e for e in events if e.state == EventStateType.DELIVERED])}\")\n",
    "\n",
    "print(f\"Events not delivered: {[event for event in events if event.state != EventStateType.DELIVERED]}\")\n",
    "\n",
    "\n",
    "# Verify that all events are delivered\n",
    "for event in events:\n",
    "    assert event.state == EventStateType.DELIVERED, f\"Event {event.data['message']} not delivered | State: {event.state}\""
   ]
  },
  {
   "cell_type": "markdown",
   "metadata": {},
   "source": [
    "The following case demonstrates error handling in the confluent_kafka output.\n",
    "We delete the consumer topic.\n",
    "This should provoke an error for that unknown topic an partition"
   ]
  },
  {
   "cell_type": "code",
   "execution_count": 26,
   "metadata": {
    "vscode": {
     "languageId": "shellscript"
    }
   },
   "outputs": [],
   "source": [
    "%%bash\n",
    "\n",
    "docker compose -f ../../../../../examples/compose/docker-compose.yml exec -it kafka \\\n",
    "    kafka-topics.sh --bootstrap-server localhost:9092 --delete --topic consumer \n",
    "docker compose -f ../../../../../examples/compose/docker-compose.yml exec -it kafka \\\n",
    "    kafka-topics.sh --bootstrap-server localhost:9092 --list\n",
    "docker compose -f ../../../../../examples/compose/docker-compose.yml exec -it kafka \\\n",
    "    kafka--server-start.sh --override auto.create.topics.enable=false"
   ]
  },
  {
   "cell_type": "code",
   "execution_count": 27,
   "metadata": {},
   "outputs": [
    {
     "name": "stdout",
     "output_type": "stream",
     "text": [
      "DEBUG:KafkaOutput:Produced message {'message': 'Event 0', '@timestamp': '2025-07-28 11:25:37.130969+00:00'} to topic consumer\n",
      "DEBUG:KafkaOutput:Produced message {'message': 'Event 1', '@timestamp': '2025-07-28 11:25:37.131011+00:00'} to topic consumer\n",
      "DEBUG:KafkaOutput:Produced message {'message': 'Event 2', '@timestamp': '2025-07-28 11:25:37.131026+00:00'} to topic consumer\n",
      "DEBUG:KafkaOutput:Produced message {'message': 'Event 3', '@timestamp': '2025-07-28 11:25:37.131037+00:00'} to topic consumer\n",
      "DEBUG:KafkaOutput:Produced message {'message': 'Event 4', '@timestamp': '2025-07-28 11:25:37.131047+00:00'} to topic consumer\n",
      "DEBUG:KafkaOutput:Produced message {'message': 'Event 5', '@timestamp': '2025-07-28 11:25:37.131056+00:00'} to topic consumer\n",
      "DEBUG:KafkaOutput:Produced message {'message': 'Event 6', '@timestamp': '2025-07-28 11:25:37.131066+00:00'} to topic consumer\n",
      "DEBUG:KafkaOutput:Produced message {'message': 'Event 7', '@timestamp': '2025-07-28 11:25:37.131075+00:00'} to topic consumer\n",
      "DEBUG:KafkaOutput:Produced message {'message': 'Event 8', '@timestamp': '2025-07-28 11:25:37.131084+00:00'} to topic consumer\n",
      "DEBUG:KafkaOutput:Produced message {'message': 'Event 9', '@timestamp': '2025-07-28 11:25:37.131093+00:00'} to topic consumer\n",
      "DEBUG:KafkaOutput:Message delivered to 'consumer' partition 0, offset 0\n",
      "DEBUG:KafkaOutput:Message delivered to 'consumer' partition 0, offset 1\n",
      "DEBUG:KafkaOutput:Message delivered to 'consumer' partition 0, offset 2\n",
      "DEBUG:KafkaOutput:Message delivered to 'consumer' partition 0, offset 3\n",
      "DEBUG:KafkaOutput:Message delivered to 'consumer' partition 0, offset 4\n",
      "DEBUG:KafkaOutput:Message delivered to 'consumer' partition 0, offset 5\n",
      "DEBUG:KafkaOutput:Message delivered to 'consumer' partition 0, offset 6\n",
      "DEBUG:KafkaOutput:Message delivered to 'consumer' partition 0, offset 7\n",
      "DEBUG:KafkaOutput:Message delivered to 'consumer' partition 0, offset 8\n",
      "DEBUG:KafkaOutput:Message delivered to 'consumer' partition 0, offset 9\n",
      "INFO:KafkaOutput:Producer flushed successfully. 0 messages remaining.\n"
     ]
    },
    {
     "ename": "AssertionError",
     "evalue": "",
     "output_type": "error",
     "traceback": [
      "\u001b[31m---------------------------------------------------------------------------\u001b[39m",
      "\u001b[31mAssertionError\u001b[39m                            Traceback (most recent call last)",
      "\u001b[36mCell\u001b[39m\u001b[36m \u001b[39m\u001b[32mIn[27]\u001b[39m\u001b[32m, line 14\u001b[39m\n\u001b[32m     12\u001b[39m \u001b[38;5;66;03m# Verify that all events are delivered\u001b[39;00m\n\u001b[32m     13\u001b[39m \u001b[38;5;28;01mfor\u001b[39;00m event \u001b[38;5;129;01min\u001b[39;00m events:\n\u001b[32m---> \u001b[39m\u001b[32m14\u001b[39m     \u001b[38;5;28;01massert\u001b[39;00m event.state == EventStateType.FAILED\n\u001b[32m     15\u001b[39m     \u001b[38;5;28;01massert\u001b[39;00m \u001b[38;5;28mlen\u001b[39m(event.errors) == \u001b[32m1\u001b[39m\n\u001b[32m     16\u001b[39m     \u001b[38;5;28mprint\u001b[39m (\u001b[33mf\u001b[39m\u001b[33m\"\u001b[39m\u001b[33mEvent \u001b[39m\u001b[38;5;132;01m{\u001b[39;00mevent.data[\u001b[33m'\u001b[39m\u001b[33mmessage\u001b[39m\u001b[33m'\u001b[39m]\u001b[38;5;132;01m}\u001b[39;00m\u001b[33m failed with error: \u001b[39m\u001b[38;5;132;01m{\u001b[39;00mevent.errors[\u001b[32m0\u001b[39m]\u001b[38;5;132;01m}\u001b[39;00m\u001b[33m\"\u001b[39m)\n",
      "\u001b[31mAssertionError\u001b[39m: "
     ]
    }
   ],
   "source": [
    "events: Iterator = [\n",
    "    LogEvent({\"message\": f\"Event {i}\", \"@timestamp\": str(TimeParser.now())}, original=b\"\", state=EventStateType.PROCESSED)\n",
    "    for i in range(10)\n",
    "]\n",
    "\n",
    "# store events in the Confluent Kafka output\n",
    "for event in events:\n",
    "    confluent_kafka_output.store(event)\n",
    "\n",
    "# Flush the output to ensure all events are sent\n",
    "confluent_kafka_output.flush()\n",
    "# Verify that all events are delivered\n",
    "for event in events:\n",
    "    assert event.state == EventStateType.FAILED\n",
    "    assert len(event.errors) == 1\n",
    "    print (f\"Event {event.data['message']} failed with error: {event.errors[0]}\")"
   ]
  }
 ],
 "metadata": {
  "kernelspec": {
   "display_name": ".venv",
   "language": "python",
   "name": "python3"
  },
  "language_info": {
   "codemirror_mode": {
    "name": "ipython",
    "version": 3
   },
   "file_extension": ".py",
   "mimetype": "text/x-python",
   "name": "python",
   "nbconvert_exporter": "python",
   "pygments_lexer": "ipython3",
   "version": "3.12.3"
  },
  "orig_nbformat": 4
 },
 "nbformat": 4,
 "nbformat_minor": 2
}
