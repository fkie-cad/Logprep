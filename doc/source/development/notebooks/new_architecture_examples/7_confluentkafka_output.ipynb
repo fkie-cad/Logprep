{
 "cells": [
  {
   "cell_type": "markdown",
   "metadata": {},
   "source": [
    "# Usage of ConfluentKafka Output Connector with Event Objects\n"
   ]
  },
  {
   "cell_type": "markdown",
   "metadata": {},
   "source": [
    "The following example demonstrates the delivery of events to the opensearch output connector"
   ]
  },
  {
   "cell_type": "code",
   "execution_count": 11,
   "metadata": {
    "vscode": {
     "languageId": "shellscript"
    }
   },
   "outputs": [
    {
     "name": "stderr",
     "output_type": "stream",
     "text": [
      " Container kafka  Stopping\n",
      " Container kafka  Stopped\n",
      " Container kafka  Removing\n",
      " Container kafka  Removed\n",
      " Network compose_kafka  Removing\n",
      " Network compose_kafka  Removed\n",
      " Network compose_kafka  Creating\n",
      " Network compose_kafka  Created\n",
      " Container kafka  Creating\n",
      " Container kafka  Created\n",
      " Container kafka  Starting\n",
      " Container kafka  Started\n"
     ]
    }
   ],
   "source": [
    "%%bash\n",
    "docker compose -f ../../../../../examples/compose/docker-compose.yml down -v  \n",
    "docker compose -f ../../../../../examples/compose/docker-compose.yml up -d kafka\n"
   ]
  },
  {
   "cell_type": "code",
   "execution_count": 12,
   "metadata": {},
   "outputs": [
    {
     "name": "stdout",
     "output_type": "stream",
     "text": [
      "DEBUG:KafkaOutput:Produced message {'message': 'Event 0', '@timestamp': '2025-07-28 12:20:58.315970+00:00'} to topic consumer\n",
      "DEBUG:KafkaOutput:Produced message {'message': 'Event 1', '@timestamp': '2025-07-28 12:20:58.316000+00:00'} to topic consumer\n",
      "DEBUG:KafkaOutput:Produced message {'message': 'Event 2', '@timestamp': '2025-07-28 12:20:58.316009+00:00'} to topic consumer\n",
      "DEBUG:KafkaOutput:Produced message {'message': 'Event 3', '@timestamp': '2025-07-28 12:20:58.316016+00:00'} to topic consumer\n",
      "DEBUG:KafkaOutput:Produced message {'message': 'Event 4', '@timestamp': '2025-07-28 12:20:58.316023+00:00'} to topic consumer\n",
      "DEBUG:KafkaOutput:Produced message {'message': 'Event 5', '@timestamp': '2025-07-28 12:20:58.316029+00:00'} to topic consumer\n",
      "DEBUG:KafkaOutput:Produced message {'message': 'Event 6', '@timestamp': '2025-07-28 12:20:58.316035+00:00'} to topic consumer\n",
      "DEBUG:KafkaOutput:Produced message {'message': 'Event 7', '@timestamp': '2025-07-28 12:20:58.316042+00:00'} to topic consumer\n",
      "DEBUG:KafkaOutput:Produced message {'message': 'Event 8', '@timestamp': '2025-07-28 12:20:58.316048+00:00'} to topic consumer\n",
      "DEBUG:KafkaOutput:Produced message {'message': 'Event 9', '@timestamp': '2025-07-28 12:20:58.316054+00:00'} to topic consumer\n",
      "DEBUG:KafkaOutput:Message delivered to 'consumer' partition 0, offset 0\n",
      "DEBUG:KafkaOutput:Message delivered to 'consumer' partition 0, offset 1\n",
      "DEBUG:KafkaOutput:Message delivered to 'consumer' partition 0, offset 2\n",
      "DEBUG:KafkaOutput:Message delivered to 'consumer' partition 1, offset 0\n",
      "DEBUG:KafkaOutput:Message delivered to 'consumer' partition 1, offset 1\n",
      "DEBUG:KafkaOutput:Message delivered to 'consumer' partition 1, offset 2\n",
      "DEBUG:KafkaOutput:Message delivered to 'consumer' partition 2, offset 0\n",
      "DEBUG:KafkaOutput:Message delivered to 'consumer' partition 3, offset 0\n",
      "DEBUG:KafkaOutput:Message delivered to 'consumer' partition 3, offset 1\n",
      "DEBUG:KafkaOutput:Message delivered to 'consumer' partition 3, offset 2\n",
      "INFO:KafkaOutput:Producer flushed successfully. 0 messages remaining.\n"
     ]
    }
   ],
   "source": [
    "from typing import Iterator\n",
    "from logprep.factory import Factory\n",
    "from logprep.util.time import TimeParser\n",
    "from logprep.ng.connector.confluent_kafka.output import ConfluentKafkaOutput\n",
    "from logprep.ng.event.log_event import LogEvent\n",
    "from logprep.ng.event.event_state import EventStateType\n",
    "import logging\n",
    "import sys\n",
    "\n",
    "# Configure logging\n",
    "logging.basicConfig(\n",
    "    level=logging.DEBUG, \n",
    "    stream=sys.stdout\n",
    ")\n",
    "\n",
    "\n",
    "config = {\n",
    "    \"type\": \"ng_confluentkafka_output\",\n",
    "    \"topic\": \"consumer\",\n",
    "    \"flush_timeout\": 300,\n",
    "    \"send_timeout\": 0,\n",
    "    \"kafka_config\": {\n",
    "        \"bootstrap.servers\": \"127.0.0.1:9092\"\n",
    "    }\n",
    "}\n",
    "\n",
    "confluent_kafka_output: ConfluentKafkaOutput = Factory.create({\"my_kafka\": config})\n",
    "\n",
    "\n",
    "events: Iterator = [\n",
    "    LogEvent({\"message\": f\"Event {i}\", \"@timestamp\": str(TimeParser.now())}, original=b\"\", state=EventStateType.PROCESSED)\n",
    "    for i in range(10)\n",
    "]\n",
    "\n",
    "# store events in the Opensearch output\n",
    "for event in events:\n",
    "    confluent_kafka_output.store(event)\n",
    "\n",
    "# event goes to state STORED_IN_OUTPUT first and then after callback from librdkafka it will be changed to DELIVERED\n",
    "# assert events[-1].state == EventStateType.STORED_IN_OUTPUT\n",
    "\n",
    "# Flush the output to ensure all events are sent\n",
    "confluent_kafka_output.shut_down()\n"
   ]
  },
  {
   "cell_type": "code",
   "execution_count": 13,
   "metadata": {},
   "outputs": [
    {
     "name": "stdout",
     "output_type": "stream",
     "text": [
      "Events total: 10\n",
      "Events in delivered state: 10\n",
      "Events not delivered: []\n"
     ]
    }
   ],
   "source": [
    "print(f\"Events total: {len(events)}\")\n",
    "print(f\"Events in delivered state: {len([e for e in events if e.state == EventStateType.DELIVERED])}\")\n",
    "\n",
    "print(f\"Events not delivered: {[event for event in events if event.state != EventStateType.DELIVERED]}\")\n",
    "\n",
    "\n",
    "# Verify that all events are delivered\n",
    "for event in events:\n",
    "    assert event.state == EventStateType.DELIVERED, f\"Event {event.data['message']} not delivered | State: {event.state}\""
   ]
  },
  {
   "cell_type": "markdown",
   "metadata": {},
   "source": [
    "The following case demonstrates error handling in the confluent_kafka output.\n",
    "We try to send to a non existing topic.\n",
    "This should provoke an error for that unknown topic or partition."
   ]
  },
  {
   "cell_type": "code",
   "execution_count": 18,
   "metadata": {},
   "outputs": [
    {
     "name": "stdout",
     "output_type": "stream",
     "text": [
      "DEBUG:KafkaOutput:Produced message {'message': 'Event 0', '@timestamp': '2025-07-28 12:22:46.655884+00:00'} to topic non_existent_topic\n",
      "ERROR:KafkaOutput:Message delivery failed: KafkaError{code=UNKNOWN_TOPIC_OR_PART,val=3,str=\"Broker: Unknown topic or partition\"}\n",
      "ERROR:KafkaOutput:Message delivery failed: KafkaError{code=UNKNOWN_TOPIC_OR_PART,val=3,str=\"Broker: Unknown topic or partition\"}\n",
      "ERROR:KafkaOutput:Message delivery failed: KafkaError{code=UNKNOWN_TOPIC_OR_PART,val=3,str=\"Broker: Unknown topic or partition\"}\n",
      "ERROR:KafkaOutput:Message delivery failed: KafkaError{code=UNKNOWN_TOPIC_OR_PART,val=3,str=\"Broker: Unknown topic or partition\"}\n",
      "ERROR:KafkaOutput:Message delivery failed: KafkaError{code=UNKNOWN_TOPIC_OR_PART,val=3,str=\"Broker: Unknown topic or partition\"}\n",
      "ERROR:KafkaOutput:Message delivery failed: KafkaError{code=UNKNOWN_TOPIC_OR_PART,val=3,str=\"Broker: Unknown topic or partition\"}\n",
      "ERROR:KafkaOutput:Message delivery failed: KafkaError{code=UNKNOWN_TOPIC_OR_PART,val=3,str=\"Broker: Unknown topic or partition\"}\n",
      "ERROR:KafkaOutput:Message delivery failed: KafkaError{code=UNKNOWN_TOPIC_OR_PART,val=3,str=\"Broker: Unknown topic or partition\"}\n",
      "ERROR:KafkaOutput:Message delivery failed: KafkaError{code=UNKNOWN_TOPIC_OR_PART,val=3,str=\"Broker: Unknown topic or partition\"}\n",
      "ERROR:KafkaOutput:Message delivery failed: KafkaError{code=UNKNOWN_TOPIC_OR_PART,val=3,str=\"Broker: Unknown topic or partition\"}\n",
      "ERROR:KafkaOutput:Message delivery failed: KafkaError{code=UNKNOWN_TOPIC_OR_PART,val=3,str=\"Broker: Unknown topic or partition\"}\n",
      "ERROR:KafkaOutput:Message delivery failed: KafkaError{code=UNKNOWN_TOPIC_OR_PART,val=3,str=\"Broker: Unknown topic or partition\"}\n",
      "ERROR:KafkaOutput:Message delivery failed: KafkaError{code=UNKNOWN_TOPIC_OR_PART,val=3,str=\"Broker: Unknown topic or partition\"}\n",
      "ERROR:KafkaOutput:Message delivery failed: KafkaError{code=UNKNOWN_TOPIC_OR_PART,val=3,str=\"Broker: Unknown topic or partition\"}\n",
      "ERROR:KafkaOutput:Message delivery failed: KafkaError{code=UNKNOWN_TOPIC_OR_PART,val=3,str=\"Broker: Unknown topic or partition\"}\n",
      "ERROR:KafkaOutput:Message delivery failed: KafkaError{code=UNKNOWN_TOPIC_OR_PART,val=3,str=\"Broker: Unknown topic or partition\"}\n",
      "ERROR:KafkaOutput:Message delivery failed: KafkaError{code=UNKNOWN_TOPIC_OR_PART,val=3,str=\"Broker: Unknown topic or partition\"}\n",
      "ERROR:KafkaOutput:Message delivery failed: KafkaError{code=UNKNOWN_TOPIC_OR_PART,val=3,str=\"Broker: Unknown topic or partition\"}\n",
      "ERROR:KafkaOutput:Message delivery failed: KafkaError{code=UNKNOWN_TOPIC_OR_PART,val=3,str=\"Broker: Unknown topic or partition\"}\n",
      "ERROR:KafkaOutput:Message delivery failed: KafkaError{code=UNKNOWN_TOPIC_OR_PART,val=3,str=\"Broker: Unknown topic or partition\"}\n",
      "DEBUG:KafkaOutput:Produced message {'message': 'Event 1', '@timestamp': '2025-07-28 12:22:46.655930+00:00'} to topic non_existent_topic\n",
      "DEBUG:KafkaOutput:Produced message {'message': 'Event 2', '@timestamp': '2025-07-28 12:22:46.655947+00:00'} to topic non_existent_topic\n",
      "DEBUG:KafkaOutput:Produced message {'message': 'Event 3', '@timestamp': '2025-07-28 12:22:46.655958+00:00'} to topic non_existent_topic\n",
      "DEBUG:KafkaOutput:Produced message {'message': 'Event 4', '@timestamp': '2025-07-28 12:22:46.655968+00:00'} to topic non_existent_topic\n",
      "DEBUG:KafkaOutput:Produced message {'message': 'Event 5', '@timestamp': '2025-07-28 12:22:46.655978+00:00'} to topic non_existent_topic\n",
      "DEBUG:KafkaOutput:Produced message {'message': 'Event 6', '@timestamp': '2025-07-28 12:22:46.655987+00:00'} to topic non_existent_topic\n",
      "DEBUG:KafkaOutput:Produced message {'message': 'Event 7', '@timestamp': '2025-07-28 12:22:46.655996+00:00'} to topic non_existent_topic\n",
      "DEBUG:KafkaOutput:Produced message {'message': 'Event 8', '@timestamp': '2025-07-28 12:22:46.656005+00:00'} to topic non_existent_topic\n",
      "DEBUG:KafkaOutput:Produced message {'message': 'Event 9', '@timestamp': '2025-07-28 12:22:46.656014+00:00'} to topic non_existent_topic\n"
     ]
    },
    {
     "ename": "KeyboardInterrupt",
     "evalue": "",
     "output_type": "error",
     "traceback": [
      "\u001b[31m---------------------------------------------------------------------------\u001b[39m",
      "\u001b[31mKeyboardInterrupt\u001b[39m                         Traceback (most recent call last)",
      "\u001b[36mCell\u001b[39m\u001b[36m \u001b[39m\u001b[32mIn[18]\u001b[39m\u001b[32m, line 11\u001b[39m\n\u001b[32m      8\u001b[39m     confluent_kafka_output.store_custom(event, \u001b[33m\"\u001b[39m\u001b[33mnon_existent_topic\u001b[39m\u001b[33m\"\u001b[39m)\n\u001b[32m     10\u001b[39m \u001b[38;5;66;03m# Flush the output to ensure all events are sent\u001b[39;00m\n\u001b[32m---> \u001b[39m\u001b[32m11\u001b[39m \u001b[43mconfluent_kafka_output\u001b[49m\u001b[43m.\u001b[49m\u001b[43mflush\u001b[49m\u001b[43m(\u001b[49m\u001b[43m)\u001b[49m\n\u001b[32m     12\u001b[39m \u001b[38;5;66;03m# Verify that all events are delivered\u001b[39;00m\n\u001b[32m     13\u001b[39m \u001b[38;5;28;01mfor\u001b[39;00m event \u001b[38;5;129;01min\u001b[39;00m events:\n",
      "\u001b[36mFile \u001b[39m\u001b[32m~/Logprep/logprep/ng/connector/confluent_kafka/output.py:316\u001b[39m, in \u001b[36mConfluentKafkaOutput.flush\u001b[39m\u001b[34m(self)\u001b[39m\n\u001b[32m    314\u001b[39m \u001b[38;5;28;01mif\u001b[39;00m \u001b[38;5;28mself\u001b[39m._producer \u001b[38;5;129;01mis\u001b[39;00m \u001b[38;5;28;01mNone\u001b[39;00m:\n\u001b[32m    315\u001b[39m     \u001b[38;5;28;01mreturn\u001b[39;00m\n\u001b[32m--> \u001b[39m\u001b[32m316\u001b[39m remaining_messages = \u001b[38;5;28;43mself\u001b[39;49m\u001b[43m.\u001b[49m\u001b[43m_producer\u001b[49m\u001b[43m.\u001b[49m\u001b[43mflush\u001b[49m\u001b[43m(\u001b[49m\u001b[43m)\u001b[49m\n\u001b[32m    317\u001b[39m \u001b[38;5;28;01mif\u001b[39;00m remaining_messages:\n\u001b[32m    318\u001b[39m     \u001b[38;5;28mself\u001b[39m.metrics.number_of_errors += \u001b[32m1\u001b[39m\n",
      "\u001b[36mFile \u001b[39m\u001b[32m~/Logprep/logprep/ng/connector/confluent_kafka/output.py:238\u001b[39m, in \u001b[36mConfluentKafkaOutput._stats_callback\u001b[39m\u001b[34m(self, stats_raw)\u001b[39m\n\u001b[32m    235\u001b[39m     \u001b[38;5;28mself\u001b[39m.metrics.number_of_errors += \u001b[32m1\u001b[39m\n\u001b[32m    236\u001b[39m     logger.error(\u001b[33m\"\u001b[39m\u001b[38;5;132;01m%s\u001b[39;00m\u001b[33m: \u001b[39m\u001b[38;5;132;01m%s\u001b[39;00m\u001b[33m\"\u001b[39m, \u001b[38;5;28mself\u001b[39m.describe(), error)\n\u001b[32m--> \u001b[39m\u001b[32m238\u001b[39m \u001b[38;5;28;01mdef\u001b[39;00m\u001b[38;5;250m \u001b[39m\u001b[34m_stats_callback\u001b[39m(\u001b[38;5;28mself\u001b[39m, stats_raw: \u001b[38;5;28mstr\u001b[39m) -> \u001b[38;5;28;01mNone\u001b[39;00m:\n\u001b[32m    239\u001b[39m \u001b[38;5;250m    \u001b[39m\u001b[33;03m\"\"\"Callback for statistics data. This callback is triggered by poll()\u001b[39;00m\n\u001b[32m    240\u001b[39m \u001b[33;03m    or flush every `statistics.interval.ms` (needs to be configured separately)\u001b[39;00m\n\u001b[32m    241\u001b[39m \n\u001b[32m   (...)\u001b[39m\u001b[32m    247\u001b[39m \u001b[33;03m        https://github.com/confluentinc/librdkafka/blob/master/STATISTICS.md\u001b[39;00m\n\u001b[32m    248\u001b[39m \u001b[33;03m    \"\"\"\u001b[39;00m\n\u001b[32m    249\u001b[39m     stats = \u001b[38;5;28mself\u001b[39m._decoder.decode(stats_raw)\n",
      "\u001b[31mKeyboardInterrupt\u001b[39m: "
     ]
    }
   ],
   "source": [
    "events: Iterator = [\n",
    "    LogEvent({\"message\": f\"Event {i}\", \"@timestamp\": str(TimeParser.now())}, original=b\"\", state=EventStateType.PROCESSED)\n",
    "    for i in range(10)\n",
    "]\n",
    "\n",
    "# store events in the Confluent Kafka output\n",
    "for event in events:\n",
    "    confluent_kafka_output.store_custom(event, \"non_existent_topic\")\n",
    "\n",
    "# Flush the output to ensure all events are sent\n",
    "confluent_kafka_output.flush()\n",
    "# Verify that all events are delivered\n",
    "for event in events:\n",
    "    assert event.state == EventStateType.FAILED\n",
    "    assert len(event.errors) == 1\n",
    "    print (f\"Event {event.data['message']} failed with error: {event.errors[0]}\")"
   ]
  }
 ],
 "metadata": {
  "kernelspec": {
   "display_name": ".venv",
   "language": "python",
   "name": "python3"
  },
  "language_info": {
   "codemirror_mode": {
    "name": "ipython",
    "version": 3
   },
   "file_extension": ".py",
   "mimetype": "text/x-python",
   "name": "python",
   "nbconvert_exporter": "python",
   "pygments_lexer": "ipython3",
   "version": "3.12.3"
  },
  "orig_nbformat": 4
 },
 "nbformat": 4,
 "nbformat_minor": 2
}
