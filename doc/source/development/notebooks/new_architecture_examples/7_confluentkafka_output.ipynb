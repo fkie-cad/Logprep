{
 "cells": [
  {
   "cell_type": "markdown",
   "metadata": {},
   "source": [
    "# Usage of ConfluentKafka Output Connector with Event Objects\n"
   ]
  },
  {
   "cell_type": "markdown",
   "metadata": {},
   "source": [
    "The following example demonstrates the delivery of events to the opensearch output connector"
   ]
  },
  {
   "cell_type": "code",
   "metadata": {
    "vscode": {
     "languageId": "shellscript"
    },
    "ExecuteTime": {
     "end_time": "2025-08-22T07:54:51.171265Z",
     "start_time": "2025-08-22T07:54:49.692601Z"
    }
   },
   "source": [
    "%%bash\n",
    "docker compose -f ../../../../../examples/compose/docker-compose.yml down -v  \n",
    "docker compose -f ../../../../../examples/compose/docker-compose.yml up -d kafka\n"
   ],
   "outputs": [
    {
     "name": "stderr",
     "output_type": "stream",
     "text": [
      "bash: warning: setlocale: LC_ALL: cannot change locale (en_US.UTF-8)\n",
      " Container dashboards  Stopping\n",
      " Container dashboards  Stopped\n",
      " Container dashboards  Removing\n",
      " Container dashboards  Removed\n",
      " Container opensearch  Stopping\n",
      " Container opensearch  Stopped\n",
      " Container opensearch  Removing\n",
      " Container opensearch  Removed\n",
      " Network compose_opensearch  Removing\n",
      " Volume compose_opensearch-data  Removing\n",
      " Volume compose_opensearch-data  Removed\n",
      " Network compose_opensearch  Removed\n",
      " Network compose_kafka  Creating\n",
      " Network compose_kafka  Created\n",
      " Container kafka  Creating\n",
      " Container kafka  Created\n",
      " Container kafka  Starting\n",
      " Container kafka  Started\n"
     ]
    }
   ],
   "execution_count": 1
  },
  {
   "cell_type": "code",
   "metadata": {
    "ExecuteTime": {
     "end_time": "2025-08-22T07:55:09.211652Z",
     "start_time": "2025-08-22T07:54:54.845660Z"
    }
   },
   "source": [
    "from typing import Iterator\n",
    "from logprep.factory import Factory\n",
    "from logprep.util.time import TimeParser\n",
    "from logprep.ng.connector.confluent_kafka.output import ConfluentKafkaOutput\n",
    "from logprep.event.log_event import LogEvent\n",
    "from logprep.event.event_state import EventStateType\n",
    "import logging\n",
    "import sys\n",
    "\n",
    "# Configure logging\n",
    "logging.basicConfig(\n",
    "    level=logging.DEBUG, \n",
    "    stream=sys.stdout\n",
    ")\n",
    "\n",
    "\n",
    "config = {\n",
    "    \"type\": \"ng_confluentkafka_output\",\n",
    "    \"topic\": \"consumer\",\n",
    "    \"flush_timeout\": 300,\n",
    "    \"send_timeout\": 0,\n",
    "    \"kafka_config\": {\n",
    "        \"bootstrap.servers\": \"127.0.0.1:9092\"\n",
    "    }\n",
    "}\n",
    "\n",
    "confluent_kafka_output: ConfluentKafkaOutput = Factory.create({\"my_kafka\": config})\n",
    "\n",
    "\n",
    "events: Iterator = [\n",
    "    LogEvent({\"message\": f\"Event {i}\", \"@timestamp\": str(TimeParser.now())}, original=b\"\", state=EventStateType.PROCESSED)\n",
    "    for i in range(10)\n",
    "]\n",
    "\n",
    "# store events in the Opensearch output\n",
    "for event in events:\n",
    "    confluent_kafka_output.store(event)\n",
    "\n",
    "# event goes to state STORED_IN_OUTPUT first and then after callback from librdkafka it will be changed to DELIVERED\n",
    "# assert events[-1].state == EventStateType.STORED_IN_OUTPUT\n",
    "\n",
    "# Flush the output to ensure all events are sent\n",
    "confluent_kafka_output.shut_down()\n"
   ],
   "outputs": [
    {
     "name": "stdout",
     "output_type": "stream",
     "text": [
      "DEBUG:KafkaOutput:Produced message {'message': 'Event 0', '@timestamp': '2025-08-22 07:54:56.171586+00:00'} to topic consumer\n",
      "DEBUG:KafkaOutput:Produced message {'message': 'Event 1', '@timestamp': '2025-08-22 07:54:56.171617+00:00'} to topic consumer\n",
      "DEBUG:KafkaOutput:Produced message {'message': 'Event 2', '@timestamp': '2025-08-22 07:54:56.171626+00:00'} to topic consumer\n",
      "DEBUG:KafkaOutput:Produced message {'message': 'Event 3', '@timestamp': '2025-08-22 07:54:56.171631+00:00'} to topic consumer\n",
      "DEBUG:KafkaOutput:Produced message {'message': 'Event 4', '@timestamp': '2025-08-22 07:54:56.171635+00:00'} to topic consumer\n",
      "DEBUG:KafkaOutput:Produced message {'message': 'Event 5', '@timestamp': '2025-08-22 07:54:56.171639+00:00'} to topic consumer\n",
      "DEBUG:KafkaOutput:Produced message {'message': 'Event 6', '@timestamp': '2025-08-22 07:54:56.171643+00:00'} to topic consumer\n",
      "DEBUG:KafkaOutput:Produced message {'message': 'Event 7', '@timestamp': '2025-08-22 07:54:56.171646+00:00'} to topic consumer\n",
      "DEBUG:KafkaOutput:Produced message {'message': 'Event 8', '@timestamp': '2025-08-22 07:54:56.171650+00:00'} to topic consumer\n",
      "DEBUG:KafkaOutput:Produced message {'message': 'Event 9', '@timestamp': '2025-08-22 07:54:56.171653+00:00'} to topic consumer\n",
      "DEBUG:KafkaOutput:Message delivered to 'consumer' partition 1, offset 0\n",
      "DEBUG:KafkaOutput:Message delivered to 'consumer' partition 1, offset 1\n",
      "DEBUG:KafkaOutput:Message delivered to 'consumer' partition 1, offset 2\n",
      "DEBUG:KafkaOutput:Message delivered to 'consumer' partition 1, offset 3\n",
      "DEBUG:KafkaOutput:Message delivered to 'consumer' partition 1, offset 4\n",
      "DEBUG:KafkaOutput:Message delivered to 'consumer' partition 1, offset 5\n",
      "DEBUG:KafkaOutput:Message delivered to 'consumer' partition 1, offset 6\n",
      "DEBUG:KafkaOutput:Message delivered to 'consumer' partition 1, offset 7\n",
      "DEBUG:KafkaOutput:Message delivered to 'consumer' partition 1, offset 8\n",
      "DEBUG:KafkaOutput:Message delivered to 'consumer' partition 1, offset 9\n",
      "INFO:KafkaOutput:Producer flushed successfully. 0 messages remaining.\n"
     ]
    }
   ],
   "execution_count": 2
  },
  {
   "cell_type": "code",
   "metadata": {
    "ExecuteTime": {
     "end_time": "2025-08-22T07:55:12.516861Z",
     "start_time": "2025-08-22T07:55:12.513634Z"
    }
   },
   "source": [
    "print(f\"Events total: {len(events)}\")\n",
    "print(f\"Events in delivered state: {len([e for e in events if e.state == EventStateType.DELIVERED])}\")\n",
    "\n",
    "print(f\"Events not delivered: {[event for event in events if event.state != EventStateType.DELIVERED]}\")\n",
    "\n",
    "\n",
    "# Verify that all events are delivered\n",
    "for event in events:\n",
    "    assert event.state == EventStateType.DELIVERED, f\"Event {event.data['message']} not delivered | State: {event.state}\""
   ],
   "outputs": [
    {
     "name": "stdout",
     "output_type": "stream",
     "text": [
      "Events total: 10\n",
      "Events in delivered state: 10\n",
      "Events not delivered: []\n"
     ]
    }
   ],
   "execution_count": 3
  },
  {
   "cell_type": "markdown",
   "metadata": {},
   "source": [
    "The following case demonstrates error handling in the confluent_kafka output.\n",
    "We try to send to a non existing topic.\n",
    "This should provoke an error for that unknown topic or partition."
   ]
  },
  {
   "cell_type": "code",
   "metadata": {
    "ExecuteTime": {
     "end_time": "2025-08-22T07:55:44.567731Z",
     "start_time": "2025-08-22T07:55:14.544247Z"
    }
   },
   "source": [
    "events: Iterator = [\n",
    "    LogEvent({\"message\": f\"Event {i}\", \"@timestamp\": str(TimeParser.now())}, original=b\"\", state=EventStateType.PROCESSED)\n",
    "    for i in range(10)\n",
    "]\n",
    "\n",
    "# store events in the Confluent Kafka output\n",
    "for event in events:\n",
    "    confluent_kafka_output.store_custom(event, \"non_existent_topic\")\n",
    "\n",
    "# Flush the output to ensure all events are sent\n",
    "confluent_kafka_output.flush()\n",
    "# Verify that all events are delivered\n",
    "for event in events:\n",
    "    assert event.state == EventStateType.FAILED\n",
    "    assert len(event.errors) == 1\n",
    "    print (f\"Event {event.data['message']} failed with error: {event.errors[0]}\")"
   ],
   "outputs": [
    {
     "name": "stdout",
     "output_type": "stream",
     "text": [
      "DEBUG:KafkaOutput:Produced message {'message': 'Event 0', '@timestamp': '2025-08-22 07:55:14.546877+00:00'} to topic non_existent_topic\n",
      "DEBUG:KafkaOutput:Produced message {'message': 'Event 1', '@timestamp': '2025-08-22 07:55:14.546911+00:00'} to topic non_existent_topic\n",
      "DEBUG:KafkaOutput:Produced message {'message': 'Event 2', '@timestamp': '2025-08-22 07:55:14.546922+00:00'} to topic non_existent_topic\n",
      "DEBUG:KafkaOutput:Produced message {'message': 'Event 3', '@timestamp': '2025-08-22 07:55:14.546929+00:00'} to topic non_existent_topic\n",
      "DEBUG:KafkaOutput:Produced message {'message': 'Event 4', '@timestamp': '2025-08-22 07:55:14.546936+00:00'} to topic non_existent_topic\n",
      "DEBUG:KafkaOutput:Produced message {'message': 'Event 5', '@timestamp': '2025-08-22 07:55:14.546949+00:00'} to topic non_existent_topic\n",
      "DEBUG:KafkaOutput:Produced message {'message': 'Event 6', '@timestamp': '2025-08-22 07:55:14.546957+00:00'} to topic non_existent_topic\n",
      "DEBUG:KafkaOutput:Produced message {'message': 'Event 7', '@timestamp': '2025-08-22 07:55:14.546964+00:00'} to topic non_existent_topic\n",
      "DEBUG:KafkaOutput:Produced message {'message': 'Event 8', '@timestamp': '2025-08-22 07:55:14.546970+00:00'} to topic non_existent_topic\n",
      "DEBUG:KafkaOutput:Produced message {'message': 'Event 9', '@timestamp': '2025-08-22 07:55:14.546977+00:00'} to topic non_existent_topic\n",
      "ERROR:KafkaOutput:Message delivery failed: KafkaError{code=UNKNOWN_TOPIC_OR_PART,val=3,str=\"Broker: Unknown topic or partition\"}\n",
      "ERROR:KafkaOutput:Message delivery failed: KafkaError{code=UNKNOWN_TOPIC_OR_PART,val=3,str=\"Broker: Unknown topic or partition\"}\n",
      "ERROR:KafkaOutput:Message delivery failed: KafkaError{code=UNKNOWN_TOPIC_OR_PART,val=3,str=\"Broker: Unknown topic or partition\"}\n",
      "ERROR:KafkaOutput:Message delivery failed: KafkaError{code=UNKNOWN_TOPIC_OR_PART,val=3,str=\"Broker: Unknown topic or partition\"}\n",
      "ERROR:KafkaOutput:Message delivery failed: KafkaError{code=UNKNOWN_TOPIC_OR_PART,val=3,str=\"Broker: Unknown topic or partition\"}\n",
      "ERROR:KafkaOutput:Message delivery failed: KafkaError{code=UNKNOWN_TOPIC_OR_PART,val=3,str=\"Broker: Unknown topic or partition\"}\n",
      "ERROR:KafkaOutput:Message delivery failed: KafkaError{code=UNKNOWN_TOPIC_OR_PART,val=3,str=\"Broker: Unknown topic or partition\"}\n",
      "ERROR:KafkaOutput:Message delivery failed: KafkaError{code=UNKNOWN_TOPIC_OR_PART,val=3,str=\"Broker: Unknown topic or partition\"}\n",
      "ERROR:KafkaOutput:Message delivery failed: KafkaError{code=UNKNOWN_TOPIC_OR_PART,val=3,str=\"Broker: Unknown topic or partition\"}\n",
      "ERROR:KafkaOutput:Message delivery failed: KafkaError{code=UNKNOWN_TOPIC_OR_PART,val=3,str=\"Broker: Unknown topic or partition\"}\n",
      "INFO:KafkaOutput:Producer flushed successfully. 0 messages remaining.\n",
      "Event Event 0 failed with error: KafkaError{code=UNKNOWN_TOPIC_OR_PART,val=3,str=\"Broker: Unknown topic or partition\"}\n",
      "Event Event 1 failed with error: KafkaError{code=UNKNOWN_TOPIC_OR_PART,val=3,str=\"Broker: Unknown topic or partition\"}\n",
      "Event Event 2 failed with error: KafkaError{code=UNKNOWN_TOPIC_OR_PART,val=3,str=\"Broker: Unknown topic or partition\"}\n",
      "Event Event 3 failed with error: KafkaError{code=UNKNOWN_TOPIC_OR_PART,val=3,str=\"Broker: Unknown topic or partition\"}\n",
      "Event Event 4 failed with error: KafkaError{code=UNKNOWN_TOPIC_OR_PART,val=3,str=\"Broker: Unknown topic or partition\"}\n",
      "Event Event 5 failed with error: KafkaError{code=UNKNOWN_TOPIC_OR_PART,val=3,str=\"Broker: Unknown topic or partition\"}\n",
      "Event Event 6 failed with error: KafkaError{code=UNKNOWN_TOPIC_OR_PART,val=3,str=\"Broker: Unknown topic or partition\"}\n",
      "Event Event 7 failed with error: KafkaError{code=UNKNOWN_TOPIC_OR_PART,val=3,str=\"Broker: Unknown topic or partition\"}\n",
      "Event Event 8 failed with error: KafkaError{code=UNKNOWN_TOPIC_OR_PART,val=3,str=\"Broker: Unknown topic or partition\"}\n",
      "Event Event 9 failed with error: KafkaError{code=UNKNOWN_TOPIC_OR_PART,val=3,str=\"Broker: Unknown topic or partition\"}\n"
     ]
    }
   ],
   "execution_count": 4
  }
 ],
 "metadata": {
  "kernelspec": {
   "display_name": ".venv",
   "language": "python",
   "name": "python3"
  },
  "language_info": {
   "codemirror_mode": {
    "name": "ipython",
    "version": 3
   },
   "file_extension": ".py",
   "mimetype": "text/x-python",
   "name": "python",
   "nbconvert_exporter": "python",
   "pygments_lexer": "ipython3",
   "version": "3.12.3"
  },
  "orig_nbformat": 4
 },
 "nbformat": 4,
 "nbformat_minor": 2
}
