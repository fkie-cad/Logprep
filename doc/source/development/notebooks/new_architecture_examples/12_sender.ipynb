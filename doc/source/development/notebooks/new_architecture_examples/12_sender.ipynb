{
 "cells": [
  {
   "cell_type": "markdown",
   "id": "3ea6bd8d",
   "metadata": {},
   "source": [
    "## Sender Example\n",
    "\n",
    "The sender connects the pipeline from example 10 to the output connectors form examples 6 and 7. The job of the  sender is to send events in state `processed` to the default output and events in state `failed` to the defined error output if configured. The sender works in batches and ensures the output connectors are flushed and backlogs of the output connectors are cleared after finishing a batch. So all the events should have the state `failed` or `delivered` after the batch cycle finishes.\n",
    "\n",
    "Batches are processed in 4 simple steps:\n",
    "\n",
    "1. Fill the batch from the `pipeline` iterator.\n",
    "2. Send all events in state `processed` to the default output and flush the default output.\n",
    "3. Send all events in state `failed` to the error output if defined and flush the error output.\n",
    "4. If something fails on sending to error output, send an error message to stdout including the event\n",
    "\n",
    "On our way the events will produce extra data like SRE Events and Pseudonym Events. These should be send to a corresponding opensearch index `sre` or `pseudonyms`. \n",
    "\n",
    "Lets start and start our needed opensearch instance.\n"
   ]
  },
  {
   "cell_type": "code",
   "execution_count": 17,
   "id": "8fd84f9d",
   "metadata": {
    "vscode": {
     "languageId": "shellscript"
    }
   },
   "outputs": [
    {
     "name": "stdout",
     "output_type": "stream",
     "text": [
      "DEBUG:asyncio:Using selector: EpollSelector\n"
     ]
    },
    {
     "name": "stderr",
     "output_type": "stream",
     "text": [
      " Container dashboards  Stopping\n",
      " Container dashboards  Stopped\n",
      " Container dashboards  Removing\n",
      " Container dashboards  Removed\n",
      " Container opensearch  Stopping\n",
      " Container opensearch  Stopped\n",
      " Container opensearch  Removing\n",
      " Container opensearch  Removed\n",
      " Network compose_opensearch  Removing\n",
      " Volume compose_opensearch-data  Removing\n",
      " Volume compose_opensearch-data  Removed\n",
      " Network compose_opensearch  Removed\n",
      " Network compose_opensearch  Creating\n",
      " Network compose_opensearch  Created\n",
      " Volume \"compose_opensearch-data\"  Creating\n",
      " Volume \"compose_opensearch-data\"  Created\n",
      " Container opensearch  Creating\n",
      " Container opensearch  Created\n",
      " Container dashboards  Creating\n",
      " Container dashboards  Created\n",
      " Container opensearch  Starting\n",
      " Container opensearch  Started\n",
      " Container dashboards  Starting\n",
      " Container dashboards  Started\n"
     ]
    }
   ],
   "source": [
    "%%bash\n",
    "docker compose -f ../../../../../examples/compose/docker-compose.yml down -v  \n",
    "docker compose -f ../../../../../examples/compose/docker-compose.yml up -d opensearch dashboards\n"
   ]
  },
  {
   "cell_type": "markdown",
   "id": "3fbb13d3",
   "metadata": {},
   "source": [
    "To make thinks simple we use the pipeline example from example 10 to produce LogEvents with extra_data."
   ]
  },
  {
   "cell_type": "code",
   "execution_count": 21,
   "id": "3335f936",
   "metadata": {},
   "outputs": [
    {
     "name": "stdout",
     "output_type": "stream",
     "text": [
      "DEBUG:Processor:GenericAdder (processor) loaded 1 rules\n",
      "DEBUG:Processor:Pseudonymizer (pseudo_this) loaded 1 rules\n",
      "DEBUG:Component:Checking health of processor\n",
      "DEBUG:Component:Checking health of pseudo_this\n"
     ]
    }
   ],
   "source": [
    "from logprep.util.time import TimeParser\n",
    "from logprep.ng.event.log_event import LogEvent\n",
    "from logprep.ng.event.event_state import EventStateType\n",
    "import logging\n",
    "import sys\n",
    "\n",
    "# Configure logging\n",
    "logging.basicConfig(\n",
    "    level=logging.DEBUG, \n",
    "    stream=sys.stdout\n",
    ")\n",
    "\n",
    "\n",
    "from logprep.factory import Factory\n",
    "from logprep.ng.abc.processor import Processor\n",
    "from logprep.ng.event.log_event import LogEvent\n",
    "from logprep.ng.event.event_state import EventStateType\n",
    "from logprep.ng.pipeline import Pipeline\n",
    "\n",
    "\n",
    "input_data =  [\n",
    "        LogEvent({\"message\": \"Log message 1\", \"@timestamp\": str(TimeParser.now())}, original=b\"{\\\"message\\\": \\\"Log message 1\\\", \\\"@timestamp\\\": \\\"\" + str(TimeParser.now()).encode() + b\"\\\"}\", state=EventStateType.RECEIVED),\n",
    "        LogEvent({\"message\": \"Log message 2\", \"@timestamp\": str(TimeParser.now())}, original=b\"{\\\"message\\\": \\\"Log message 2\\\", \\\"@timestamp\\\": \\\"\" + str(TimeParser.now()).encode() + b\"\\\"}\", state=EventStateType.RECEIVED),\n",
    "        LogEvent({\"user\": {\"name\": \"John Doe\"}, \"@timestamp\": str(TimeParser.now())}, original=b\"{\\\"user\\\": {\\\"name\\\": \\\"John Doe\\\"}, \\\"@timestamp\\\": \\\"\" + str(TimeParser.now()).encode() + b\"\\\"}\", state=EventStateType.RECEIVED),\n",
    "    ]\n",
    "\n",
    "def input_connector():\n",
    "    for event in input_data:\n",
    "        yield event\n",
    "    return\n",
    "\n",
    "\n",
    "def get_processors() -> list[Processor]:\n",
    "    processors = [\n",
    "        Factory.create(\n",
    "            {\n",
    "                \"processor\": {\n",
    "                    \"type\": \"ng_generic_adder\",\n",
    "                    \"rules\": [\n",
    "                        {\n",
    "                            \"filter\": \"*\",\n",
    "                            \"generic_adder\": {\"add\": {\"event.tags\": \"generic added tag\"}},\n",
    "                        }\n",
    "                    ],\n",
    "                }\n",
    "            }\n",
    "        ),\n",
    "        Factory.create(\n",
    "            {\n",
    "                \"pseudo_this\": {\n",
    "                    \"type\": \"ng_pseudonymizer\",\n",
    "                    \"pubkey_analyst\": \"../../../../../examples/exampledata/rules/pseudonymizer/example_analyst_pub.pem\",\n",
    "                    \"pubkey_depseudo\": \"../../../../../examples/exampledata/rules/pseudonymizer/example_depseudo_pub.pem\",\n",
    "                    \"regex_mapping\": \"../../../../../examples/exampledata/rules/pseudonymizer/regex_mapping.yml\",\n",
    "                    \"hash_salt\": \"a_secret_tasty_ingredient\",\n",
    "                    \"outputs\": [{\"opensearch\": \"pseudonyms\"}],\n",
    "                    \"rules\": [\n",
    "                        {\n",
    "                            \"filter\": \"user.name\",\n",
    "                            \"pseudonymizer\": {\n",
    "                                \"id\": \"pseudonymizer-1a3c69b2-5d54-4b6b-ab07-c7ddbea7917c\",\n",
    "                                \"mapping\": {\"user.name\": \"RE_WHOLE_FIELD\"},\n",
    "                            },\n",
    "                        }\n",
    "                    ],\n",
    "                    \"max_cached_pseudonyms\": 1000000,\n",
    "                }\n",
    "            }\n",
    "        ),\n",
    "    ]\n",
    "    for processor in processors:\n",
    "        processor.setup()\n",
    "    return processors\n",
    "\n",
    "processors = get_processors()\n",
    "pipeline = Pipeline(input_connector(), processors)\n"
   ]
  },
  {
   "cell_type": "markdown",
   "id": "e72fc83e",
   "metadata": {},
   "source": [
    "Now lets create our `opensearch_output` and `error_output` connector and instantiate the `Sender` class."
   ]
  },
  {
   "cell_type": "code",
   "execution_count": 22,
   "id": "c2f1dd6d",
   "metadata": {},
   "outputs": [
    {
     "name": "stdout",
     "output_type": "stream",
     "text": [
      "DEBUG:urllib3.connectionpool:Starting new HTTP connection (1): 127.0.0.1:9200\n",
      "DEBUG:urllib3.connectionpool:http://127.0.0.1:9200 \"GET /_cluster/health HTTP/1.1\" 200 0\n",
      "INFO:opensearch:GET http://127.0.0.1:9200/_cluster/health [status:200 request:0.009s]\n",
      "DEBUG:opensearch:> None\n",
      "DEBUG:opensearch:< {\"cluster_name\":\"opensearch-cluster\",\"status\":\"yellow\",\"timed_out\":false,\"number_of_nodes\":1,\"number_of_data_nodes\":1,\"discovered_master\":true,\"discovered_cluster_manager\":true,\"active_primary_shards\":6,\"active_shards\":6,\"relocating_shards\":0,\"initializing_shards\":0,\"unassigned_shards\":1,\"delayed_unassigned_shards\":0,\"number_of_pending_tasks\":0,\"number_of_in_flight_fetch\":0,\"task_max_waiting_in_queue_millis\":0,\"active_shards_percent_as_number\":85.71428571428571}\n",
      "DEBUG:Component:Checking health of opensearch\n",
      "DEBUG:urllib3.connectionpool:Starting new HTTP connection (1): 127.0.0.1:9200\n",
      "DEBUG:urllib3.connectionpool:http://127.0.0.1:9200 \"GET /_cluster/health HTTP/1.1\" 200 0\n",
      "INFO:opensearch:GET http://127.0.0.1:9200/_cluster/health [status:200 request:0.005s]\n",
      "DEBUG:opensearch:> None\n",
      "DEBUG:opensearch:< {\"cluster_name\":\"opensearch-cluster\",\"status\":\"yellow\",\"timed_out\":false,\"number_of_nodes\":1,\"number_of_data_nodes\":1,\"discovered_master\":true,\"discovered_cluster_manager\":true,\"active_primary_shards\":6,\"active_shards\":6,\"relocating_shards\":0,\"initializing_shards\":0,\"unassigned_shards\":1,\"delayed_unassigned_shards\":0,\"number_of_pending_tasks\":0,\"number_of_in_flight_fetch\":0,\"task_max_waiting_in_queue_millis\":0,\"active_shards_percent_as_number\":85.71428571428571}\n",
      "DEBUG:Component:Checking health of erroroutput\n"
     ]
    }
   ],
   "source": [
    "\n",
    "from logprep.ng.connector.opensearch.output import OpensearchOutput\n",
    "from logprep.ng.sender import Sender\n",
    "\n",
    "# creating default output\n",
    "config = {\n",
    "    \"type\": \"ng_opensearch_output\",\n",
    "    \"hosts\": [\n",
    "        \"127.0.0.1:9200\"\n",
    "    ],\n",
    "    \"default_index\": \"processed\",\n",
    "    \"default_op_type\": \"create\",\n",
    "    \"message_backlog_size\": 1000,\n",
    "    \"timeout\": 10000,\n",
    "    \"flush_timeout\": 60,\n",
    "    \"user\": \"admin\",\n",
    "    \"secret\": \"admin\",\n",
    "    \"desired_cluster_status\": [\"green\", \"yellow\"]\n",
    "}\n",
    "\n",
    "opensearch_output: OpensearchOutput = Factory.create({\"opensearch\": config})\n",
    "opensearch_output.setup()\n",
    "\n",
    "# creating error output\n",
    "\n",
    "error_config = {\n",
    "    \"type\": \"ng_opensearch_output\",\n",
    "    \"hosts\": [\n",
    "        \"127.0.0.1:9200\"\n",
    "    ],\n",
    "    \"default_index\": \"errors\",\n",
    "    \"default_op_type\": \"create\",\n",
    "    \"message_backlog_size\": 1000,\n",
    "    \"timeout\": 10000,\n",
    "    \"flush_timeout\": 60,\n",
    "    \"user\": \"admin\",\n",
    "    \"secret\": \"admin\",\n",
    "    \"desired_cluster_status\": [\"green\", \"yellow\"]\n",
    "}\n",
    "\n",
    "error_output: OpensearchOutput = Factory.create({\"erroroutput\": error_config})\n",
    "error_output.setup()\n",
    "\n",
    "sender = Sender(pipeline=pipeline, outputs=[opensearch_output], error_output=error_output)"
   ]
  },
  {
   "cell_type": "markdown",
   "id": "8c90d1ea",
   "metadata": {},
   "source": [
    "Running the sender"
   ]
  },
  {
   "cell_type": "code",
   "execution_count": 23,
   "id": "55bf7f5f",
   "metadata": {},
   "outputs": [
    {
     "name": "stdout",
     "output_type": "stream",
     "text": [
      "DEBUG:Processor:GenericAdder (processor) processing event LogEvent(data={'message': 'Log message 1', '@timestamp': '2025-08-25 11:40:43.193610+00:00'}, state=processing)\n",
      "DEBUG:Processor:Pseudonymizer (pseudo_this) processing event LogEvent(data={'message': 'Log message 1', '@timestamp': '2025-08-25 11:40:43.193610+00:00', 'event': {'tags': 'generic added tag'}}, state=processing)\n",
      "DEBUG:Processor:GenericAdder (processor) processing event LogEvent(data={'message': 'Log message 2', '@timestamp': '2025-08-25 11:40:43.193661+00:00'}, state=processing)\n",
      "DEBUG:Processor:Pseudonymizer (pseudo_this) processing event LogEvent(data={'message': 'Log message 2', '@timestamp': '2025-08-25 11:40:43.193661+00:00', 'event': {'tags': 'generic added tag'}}, state=processing)\n",
      "DEBUG:Processor:GenericAdder (processor) processing event LogEvent(data={'user': {'name': 'John Doe'}, '@timestamp': '2025-08-25 11:40:43.193673+00:00'}, state=processing)\n",
      "DEBUG:Processor:Pseudonymizer (pseudo_this) processing event LogEvent(data={'user': {'name': 'John Doe'}, '@timestamp': '2025-08-25 11:40:43.193673+00:00', 'event': {'tags': 'generic added tag'}}, state=processing)\n",
      "DEBUG:OpenSearchOutput:Flushing 4 documents to Opensearch\n",
      "DEBUG:urllib3.connectionpool:http://127.0.0.1:9200 \"POST /_bulk HTTP/1.1\" 200 0\n",
      "INFO:opensearch:POST http://127.0.0.1:9200/_bulk [status:200 request:0.191s]\n",
      "DEBUG:opensearch:> {\"create\":{\"_index\":\"processed\"}}\n",
      "{\"message\":\"Log message 1\",\"@timestamp\":\"2025-08-25 11:40:43.193610+00:00\",\"event\":{\"tags\":\"generic added tag\"}}\n",
      "{\"create\":{\"_index\":\"processed\"}}\n",
      "{\"message\":\"Log message 2\",\"@timestamp\":\"2025-08-25 11:40:43.193661+00:00\",\"event\":{\"tags\":\"generic added tag\"}}\n",
      "{\"create\":{\"_index\":\"pseudonyms\"}}\n",
      "{\"pseudonym\":\"12f7a0505314df2259513546a7e3da518098b6999443ff681a56fb752afa998b\",\"origin\":\"mFftba+J6ZHCBxVUKi5hYSFOvZbraHZK+xodMTvj1kJ7aQ5AFIyTXlN4c67AVXd7fiqyGehGof4DZCrP3eCWzMLOm7+Z3f3+i7oIv8UIW1vutMwQOYDttb2rp3gG8aId2XJlhA/UHewrm475gkclq6OciIiqxjkmls6y6wEzefE=:9Ege2ir6RSrvhf9iHuq8ow==:A36RKc69nvqsgQcNdQLWN+RRTBvXLJomoGhdzsubpQPbadl6tyY/hNgdWitZD1uIr3P6pFgXeE2HvbnNypuipklqfQ6RC5vUfIY/A+fDHPBIIt4jxco0j7e01xiCDjQit5B0Bm9C+va9K0+cE0sxRurvzBKdhvQfcF56BzqXPdHFv6L5K5fC4Tu9a1FtACo4/W045pBfdLHbJbXRV96waKvEzrUmJITSEkel1uTDr2/GrlP3htpKkr8vEXVfjWlwpKoIYkWq1o4e9lduOq/5gjQubAyIn7mXTho1Sst91SmcSi862009t63VqGE6+RI2TtwjwSWy3cBzbANjpGKsTw==:KxRW0lG1Jd5Hc1dcmkDdhg==:ZriM5RYIm38=\",\"@timestamp\":\"2025-08-25 11:40:43.193673+00:00\"}\n",
      "{\"create\":{\"_index\":\"processed\"}}\n",
      "{\"user\":{\"name\":\"<pseudonym:12f7a0505314df2259513546a7e3da518098b6999443ff681a56fb752afa998b>\"},\"@timestamp\":\"2025-08-25 11:40:43.193673+00:00\",\"event\":{\"tags\":\"generic added tag\"}}\n",
      "\n",
      "DEBUG:opensearch:< {\"took\":184,\"errors\":false,\"items\":[{\"create\":{\"_index\":\"processed\",\"_id\":\"bH8H4ZgBuKo0aJRm9W37\",\"_version\":1,\"result\":\"created\",\"_shards\":{\"total\":2,\"successful\":1,\"failed\":0},\"_seq_no\":0,\"_primary_term\":1,\"status\":201}},{\"create\":{\"_index\":\"processed\",\"_id\":\"bX8H4ZgBuKo0aJRm9W38\",\"_version\":1,\"result\":\"created\",\"_shards\":{\"total\":2,\"successful\":1,\"failed\":0},\"_seq_no\":1,\"_primary_term\":1,\"status\":201}},{\"create\":{\"_index\":\"pseudonyms\",\"_id\":\"bn8H4ZgBuKo0aJRm9W38\",\"_version\":1,\"result\":\"created\",\"_shards\":{\"total\":2,\"successful\":1,\"failed\":0},\"_seq_no\":0,\"_primary_term\":1,\"status\":201}},{\"create\":{\"_index\":\"processed\",\"_id\":\"b38H4ZgBuKo0aJRm9W38\",\"_version\":1,\"result\":\"created\",\"_shards\":{\"total\":2,\"successful\":1,\"failed\":0},\"_seq_no\":2,\"_primary_term\":1,\"status\":201}}]}\n",
      "LogEvent(data={'message': 'Log message 1', '@timestamp': '2025-08-25 11:40:43.193610+00:00', 'event': {'tags': 'generic added tag'}, '_index': 'processed', '_op_type': 'create'}, state=delivered)\n",
      "LogEvent(data={'message': 'Log message 2', '@timestamp': '2025-08-25 11:40:43.193661+00:00', 'event': {'tags': 'generic added tag'}, '_index': 'processed', '_op_type': 'create'}, state=delivered)\n",
      "LogEvent(data={'user': {'name': '<pseudonym:12f7a0505314df2259513546a7e3da518098b6999443ff681a56fb752afa998b>'}, '@timestamp': '2025-08-25 11:40:43.193673+00:00', 'event': {'tags': 'generic added tag'}, '_index': 'processed', '_op_type': 'create'}, state=delivered)\n"
     ]
    }
   ],
   "source": [
    "for event in sender:\n",
    "    print(event)"
   ]
  },
  {
   "cell_type": "markdown",
   "id": "51ed8fe3",
   "metadata": {},
   "source": [
    "To simulate failure we change write a concrete value to the field `event` where an object is expected. This should lead to a mapper parsing errors."
   ]
  },
  {
   "cell_type": "code",
   "execution_count": 24,
   "id": "e0ec6d8f",
   "metadata": {},
   "outputs": [],
   "source": [
    "input_data =  [\n",
    "    LogEvent({\"message\": \"Log message 1\", \"event\": \"concrete value\", \"@timestamp\": str(TimeParser.now())}, original=b\"{\\\"message\\\": \\\"Log message 1\\\", \\\"event\\\": \\\"concrete value\\\", \\\"@timestamp\\\": \\\"\" + str(TimeParser.now()).encode() + b\"\\\"}\", state=EventStateType.RECEIVED),\n",
    "    LogEvent({\"message\": \"Log message 2\", \"@timestamp\": str(TimeParser.now())}, original=b\"{\\\"message\\\": \\\"Log message 2\\\", \\\"@timestamp\\\": \\\"\" + str(TimeParser.now()).encode() + b\"\\\"}\", state=EventStateType.RECEIVED),\n",
    "    LogEvent({\"user\": {\"name\": \"John Doe\"}, \"@timestamp\": str(TimeParser.now())}, original=b\"{\\\"user\\\": {\\\"name\\\": \\\"John Doe\\\"}, \\\"@timestamp\\\": \\\"\" + str(TimeParser.now()).encode() + b\"\\\"}\", state=EventStateType.RECEIVED),\n",
    "    ]\n",
    "\n",
    "def input_connector():\n",
    "    for event in input_data:\n",
    "        yield event\n",
    "    return\n",
    "\n",
    "pipeline = Pipeline(input_connector(), processors)\n",
    "\n",
    "sender = Sender(pipeline=pipeline, outputs=[opensearch_output], error_output=error_output)"
   ]
  },
  {
   "cell_type": "markdown",
   "id": "8f4a08dc",
   "metadata": {},
   "source": [
    "rerun the sender"
   ]
  },
  {
   "cell_type": "code",
   "execution_count": 25,
   "id": "5f09e81e",
   "metadata": {},
   "outputs": [
    {
     "name": "stdout",
     "output_type": "stream",
     "text": [
      "DEBUG:Processor:GenericAdder (processor) processing event LogEvent(data={'message': 'Log message 1', 'event': 'concrete value', '@timestamp': '2025-08-25 11:40:57.501194+00:00'}, state=processing)\n",
      "DEBUG:Processor:Pseudonymizer (pseudo_this) processing event LogEvent(data={'message': 'Log message 1', 'event': 'concrete value', '@timestamp': '2025-08-25 11:40:57.501194+00:00', 'tags': ['_generic_adder_failure']}, state=processing)\n",
      "DEBUG:Processor:GenericAdder (processor) processing event LogEvent(data={'message': 'Log message 2', '@timestamp': '2025-08-25 11:40:57.501232+00:00'}, state=processing)\n",
      "DEBUG:Processor:Pseudonymizer (pseudo_this) processing event LogEvent(data={'message': 'Log message 2', '@timestamp': '2025-08-25 11:40:57.501232+00:00', 'event': {'tags': 'generic added tag'}}, state=processing)\n",
      "DEBUG:Processor:GenericAdder (processor) processing event LogEvent(data={'user': {'name': 'John Doe'}, '@timestamp': '2025-08-25 11:40:57.501244+00:00'}, state=processing)\n",
      "DEBUG:Processor:Pseudonymizer (pseudo_this) processing event LogEvent(data={'user': {'name': 'John Doe'}, '@timestamp': '2025-08-25 11:40:57.501244+00:00', 'event': {'tags': 'generic added tag'}}, state=processing)\n",
      "DEBUG:OpenSearchOutput:Flushing 4 documents to Opensearch\n",
      "DEBUG:urllib3.connectionpool:http://127.0.0.1:9200 \"POST /_bulk HTTP/1.1\" 200 0\n",
      "INFO:opensearch:POST http://127.0.0.1:9200/_bulk [status:200 request:0.012s]\n",
      "DEBUG:opensearch:> {\"create\":{\"_index\":\"processed\"}}\n",
      "{\"message\":\"Log message 1\",\"event\":\"concrete value\",\"@timestamp\":\"2025-08-25 11:40:57.501194+00:00\",\"tags\":[\"_generic_adder_failure\"]}\n",
      "{\"create\":{\"_index\":\"processed\"}}\n",
      "{\"message\":\"Log message 2\",\"@timestamp\":\"2025-08-25 11:40:57.501232+00:00\",\"event\":{\"tags\":\"generic added tag\"}}\n",
      "{\"create\":{\"_index\":\"pseudonyms\"}}\n",
      "{\"pseudonym\":\"12f7a0505314df2259513546a7e3da518098b6999443ff681a56fb752afa998b\",\"origin\":\"mFftba+J6ZHCBxVUKi5hYSFOvZbraHZK+xodMTvj1kJ7aQ5AFIyTXlN4c67AVXd7fiqyGehGof4DZCrP3eCWzMLOm7+Z3f3+i7oIv8UIW1vutMwQOYDttb2rp3gG8aId2XJlhA/UHewrm475gkclq6OciIiqxjkmls6y6wEzefE=:9Ege2ir6RSrvhf9iHuq8ow==:A36RKc69nvqsgQcNdQLWN+RRTBvXLJomoGhdzsubpQPbadl6tyY/hNgdWitZD1uIr3P6pFgXeE2HvbnNypuipklqfQ6RC5vUfIY/A+fDHPBIIt4jxco0j7e01xiCDjQit5B0Bm9C+va9K0+cE0sxRurvzBKdhvQfcF56BzqXPdHFv6L5K5fC4Tu9a1FtACo4/W045pBfdLHbJbXRV96waKvEzrUmJITSEkel1uTDr2/GrlP3htpKkr8vEXVfjWlwpKoIYkWq1o4e9lduOq/5gjQubAyIn7mXTho1Sst91SmcSi862009t63VqGE6+RI2TtwjwSWy3cBzbANjpGKsTw==:KxRW0lG1Jd5Hc1dcmkDdhg==:ZriM5RYIm38=\",\"@timestamp\":\"2025-08-25 11:40:57.501244+00:00\"}\n",
      "{\"create\":{\"_index\":\"processed\"}}\n",
      "{\"user\":{\"name\":\"<pseudonym:12f7a0505314df2259513546a7e3da518098b6999443ff681a56fb752afa998b>\"},\"@timestamp\":\"2025-08-25 11:40:57.501244+00:00\",\"event\":{\"tags\":\"generic added tag\"}}\n",
      "\n",
      "DEBUG:opensearch:< {\"took\":8,\"errors\":true,\"items\":[{\"create\":{\"_index\":\"processed\",\"_id\":\"cH8I4ZgBuKo0aJRmFG1b\",\"status\":400,\"error\":{\"type\":\"mapper_parsing_exception\",\"reason\":\"object mapping for [event] tried to parse field [event] as object, but found a concrete value\"}}},{\"create\":{\"_index\":\"processed\",\"_id\":\"cX8I4ZgBuKo0aJRmFG1b\",\"_version\":1,\"result\":\"created\",\"_shards\":{\"total\":2,\"successful\":1,\"failed\":0},\"_seq_no\":3,\"_primary_term\":1,\"status\":201}},{\"create\":{\"_index\":\"pseudonyms\",\"_id\":\"cn8I4ZgBuKo0aJRmFG1b\",\"_version\":1,\"result\":\"created\",\"_shards\":{\"total\":2,\"successful\":1,\"failed\":0},\"_seq_no\":1,\"_primary_term\":1,\"status\":201}},{\"create\":{\"_index\":\"processed\",\"_id\":\"c38I4ZgBuKo0aJRmFG1b\",\"_version\":1,\"result\":\"created\",\"_shards\":{\"total\":2,\"successful\":1,\"failed\":0},\"_seq_no\":4,\"_primary_term\":1,\"status\":201}}]}\n",
      "DEBUG:OpenSearchOutput:Flushing 1 documents to Opensearch\n",
      "DEBUG:urllib3.connectionpool:http://127.0.0.1:9200 \"POST /_bulk HTTP/1.1\" 200 0\n",
      "INFO:opensearch:POST http://127.0.0.1:9200/_bulk [status:200 request:0.109s]\n",
      "DEBUG:opensearch:> {\"create\":{\"_index\":\"errors\"}}\n",
      "{\"@timestamp\":\"2025-08-25T11:40:59.881036+00:00\",\"reason\":\"Error during processing: (BulkError({'type': 'mapper_parsing_exception', 'reason': 'object mapping for [event] tried to parse field [event] as object, but found a concrete value'}),)\",\"original\":\"\\\"{\\\\\\\"message\\\\\\\": \\\\\\\"Log message 1\\\\\\\", \\\\\\\"event\\\\\\\": \\\\\\\"concrete value\\\\\\\", \\\\\\\"@timestamp\\\\\\\": \\\\\\\"2025-08-25 11:40:57.501204+00:00\\\\\\\"}\\\"\",\"event\":\"\\\"{\\\\\\\"message\\\\\\\": \\\\\\\"Log message 1\\\\\\\", \\\\\\\"event\\\\\\\": \\\\\\\"concrete value\\\\\\\", \\\\\\\"@timestamp\\\\\\\": \\\\\\\"2025-08-25 11:40:57.501194+00:00\\\\\\\", \\\\\\\"tags\\\\\\\": [\\\\\\\"_generic_adder_failure\\\\\\\"], \\\\\\\"_index\\\\\\\": \\\\\\\"processed\\\\\\\", \\\\\\\"_op_type\\\\\\\": \\\\\\\"create\\\\\\\"}\\\"\"}\n",
      "\n",
      "DEBUG:opensearch:< {\"took\":105,\"errors\":false,\"items\":[{\"create\":{\"_index\":\"errors\",\"_id\":\"dH8I4ZgBuKo0aJRmFG24\",\"_version\":1,\"result\":\"created\",\"_shards\":{\"total\":2,\"successful\":1,\"failed\":0},\"_seq_no\":0,\"_primary_term\":1,\"status\":201}}]}\n",
      "LogEvent(data={'message': 'Log message 1', 'event': 'concrete value', '@timestamp': '2025-08-25 11:40:57.501194+00:00', 'tags': ['_generic_adder_failure'], '_index': 'processed', '_op_type': 'create'}, state=failed)\n",
      "LogEvent(data={'message': 'Log message 2', '@timestamp': '2025-08-25 11:40:57.501232+00:00', 'event': {'tags': 'generic added tag'}, '_index': 'processed', '_op_type': 'create'}, state=delivered)\n",
      "LogEvent(data={'user': {'name': '<pseudonym:12f7a0505314df2259513546a7e3da518098b6999443ff681a56fb752afa998b>'}, '@timestamp': '2025-08-25 11:40:57.501244+00:00', 'event': {'tags': 'generic added tag'}, '_index': 'processed', '_op_type': 'create'}, state=delivered)\n"
     ]
    }
   ],
   "source": [
    "for event in sender:\n",
    "    print(event)"
   ]
  },
  {
   "cell_type": "markdown",
   "id": "6c555e93",
   "metadata": {},
   "source": [
    "check if we are able to make events from opensearch error index documents to ensure we are able to consume them with an opensearch_input connector in future iterations."
   ]
  },
  {
   "cell_type": "code",
   "execution_count": 26,
   "id": "31554426",
   "metadata": {},
   "outputs": [
    {
     "name": "stdout",
     "output_type": "stream",
     "text": [
      "DEBUG:urllib3.connectionpool:http://127.0.0.1:9200 \"POST /errors/_search HTTP/1.1\" 200 0\n",
      "INFO:opensearch:POST http://127.0.0.1:9200/errors/_search [status:200 request:0.008s]\n",
      "DEBUG:opensearch:> {\"query\":{\"match_all\":{}}}\n",
      "DEBUG:opensearch:< {\"took\":3,\"timed_out\":false,\"_shards\":{\"total\":1,\"successful\":1,\"skipped\":0,\"failed\":0},\"hits\":{\"total\":{\"value\":1,\"relation\":\"eq\"},\"max_score\":1.0,\"hits\":[{\"_index\":\"errors\",\"_id\":\"dH8I4ZgBuKo0aJRmFG24\",\"_score\":1.0,\"_source\":{\"@timestamp\":\"2025-08-25T11:40:59.881036+00:00\",\"reason\":\"Error during processing: (BulkError({'type': 'mapper_parsing_exception', 'reason': 'object mapping for [event] tried to parse field [event] as object, but found a concrete value'}),)\",\"original\":\"\\\"{\\\\\\\"message\\\\\\\": \\\\\\\"Log message 1\\\\\\\", \\\\\\\"event\\\\\\\": \\\\\\\"concrete value\\\\\\\", \\\\\\\"@timestamp\\\\\\\": \\\\\\\"2025-08-25 11:40:57.501204+00:00\\\\\\\"}\\\"\",\"event\":\"\\\"{\\\\\\\"message\\\\\\\": \\\\\\\"Log message 1\\\\\\\", \\\\\\\"event\\\\\\\": \\\\\\\"concrete value\\\\\\\", \\\\\\\"@timestamp\\\\\\\": \\\\\\\"2025-08-25 11:40:57.501194+00:00\\\\\\\", \\\\\\\"tags\\\\\\\": [\\\\\\\"_generic_adder_failure\\\\\\\"], \\\\\\\"_index\\\\\\\": \\\\\\\"processed\\\\\\\", \\\\\\\"_op_type\\\\\\\": \\\\\\\"create\\\\\\\"}\\\"\"}}]}}\n",
      "LogEvent(data={\"message\": \"Log message 1\", \"event\": \"concrete value\", \"@timestamp\": \"2025-08-25 11:40:57.501194+00:00\", \"tags\": [\"_generic_adder_failure\"], \"_index\": \"processed\", \"_op_type\": \"create\"}, state=receiving)\n"
     ]
    }
   ],
   "source": [
    "# get opensearch error event by reusing opensearch error_output connector client\n",
    "import json\n",
    "result = error_output._search_context.search(index=\"errors\", body={\"query\": {\"match_all\": {}}})\n",
    "last_error_event = result[\"hits\"][\"hits\"][-1][\"_source\"]\n",
    "data, original = json.loads(last_error_event[\"event\"]), json.loads(last_error_event[\"original\"])\n",
    "log_event = LogEvent(data, original=original, state=EventStateType.RECEIVING)\n",
    "print(log_event)"
   ]
  }
 ],
 "metadata": {
  "kernelspec": {
   "display_name": ".venv",
   "language": "python",
   "name": "python3"
  },
  "language_info": {
   "codemirror_mode": {
    "name": "ipython",
    "version": 3
   },
   "file_extension": ".py",
   "mimetype": "text/x-python",
   "name": "python",
   "nbconvert_exporter": "python",
   "pygments_lexer": "ipython3",
   "version": "3.12.3"
  }
 },
 "nbformat": 4,
 "nbformat_minor": 5
}
