{
 "cells": [
  {
   "metadata": {},
   "cell_type": "markdown",
   "source": [
    "## Runner Example\n",
    "\n",
    "Initialize the runner by loading a config.\n"
   ],
   "id": "e206fab33597688d"
  },
  {
   "metadata": {},
   "cell_type": "markdown",
   "source": "1. prepare the kafka and opensearch cluster",
   "id": "bd3685b49d81d09e"
  },
  {
   "metadata": {
    "ExecuteTime": {
     "end_time": "2025-10-07T12:08:44.502873Z",
     "start_time": "2025-10-07T12:08:25.610497Z"
    }
   },
   "cell_type": "code",
   "source": [
    "%%bash\n",
    "# starting kafka container\n",
    "docker compose -f ../../../../../examples/compose/docker-compose.yml down -v\n",
    "docker compose -f ../../../../../examples/compose/docker-compose.yml up -d kafka opensearch dashboards\n",
    "\n",
    "# creating the topic\n",
    "docker exec -i kafka /bin/bash -c \"/opt/bitnami/kafka/bin/kafka-topics.sh --create --topic consumer --bootstrap-server localhost:9092 --partitions 1 --replication-factor 1\"\n",
    "\n",
    "# waiting for kafka to be ready\n",
    "sleep 30"
   ],
   "id": "30f803a069d4c7dc",
   "outputs": [
    {
     "name": "stderr",
     "output_type": "stream",
     "text": [
      "bash: warning: setlocale: LC_ALL: cannot change locale (en_US.UTF-8)\n",
      " Container kafka  Stopping\n",
      " Container dashboards  Stopping\n",
      " Container dashboards  Stopped\n",
      " Container dashboards  Removing\n",
      " Container dashboards  Removed\n",
      " Container opensearch  Stopping\n",
      " Container opensearch  Stopped\n",
      " Container opensearch  Removing\n",
      " Container opensearch  Removed\n",
      " Container kafka  Stopped\n",
      " Container kafka  Removing\n",
      " Container kafka  Removed\n",
      " Network compose_kafka  Removing\n",
      " Network compose_opensearch  Removing\n",
      " Volume compose_opensearch-data  Removing\n",
      " Volume compose_opensearch-data  Removed\n",
      " Network compose_kafka  Removed\n",
      " Network compose_opensearch  Removed\n",
      " Network compose_kafka  Creating\n",
      " Network compose_kafka  Created\n",
      " Network compose_opensearch  Creating\n",
      " Network compose_opensearch  Created\n",
      " Volume \"compose_opensearch-data\"  Creating\n",
      " Volume \"compose_opensearch-data\"  Created\n",
      " Container kafka  Creating\n",
      " Container opensearch  Creating\n",
      " Container kafka  Created\n",
      " Container opensearch  Created\n",
      " Container dashboards  Creating\n",
      " Container dashboards  Created\n",
      " Container opensearch  Starting\n",
      " Container kafka  Starting\n",
      " Container opensearch  Started\n",
      " Container dashboards  Starting\n",
      " Container kafka  Started\n",
      " Container dashboards  Started\n",
      "[2025-10-07 12:08:38,249] WARN [AdminClient clientId=adminclient-1] Connection to node -1 (localhost/127.0.0.1:9092) could not be established. Node may not be available. (org.apache.kafka.clients.NetworkClient)\n",
      "[2025-10-07 12:08:38,367] WARN [AdminClient clientId=adminclient-1] Connection to node -1 (localhost/127.0.0.1:9092) could not be established. Node may not be available. (org.apache.kafka.clients.NetworkClient)\n",
      "[2025-10-07 12:08:38,472] WARN [AdminClient clientId=adminclient-1] Connection to node -1 (localhost/127.0.0.1:9092) could not be established. Node may not be available. (org.apache.kafka.clients.NetworkClient)\n",
      "[2025-10-07 12:08:38,674] WARN [AdminClient clientId=adminclient-1] Connection to node -1 (localhost/127.0.0.1:9092) could not be established. Node may not be available. (org.apache.kafka.clients.NetworkClient)\n",
      "[2025-10-07 12:08:39,177] WARN [AdminClient clientId=adminclient-1] Connection to node -1 (localhost/127.0.0.1:9092) could not be established. Node may not be available. (org.apache.kafka.clients.NetworkClient)\n",
      "[2025-10-07 12:08:39,880] WARN [AdminClient clientId=adminclient-1] Connection to node -1 (localhost/127.0.0.1:9092) could not be established. Node may not be available. (org.apache.kafka.clients.NetworkClient)\n",
      "[2025-10-07 12:08:40,888] WARN [AdminClient clientId=adminclient-1] Connection to node -1 (localhost/127.0.0.1:9092) could not be established. Node may not be available. (org.apache.kafka.clients.NetworkClient)\n",
      "[2025-10-07 12:08:41,709] WARN [AdminClient clientId=adminclient-1] Connection to node -1 (localhost/127.0.0.1:9092) could not be established. Node may not be available. (org.apache.kafka.clients.NetworkClient)\n",
      "[2025-10-07 12:08:42,715] WARN [AdminClient clientId=adminclient-1] Connection to node -1 (localhost/127.0.0.1:9092) could not be established. Node may not be available. (org.apache.kafka.clients.NetworkClient)\n"
     ]
    },
    {
     "name": "stdout",
     "output_type": "stream",
     "text": [
      "Created topic consumer.\n"
     ]
    }
   ],
   "execution_count": 1
  },
  {
   "metadata": {},
   "cell_type": "markdown",
   "source": "2. produce messages\n",
   "id": "d4a29818bfe62f0"
  },
  {
   "metadata": {
    "ExecuteTime": {
     "end_time": "2025-10-07T12:08:52.437775Z",
     "start_time": "2025-10-07T12:08:50.640415Z"
    }
   },
   "cell_type": "code",
   "source": [
    "%%bash\n",
    "# producing 3 events to kafka topic consumer\n",
    "docker exec -i kafka /bin/bash -c \"echo '{\\\"message\\\": \\\"the message\\\"}' | /opt/bitnami/kafka/bin/kafka-console-producer.sh --bootstrap-server localhost:9092 --topic consumer \"\n",
    "# showing events in kafka\n",
    "#docker exec -i kafka /bin/bash -c \"/opt/bitnami/kafka/bin/kafka-console-consumer.sh --bootstrap-server localhost:9092 --topic consumer --from-beginning --max-messages 10\"\n"
   ],
   "id": "3aa0aea1e3400544",
   "outputs": [
    {
     "name": "stderr",
     "output_type": "stream",
     "text": [
      "bash: warning: setlocale: LC_ALL: cannot change locale (en_US.UTF-8)\n"
     ]
    }
   ],
   "execution_count": 2
  },
  {
   "metadata": {
    "vscode": {
     "languageId": "shellscript"
    },
    "ExecuteTime": {
     "end_time": "2025-10-07T12:10:00.825069789Z",
     "start_time": "2025-10-07T12:08:53.993472Z"
    }
   },
   "cell_type": "code",
   "source": [
    "import sys\n",
    "import logging\n",
    "from logprep.ng.runner import Runner\n",
    "from logprep.ng.util.configuration import Configuration\n",
    "\n",
    "logging.basicConfig(\n",
    "    level=logging.DEBUG,\n",
    "    stream=sys.stdout\n",
    ")\n",
    "\n",
    "def get_config():\n",
    "    return {\n",
    "        \"process_count\": 2,\n",
    "        \"pipeline\": [\n",
    "            {\n",
    "                \"processor_0\": {\n",
    "                    \"type\": \"ng_generic_adder\",\n",
    "                    \"rules\": [\n",
    "                        {\n",
    "                            \"filter\": \"*\",\n",
    "                            \"generic_adder\": {\"add\": {\"event.tags\": \"generic added tag\"}},\n",
    "                        }\n",
    "                    ],\n",
    "                }\n",
    "            },\n",
    "        ],\n",
    "        \"input\": {\n",
    "            \"kafka\": {\n",
    "                \"type\": \"ng_confluentkafka_input\",\n",
    "                \"topic\": \"consumer\",\n",
    "                \"kafka_config\": {\n",
    "                    \"bootstrap.servers\": \"127.0.0.1:9092\",\n",
    "                    \"group.id\": \"cgroup3\",\n",
    "                    \"enable.auto.commit\": \"true\",\n",
    "                    \"auto.commit.interval.ms\": \"10000\",\n",
    "                    \"enable.auto.offset.store\": \"false\",\n",
    "                    \"queued.min.messages\": \"100000\",\n",
    "                    \"queued.max.messages.kbytes\": \"65536\",\n",
    "                    \"statistics.interval.ms\": \"60000\"\n",
    "                }\n",
    "            },\n",
    "        },\n",
    "        \"output\": {\n",
    "            \"my-opensearch\": {\n",
    "                \"type\": \"ng_opensearch_output\",\n",
    "                \"hosts\": [\n",
    "                    \"127.0.0.1:9200\"\n",
    "                ],\n",
    "                \"default_index\": \"processed\",\n",
    "                \"default_op_type\": \"create\",\n",
    "                \"message_backlog_size\": 1000,\n",
    "                \"timeout\": 10000,\n",
    "                \"flush_timeout\": 60,\n",
    "                \"user\": \"admin\",\n",
    "                \"secret\": \"admin\",\n",
    "                \"desired_cluster_status\": [\"green\", \"yellow\"]\n",
    "            },\n",
    "        },\n",
    "    }\n",
    "\n",
    "\n",
    "runner = Runner(configuration=Configuration(**get_config()))\n",
    "runner.run()"
   ],
   "id": "aafe7905f84d5f05",
   "outputs": [
    {
     "name": "stdout",
     "output_type": "stream",
     "text": [
      "WARNING:Runner:No error output configured.\n",
      "DEBUG:Component:Checking health of kafka\n",
      "DEBUG:Processor:GenericAdder (processor_0) loaded 1 rules\n",
      "DEBUG:urllib3.connectionpool:Starting new HTTP connection (1): 127.0.0.1:9200\n",
      "DEBUG:urllib3.connectionpool:http://127.0.0.1:9200 \"GET /_cluster/health HTTP/1.1\" 200 0\n",
      "INFO:opensearch:GET http://127.0.0.1:9200/_cluster/health [status:200 request:0.017s]\n",
      "DEBUG:opensearch:> None\n",
      "DEBUG:opensearch:< {\"cluster_name\":\"opensearch-cluster\",\"status\":\"green\",\"timed_out\":false,\"number_of_nodes\":1,\"number_of_data_nodes\":1,\"discovered_master\":true,\"discovered_cluster_manager\":true,\"active_primary_shards\":3,\"active_shards\":3,\"relocating_shards\":0,\"initializing_shards\":0,\"unassigned_shards\":0,\"delayed_unassigned_shards\":0,\"number_of_pending_tasks\":0,\"number_of_in_flight_fetch\":0,\"task_max_waiting_in_queue_millis\":0,\"active_shards_percent_as_number\":100.0}\n",
      "DEBUG:Component:Checking health of my-opensearch\n",
      "INFO:Sender:All outputs have been set up.\n",
      "DEBUG:Component:Checking health of processor_0\n",
      "INFO:Pipeline:Pipeline has been set up.\n",
      "INFO:Runner:Runner set up complete.\n",
      "DEBUG:Runner:Runner processing loop.\n",
      "DEBUG:Runner:Check configuration change before processing a batch of events.\n",
      "DEBUG:Runner:Process next batch of events.\n",
      "DEBUG:Runner:Start log processing.\n",
      "DEBUG:Runner:Get batch of events from sender (batch_size=2).\n",
      "DEBUG:Sender:Sender iterating\n",
      "DEBUG:Input:InputIterator fetching next event with timeout 5.0, is None: True\n",
      "INFO:KafkaInput:bs0010tnu-devclient-PipelineNone-pid285543-5cb9d6db-cbe4-488a-95aa-104f7fe452aa was assigned to topic: consumer | partition 0\n",
      "DEBUG:Input:InputIterator fetching next event with timeout 5.0, is None: False\n",
      "DEBUG:Processor:GenericAdder (processor_0) processing event LogEvent(data={'message': 'the message'}, state=processing)\n",
      "DEBUG:OpenSearchOutput:Flushing 1 documents to Opensearch\n",
      "DEBUG:urllib3.connectionpool:http://127.0.0.1:9200 \"POST /_bulk HTTP/1.1\" 200 0\n",
      "INFO:opensearch:POST http://127.0.0.1:9200/_bulk [status:200 request:0.399s]\n",
      "DEBUG:opensearch:> {\"create\":{\"_index\":\"processed\"}}\n",
      "{\"message\":\"the message\",\"event\":{\"tags\":\"generic added tag\"}}\n",
      "\n",
      "DEBUG:opensearch:< {\"took\":393,\"errors\":false,\"items\":[{\"create\":{\"_index\":\"processed\",\"_id\":\"0RiTvpkBv5YoBaLoM986\",\"_version\":1,\"result\":\"created\",\"_shards\":{\"total\":2,\"successful\":1,\"failed\":0},\"_seq_no\":0,\"_primary_term\":1,\"status\":201}}]}\n",
      "DEBUG:Runner:event processed: delivered\n",
      "DEBUG:Sender:Sender iterating\n",
      "DEBUG:Input:InputIterator fetching next event with timeout 5.0, is None: True\n",
      "DEBUG:Input:InputIterator fetching next event with timeout 5.0, is None: True\n",
      "DEBUG:Sender:Sender iterating\n",
      "DEBUG:Input:InputIterator fetching next event with timeout 5.0, is None: True\n",
      "DEBUG:Input:InputIterator fetching next event with timeout 5.0, is None: True\n",
      "DEBUG:Sender:Sender iterating\n",
      "DEBUG:Input:InputIterator fetching next event with timeout 5.0, is None: True\n",
      "DEBUG:Input:InputIterator fetching next event with timeout 5.0, is None: True\n",
      "DEBUG:Sender:Sender iterating\n",
      "DEBUG:Input:InputIterator fetching next event with timeout 5.0, is None: True\n",
      "DEBUG:Input:InputIterator fetching next event with timeout 5.0, is None: True\n",
      "DEBUG:Sender:Sender iterating\n",
      "DEBUG:Input:InputIterator fetching next event with timeout 5.0, is None: True\n",
      "DEBUG:Input:InputIterator fetching next event with timeout 5.0, is None: True\n",
      "DEBUG:Sender:Sender iterating\n",
      "DEBUG:Input:InputIterator fetching next event with timeout 5.0, is None: True\n"
     ]
    }
   ],
   "execution_count": null
  }
 ],
 "metadata": {
  "kernelspec": {
   "display_name": ".venv",
   "language": "python",
   "name": "python3"
  },
  "language_info": {
   "codemirror_mode": {
    "name": "ipython",
    "version": 3
   },
   "file_extension": ".py",
   "mimetype": "text/x-python",
   "name": "python",
   "nbconvert_exporter": "python",
   "pygments_lexer": "ipython3",
   "version": "3.12.3"
  }
 },
 "nbformat": 4,
 "nbformat_minor": 5
}
