{
 "cells": [
  {
   "metadata": {},
   "cell_type": "markdown",
   "source": [
    "## Runner Example\n",
    "\n",
    "Initialize the runner by loading a config.\n"
   ],
   "id": "e206fab33597688d"
  },
  {
   "metadata": {},
   "cell_type": "markdown",
   "source": "1. prepare the kafka cluster",
   "id": "bd3685b49d81d09e"
  },
  {
   "metadata": {
    "ExecuteTime": {
     "end_time": "2025-10-02T13:55:29.270701Z",
     "start_time": "2025-10-02T13:55:22.184154Z"
    }
   },
   "cell_type": "code",
   "source": [
    "%%bash\n",
    "# starting kafka container\n",
    "docker compose -f ../../../../../examples/compose/docker-compose.yml down -v\n",
    "docker compose -f ../../../../../examples/compose/docker-compose.yml up -d kafka\n",
    "# creating the topic\n",
    "docker exec -i kafka /bin/bash -c \"/opt/bitnami/kafka/bin/kafka-topics.sh --create --topic consumer --bootstrap-server localhost:9092 --partitions 1 --replication-factor 1\"\n",
    "# waiting for kafka to be ready\n",
    "sleep 10"
   ],
   "id": "30f803a069d4c7dc",
   "outputs": [
    {
     "name": "stderr",
     "output_type": "stream",
     "text": [
      "bash: warning: setlocale: LC_ALL: cannot change locale (en_US.UTF-8)\n",
      " Container kafka  Stopping\n",
      " Container kafka  Stopped\n",
      " Container kafka  Removing\n",
      " Container kafka  Removed\n",
      " Network compose_kafka  Removing\n",
      " Network compose_kafka  Removed\n",
      " Network compose_kafka  Creating\n",
      " Network compose_kafka  Created\n",
      " Container kafka  Creating\n",
      " Container kafka  Created\n",
      " Container kafka  Starting\n",
      " Container kafka  Started\n",
      "[2025-10-02 13:55:24,107] WARN [AdminClient clientId=adminclient-1] Connection to node -1 (localhost/127.0.0.1:9092) could not be established. Node may not be available. (org.apache.kafka.clients.NetworkClient)\n",
      "[2025-10-02 13:55:24,211] WARN [AdminClient clientId=adminclient-1] Connection to node -1 (localhost/127.0.0.1:9092) could not be established. Node may not be available. (org.apache.kafka.clients.NetworkClient)\n",
      "[2025-10-02 13:55:24,312] WARN [AdminClient clientId=adminclient-1] Connection to node -1 (localhost/127.0.0.1:9092) could not be established. Node may not be available. (org.apache.kafka.clients.NetworkClient)\n",
      "[2025-10-02 13:55:24,514] WARN [AdminClient clientId=adminclient-1] Connection to node -1 (localhost/127.0.0.1:9092) could not be established. Node may not be available. (org.apache.kafka.clients.NetworkClient)\n",
      "[2025-10-02 13:55:25,016] WARN [AdminClient clientId=adminclient-1] Connection to node -1 (localhost/127.0.0.1:9092) could not be established. Node may not be available. (org.apache.kafka.clients.NetworkClient)\n",
      "[2025-10-02 13:55:25,720] WARN [AdminClient clientId=adminclient-1] Connection to node -1 (localhost/127.0.0.1:9092) could not be established. Node may not be available. (org.apache.kafka.clients.NetworkClient)\n",
      "[2025-10-02 13:55:26,724] WARN [AdminClient clientId=adminclient-1] Connection to node -1 (localhost/127.0.0.1:9092) could not be established. Node may not be available. (org.apache.kafka.clients.NetworkClient)\n",
      "[2025-10-02 13:55:27,729] WARN [AdminClient clientId=adminclient-1] Connection to node -1 (localhost/127.0.0.1:9092) could not be established. Node may not be available. (org.apache.kafka.clients.NetworkClient)\n"
     ]
    },
    {
     "name": "stdout",
     "output_type": "stream",
     "text": [
      "Created topic consumer.\n"
     ]
    }
   ],
   "execution_count": 2
  },
  {
   "metadata": {},
   "cell_type": "markdown",
   "source": "2. produce messages\n",
   "id": "d4a29818bfe62f0"
  },
  {
   "metadata": {
    "ExecuteTime": {
     "end_time": "2025-10-02T13:55:39.746398Z",
     "start_time": "2025-10-02T13:55:38.114781Z"
    }
   },
   "cell_type": "code",
   "source": [
    "%%bash\n",
    "# producing 3 events to kafka topic consumer\n",
    "docker exec -i kafka /bin/bash -c \"echo '{\\\"message\\\": \\\"the message\\\"}' | /opt/bitnami/kafka/bin/kafka-console-producer.sh --bootstrap-server localhost:9092 --topic consumer \"\n",
    "# showing events in kafka\n",
    "# docker exec -i kafka /bin/bash -c \"/opt/bitnami/kafka/bin/kafka-console-consumer.sh --bootstrap-server localhost:9092 --topic consumer --from-beginning --max-messages 10\"\n"
   ],
   "id": "3aa0aea1e3400544",
   "outputs": [
    {
     "name": "stderr",
     "output_type": "stream",
     "text": [
      "bash: warning: setlocale: LC_ALL: cannot change locale (en_US.UTF-8)\n"
     ]
    }
   ],
   "execution_count": 3
  },
  {
   "metadata": {
    "vscode": {
     "languageId": "shellscript"
    },
    "ExecuteTime": {
     "end_time": "2025-10-02T14:00:58.497540Z",
     "start_time": "2025-10-02T14:00:48.022632Z"
    }
   },
   "cell_type": "code",
   "source": [
    "from logprep.ng.runner import Runner\n",
    "from logprep.ng.util.configuration import Configuration\n",
    "\n",
    "def get_config():\n",
    "    return {\n",
    "        \"process_count\": 2,\n",
    "        \"pipeline\": [\n",
    "            {\n",
    "                \"processor_0\": {\n",
    "                    \"type\": \"ng_generic_adder\",\n",
    "                    \"rules\": [\n",
    "                        {\n",
    "                            \"filter\": \"*\",\n",
    "                            \"generic_adder\": {\"add\": {\"event.tags\": \"generic added tag\"}},\n",
    "                        }\n",
    "                    ],\n",
    "                }\n",
    "            },\n",
    "\n",
    "            {\n",
    "                \"processor_1\": {\n",
    "                    \"type\": \"ng_pseudonymizer\",\n",
    "                    \"pubkey_analyst\": \"../../../../../examples/exampledata/rules/pseudonymizer/example_analyst_pub.pem\",\n",
    "                    \"pubkey_depseudo\": \"../../../../../examples/exampledata/rules/pseudonymizer/example_depseudo_pub.pem\",\n",
    "                    \"regex_mapping\": \"../../../../../examples/exampledata/rules/pseudonymizer/regex_mapping.yml\",\n",
    "                    \"hash_salt\": \"a_secret_tasty_ingredient\",\n",
    "                    \"outputs\": [{\"opensearch\": \"pseudonyms\"}],\n",
    "                    \"rules\": [\n",
    "                        {\n",
    "                            \"filter\": \"user.name\",\n",
    "                            \"pseudonymizer\": {\n",
    "                                \"id\": \"pseudonymizer-1a3c69b2-5d54-4b6b-ab07-c7ddbea7917c\",\n",
    "                                \"mapping\": {\"user.name\": \"RE_WHOLE_FIELD\"},\n",
    "                            },\n",
    "                        }\n",
    "                    ],\n",
    "                    \"max_cached_pseudonyms\": 1000000,\n",
    "                },\n",
    "            },\n",
    "        ],\n",
    "        \"input\": {\n",
    "            \"kafka\": {\n",
    "                \"type\": \"ng_confluentkafka_input\",\n",
    "                \"topic\": \"consumer\",\n",
    "                \"kafka_config\": {\n",
    "                    \"bootstrap.servers\": \"127.0.0.1:9092\",\n",
    "                    \"group.id\": \"cgroup3\",\n",
    "                    \"enable.auto.commit\": \"true\",\n",
    "                    \"auto.commit.interval.ms\": \"10000\",\n",
    "                    \"enable.auto.offset.store\": \"false\",\n",
    "                    \"queued.min.messages\": \"100000\",\n",
    "                    \"queued.max.messages.kbytes\": \"65536\",\n",
    "                    \"statistics.interval.ms\": \"60000\"\n",
    "                }\n",
    "            },\n",
    "        },\n",
    "        \"output\": {\n",
    "            \"kafka\": {\n",
    "                \"type\": \"ng_confluentkafka_output\",\n",
    "                \"topic\": \"consumer\",\n",
    "                \"flush_timeout\": 300,\n",
    "                \"send_timeout\": 0,\n",
    "                \"kafka_config\": {\n",
    "                    \"bootstrap.servers\": \"127.0.0.1:9092\"\n",
    "                },\n",
    "            },\n",
    "        },\n",
    "    }\n",
    "\n",
    "\n",
    "runner = Runner(configuration=Configuration(**get_config()))\n",
    "runner.run()"
   ],
   "id": "aafe7905f84d5f05",
   "outputs": [
    {
     "name": "stderr",
     "output_type": "stream",
     "text": [
      "No error output configured.\n"
     ]
    },
    {
     "ename": "KeyboardInterrupt",
     "evalue": "",
     "output_type": "error",
     "traceback": [
      "\u001B[31m---------------------------------------------------------------------------\u001B[39m",
      "\u001B[31mKeyboardInterrupt\u001B[39m                         Traceback (most recent call last)",
      "\u001B[36mCell\u001B[39m\u001B[36m \u001B[39m\u001B[32mIn[5]\u001B[39m\u001B[32m, line 72\u001B[39m\n\u001B[32m      5\u001B[39m     \u001B[38;5;28;01mreturn\u001B[39;00m {\n\u001B[32m      6\u001B[39m         \u001B[33m\"\u001B[39m\u001B[33mprocess_count\u001B[39m\u001B[33m\"\u001B[39m: \u001B[32m2\u001B[39m,\n\u001B[32m      7\u001B[39m         \u001B[33m\"\u001B[39m\u001B[33mpipeline\u001B[39m\u001B[33m\"\u001B[39m: [\n\u001B[32m   (...)\u001B[39m\u001B[32m     67\u001B[39m         },\n\u001B[32m     68\u001B[39m     }\n\u001B[32m     71\u001B[39m runner = Runner(configuration=Configuration(**get_config()))\n\u001B[32m---> \u001B[39m\u001B[32m72\u001B[39m \u001B[43mrunner\u001B[49m\u001B[43m.\u001B[49m\u001B[43mrun\u001B[49m\u001B[43m(\u001B[49m\u001B[43m)\u001B[49m\n",
      "\u001B[36mFile \u001B[39m\u001B[32m~/dev/bwi/Logprep/logprep/ng/runner.py:188\u001B[39m, in \u001B[36mRunner.run\u001B[39m\u001B[34m(self)\u001B[39m\n\u001B[32m    185\u001B[39m         \u001B[38;5;28mself\u001B[39m.reload()\n\u001B[32m    187\u001B[39m     logger.debug(\u001B[33m\"\u001B[39m\u001B[33mProcess next batch of events.\u001B[39m\u001B[33m\"\u001B[39m)\n\u001B[32m--> \u001B[39m\u001B[32m188\u001B[39m     \u001B[38;5;28;43mself\u001B[39;49m\u001B[43m.\u001B[49m\u001B[43m_process_events\u001B[49m\u001B[43m(\u001B[49m\u001B[43m)\u001B[49m\n\u001B[32m    190\u001B[39m \u001B[38;5;28mself\u001B[39m.shut_down()\n\u001B[32m    191\u001B[39m logger.debug(\u001B[33m\"\u001B[39m\u001B[33mEnd log processing.\u001B[39m\u001B[33m\"\u001B[39m)\n",
      "\u001B[36mFile \u001B[39m\u001B[32m~/dev/bwi/Logprep/logprep/ng/runner.py:202\u001B[39m, in \u001B[36mRunner._process_events\u001B[39m\u001B[34m(self)\u001B[39m\n\u001B[32m    199\u001B[39m logger.debug(\u001B[33m\"\u001B[39m\u001B[33mStart log processing.\u001B[39m\u001B[33m\"\u001B[39m)\n\u001B[32m    201\u001B[39m logger.debug(\u001B[33m\"\u001B[39m\u001B[33mGet batch of events from sender (batch_size=\u001B[39m\u001B[38;5;132;01m%r\u001B[39;00m\u001B[33m).\u001B[39m\u001B[33m\"\u001B[39m, \u001B[38;5;28mself\u001B[39m.sender.batch_size)\n\u001B[32m--> \u001B[39m\u001B[32m202\u001B[39m \u001B[43m\u001B[49m\u001B[38;5;28;43;01mfor\u001B[39;49;00m\u001B[43m \u001B[49m\u001B[43mevent\u001B[49m\u001B[43m \u001B[49m\u001B[38;5;129;43;01min\u001B[39;49;00m\u001B[43m \u001B[49m\u001B[38;5;28;43mself\u001B[39;49m\u001B[43m.\u001B[49m\u001B[43msender\u001B[49m\u001B[43m:\u001B[49m\n\u001B[32m    203\u001B[39m \u001B[43m    \u001B[49m\u001B[38;5;28;43;01mif\u001B[39;49;00m\u001B[43m \u001B[49m\u001B[43mevent\u001B[49m\u001B[43m \u001B[49m\u001B[38;5;129;43;01mis\u001B[39;49;00m\u001B[43m \u001B[49m\u001B[38;5;28;43;01mNone\u001B[39;49;00m\u001B[43m:\u001B[49m\n\u001B[32m    204\u001B[39m \u001B[43m        \u001B[49m\u001B[38;5;28;43;01mcontinue\u001B[39;49;00m\n",
      "\u001B[36mFile \u001B[39m\u001B[32m~/dev/bwi/Logprep/logprep/ng/sender.py:51\u001B[39m, in \u001B[36mSender.__iter__\u001B[39m\u001B[34m(self)\u001B[39m\n\u001B[32m     49\u001B[39m \u001B[38;5;28;01mwhile\u001B[39;00m \u001B[38;5;28;01mTrue\u001B[39;00m:\n\u001B[32m     50\u001B[39m     logger.debug(\u001B[33m\"\u001B[39m\u001B[33mSender iterating\u001B[39m\u001B[33m\"\u001B[39m)\n\u001B[32m---> \u001B[39m\u001B[32m51\u001B[39m     batch = \u001B[38;5;28;43mlist\u001B[39;49m\u001B[43m(\u001B[49m\u001B[43mislice\u001B[49m\u001B[43m(\u001B[49m\u001B[38;5;28;43mself\u001B[39;49m\u001B[43m.\u001B[49m\u001B[43mpipeline\u001B[49m\u001B[43m,\u001B[49m\u001B[43m \u001B[49m\u001B[38;5;28;43mself\u001B[39;49m\u001B[43m.\u001B[49m\u001B[43mbatch_size\u001B[49m\u001B[43m)\u001B[49m\u001B[43m)\u001B[49m\n\u001B[32m     52\u001B[39m     \u001B[38;5;28mself\u001B[39m._send_and_flush_processed_events(batch_events=batch)\n\u001B[32m     53\u001B[39m     \u001B[38;5;28;01mif\u001B[39;00m \u001B[38;5;28mself\u001B[39m._error_output:\n",
      "\u001B[36mFile \u001B[39m\u001B[32m~/dev/bwi/Logprep/logprep/ng/pipeline.py:70\u001B[39m, in \u001B[36mPipeline.__iter__\u001B[39m\u001B[34m(self)\u001B[39m\n\u001B[32m     67\u001B[39m \u001B[38;5;28;01mdef\u001B[39;00m\u001B[38;5;250m \u001B[39m\u001B[34m__iter__\u001B[39m(\u001B[38;5;28mself\u001B[39m) -> Generator[LogEvent | \u001B[38;5;28;01mNone\u001B[39;00m, \u001B[38;5;28;01mNone\u001B[39;00m, \u001B[38;5;28;01mNone\u001B[39;00m]:\n\u001B[32m     68\u001B[39m \u001B[38;5;250m    \u001B[39m\u001B[33;03m\"\"\"Iterate over processed events.\"\"\"\u001B[39;00m\n\u001B[32m---> \u001B[39m\u001B[32m70\u001B[39m     \u001B[38;5;28;01myield from\u001B[39;00m \u001B[38;5;28mmap\u001B[39m(partial(_process_event, processors=\u001B[38;5;28mself\u001B[39m.processors), \u001B[38;5;28mself\u001B[39m.log_events_iter)\n",
      "\u001B[36mFile \u001B[39m\u001B[32m~/dev/bwi/Logprep/logprep/ng/abc/input.py:160\u001B[39m, in \u001B[36mInputIterator.__next__\u001B[39m\u001B[34m(self)\u001B[39m\n\u001B[32m    152\u001B[39m \u001B[38;5;28;01mdef\u001B[39;00m\u001B[38;5;250m \u001B[39m\u001B[34m__next__\u001B[39m(\u001B[38;5;28mself\u001B[39m) -> LogEvent | \u001B[38;5;28;01mNone\u001B[39;00m:\n\u001B[32m    153\u001B[39m \u001B[38;5;250m    \u001B[39m\u001B[33;03m\"\"\"Return the next event in the Input Connector within the configured timeout.\u001B[39;00m\n\u001B[32m    154\u001B[39m \n\u001B[32m    155\u001B[39m \u001B[33;03m    Returns\u001B[39;00m\n\u001B[32m   (...)\u001B[39m\u001B[32m    158\u001B[39m \u001B[33;03m        The next event retrieved from the underlying data source.\u001B[39;00m\n\u001B[32m    159\u001B[39m \u001B[33;03m    \"\"\"\u001B[39;00m\n\u001B[32m--> \u001B[39m\u001B[32m160\u001B[39m     event = \u001B[38;5;28;43mself\u001B[39;49m\u001B[43m.\u001B[49m\u001B[43minput_connector\u001B[49m\u001B[43m.\u001B[49m\u001B[43mget_next\u001B[49m\u001B[43m(\u001B[49m\u001B[43mtimeout\u001B[49m\u001B[43m=\u001B[49m\u001B[38;5;28;43mself\u001B[39;49m\u001B[43m.\u001B[49m\u001B[43mtimeout\u001B[49m\u001B[43m)\u001B[49m\n\u001B[32m    161\u001B[39m     logger.debug(\n\u001B[32m    162\u001B[39m         \u001B[33m\"\u001B[39m\u001B[33mInputIterator fetching next event with timeout \u001B[39m\u001B[38;5;132;01m%s\u001B[39;00m\u001B[33m, is None: \u001B[39m\u001B[38;5;132;01m%s\u001B[39;00m\u001B[33m\"\u001B[39m,\n\u001B[32m    163\u001B[39m         \u001B[38;5;28mself\u001B[39m.timeout,\n\u001B[32m    164\u001B[39m         event \u001B[38;5;129;01mis\u001B[39;00m \u001B[38;5;28;01mNone\u001B[39;00m,\n\u001B[32m    165\u001B[39m     )\n\u001B[32m    166\u001B[39m     \u001B[38;5;28;01mreturn\u001B[39;00m event\n",
      "\u001B[36mFile \u001B[39m\u001B[32m~/dev/bwi/Logprep/logprep/metrics/metrics.py:207\u001B[39m, in \u001B[36mMetric.measure_time.<locals>.without_append.<locals>.inner\u001B[39m\u001B[34m(self, *args, **kwargs)\u001B[39m\n\u001B[32m    205\u001B[39m metric = \u001B[38;5;28mgetattr\u001B[39m(\u001B[38;5;28mself\u001B[39m.metrics, metric_name)\n\u001B[32m    206\u001B[39m \u001B[38;5;28;01mwith\u001B[39;00m metric.tracker.labels(**metric.labels).time():\n\u001B[32m--> \u001B[39m\u001B[32m207\u001B[39m     result = \u001B[43mfunc\u001B[49m\u001B[43m(\u001B[49m\u001B[38;5;28;43mself\u001B[39;49m\u001B[43m,\u001B[49m\u001B[43m \u001B[49m\u001B[43m*\u001B[49m\u001B[43margs\u001B[49m\u001B[43m,\u001B[49m\u001B[43m \u001B[49m\u001B[43m*\u001B[49m\u001B[43m*\u001B[49m\u001B[43mkwargs\u001B[49m\u001B[43m)\u001B[49m\n\u001B[32m    208\u001B[39m \u001B[38;5;28;01mreturn\u001B[39;00m result\n",
      "\u001B[36mFile \u001B[39m\u001B[32m~/dev/bwi/Logprep/logprep/ng/abc/input.py:440\u001B[39m, in \u001B[36mInput.get_next\u001B[39m\u001B[34m(self, timeout)\u001B[39m\n\u001B[32m    437\u001B[39m metadata: \u001B[38;5;28mdict\u001B[39m | \u001B[38;5;28;01mNone\u001B[39;00m = \u001B[38;5;28;01mNone\u001B[39;00m\n\u001B[32m    439\u001B[39m \u001B[38;5;28;01mtry\u001B[39;00m:\n\u001B[32m--> \u001B[39m\u001B[32m440\u001B[39m     event, raw_event, metadata = \u001B[38;5;28;43mself\u001B[39;49m\u001B[43m.\u001B[49m\u001B[43m_get_event\u001B[49m\u001B[43m(\u001B[49m\u001B[43mtimeout\u001B[49m\u001B[43m)\u001B[49m\n\u001B[32m    442\u001B[39m     \u001B[38;5;28;01mif\u001B[39;00m event \u001B[38;5;129;01mis\u001B[39;00m \u001B[38;5;28;01mNone\u001B[39;00m:\n\u001B[32m    443\u001B[39m         \u001B[38;5;28;01mreturn\u001B[39;00m \u001B[38;5;28;01mNone\u001B[39;00m\n",
      "\u001B[36mFile \u001B[39m\u001B[32m~/dev/bwi/Logprep/logprep/ng/connector/confluent_kafka/input.py:470\u001B[39m, in \u001B[36mConfluentKafkaInput._get_event\u001B[39m\u001B[34m(self, timeout)\u001B[39m\n\u001B[32m    447\u001B[39m \u001B[38;5;28;01mdef\u001B[39;00m\u001B[38;5;250m \u001B[39m\u001B[34m_get_event\u001B[39m(\u001B[38;5;28mself\u001B[39m, timeout: \u001B[38;5;28mfloat\u001B[39m) -> \u001B[38;5;28mtuple\u001B[39m:\n\u001B[32m    448\u001B[39m \u001B[38;5;250m    \u001B[39m\u001B[33;03m\"\"\"Parse the raw document from Kafka into a json.\u001B[39;00m\n\u001B[32m    449\u001B[39m \n\u001B[32m    450\u001B[39m \u001B[33;03m    Parameters\u001B[39;00m\n\u001B[32m   (...)\u001B[39m\u001B[32m    467\u001B[39m \u001B[33;03m        Raises if an input is invalid or if it causes an error.\u001B[39;00m\n\u001B[32m    468\u001B[39m \u001B[33;03m    \"\"\"\u001B[39;00m\n\u001B[32m--> \u001B[39m\u001B[32m470\u001B[39m     message = \u001B[38;5;28;43mself\u001B[39;49m\u001B[43m.\u001B[49m\u001B[43m_get_raw_event\u001B[49m\u001B[43m(\u001B[49m\u001B[43mtimeout\u001B[49m\u001B[43m)\u001B[49m\n\u001B[32m    472\u001B[39m     \u001B[38;5;28;01mif\u001B[39;00m message \u001B[38;5;129;01mis\u001B[39;00m \u001B[38;5;28;01mNone\u001B[39;00m:\n\u001B[32m    473\u001B[39m         \u001B[38;5;28;01mreturn\u001B[39;00m \u001B[38;5;28;01mNone\u001B[39;00m, \u001B[38;5;28;01mNone\u001B[39;00m, \u001B[38;5;28;01mNone\u001B[39;00m\n",
      "\u001B[36mFile \u001B[39m\u001B[32m~/dev/bwi/Logprep/logprep/ng/connector/confluent_kafka/input.py:431\u001B[39m, in \u001B[36mConfluentKafkaInput._get_raw_event\u001B[39m\u001B[34m(self, timeout)\u001B[39m\n\u001B[32m    413\u001B[39m \u001B[38;5;250m\u001B[39m\u001B[33;03m\"\"\"Get next raw Message from Kafka.\u001B[39;00m\n\u001B[32m    414\u001B[39m \n\u001B[32m    415\u001B[39m \u001B[33;03mParameters\u001B[39;00m\n\u001B[32m   (...)\u001B[39m\u001B[32m    428\u001B[39m \u001B[33;03m    Raises if an input is invalid or if it causes an error.\u001B[39;00m\n\u001B[32m    429\u001B[39m \u001B[33;03m\"\"\"\u001B[39;00m\n\u001B[32m    430\u001B[39m \u001B[38;5;28;01mtry\u001B[39;00m:\n\u001B[32m--> \u001B[39m\u001B[32m431\u001B[39m     message = \u001B[38;5;28;43mself\u001B[39;49m\u001B[43m.\u001B[49m\u001B[43m_consumer\u001B[49m\u001B[43m.\u001B[49m\u001B[43mpoll\u001B[49m\u001B[43m(\u001B[49m\u001B[43mtimeout\u001B[49m\u001B[43m=\u001B[49m\u001B[43mtimeout\u001B[49m\u001B[43m)\u001B[49m\n\u001B[32m    432\u001B[39m \u001B[38;5;28;01mexcept\u001B[39;00m \u001B[38;5;167;01mRuntimeError\u001B[39;00m \u001B[38;5;28;01mas\u001B[39;00m error:\n\u001B[32m    433\u001B[39m     \u001B[38;5;28;01mraise\u001B[39;00m FatalInputError(\u001B[38;5;28mself\u001B[39m, \u001B[38;5;28mstr\u001B[39m(error)) \u001B[38;5;28;01mfrom\u001B[39;00m\u001B[38;5;250m \u001B[39m\u001B[34;01merror\u001B[39;00m\n",
      "\u001B[31mKeyboardInterrupt\u001B[39m: "
     ]
    }
   ],
   "execution_count": 5
  }
 ],
 "metadata": {
  "kernelspec": {
   "display_name": ".venv",
   "language": "python",
   "name": "python3"
  },
  "language_info": {
   "codemirror_mode": {
    "name": "ipython",
    "version": 3
   },
   "file_extension": ".py",
   "mimetype": "text/x-python",
   "name": "python",
   "nbconvert_exporter": "python",
   "pygments_lexer": "ipython3",
   "version": "3.12.3"
  }
 },
 "nbformat": 4,
 "nbformat_minor": 5
}
