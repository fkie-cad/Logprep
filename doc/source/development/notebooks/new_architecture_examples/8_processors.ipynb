{
 "cells": [
  {
   "cell_type": "markdown",
   "metadata": {},
   "source": [
    "# Usage of Processors with Event Objects\n"
   ]
  },
  {
   "cell_type": "markdown",
   "metadata": {},
   "source": [
    "The following example demonstrates the delivery of events to the opensearch output connector"
   ]
  },
  {
   "cell_type": "code",
   "metadata": {
    "ExecuteTime": {
     "end_time": "2025-08-22T07:55:51.666208Z",
     "start_time": "2025-08-22T07:55:51.660245Z"
    }
   },
   "source": [
    "import json\n",
    "import uuid\n",
    "from logprep.factory import Factory\n",
    "from logprep.util.time import TimeParser\n",
    "from logprep.event.log_event import LogEvent\n",
    "from logprep.event.event_state import EventStateType\n",
    "import logging\n",
    "import sys\n",
    "\n",
    "# Configure logging\n",
    "logging.basicConfig(level=logging.DEBUG, stream=sys.stdout)\n",
    "\n",
    "document = {\n",
    "    \"id\": f\"{uuid.uuid4()}\",\n",
    "    \"@timestamp\": str(TimeParser.now()),\n",
    "    \"user\": {\n",
    "        \"name\": \"Hubert K. Kabal\",\n",
    "        \"email\": \"kabal@example.com\",\n",
    "        \"id\": 12345,\n",
    "    },\n",
    "}\n",
    "\n",
    "event = LogEvent(document, original=b\"\", state=EventStateType.RECEIVED)\n",
    "\n",
    "print(f\"Event before processing: {json.dumps(event.data, indent=2)}\")\n",
    "\n",
    "# adding a custom field to the event\n",
    "config = {\n",
    "    \"my generic adder\": {\n",
    "        \"type\": \"ng_generic_adder\",\n",
    "        \"rules\": [{\"filter\": \"*\", \"generic_adder\": {\"add\": {\"event.tags\": \"generic added tag\"}}}],\n",
    "    }\n",
    "}\n",
    "processor = Factory.create(config)\n",
    "processor.setup()\n",
    "processor.process(event)\n",
    "print(f\"Event after processing: {json.dumps(event.data, indent=2)}\")"
   ],
   "outputs": [
    {
     "name": "stdout",
     "output_type": "stream",
     "text": [
      "Event before processing: {\n",
      "  \"id\": \"92411899-0f70-42e8-998b-79666244aa27\",\n",
      "  \"@timestamp\": \"2025-08-22 07:55:51.662772+00:00\",\n",
      "  \"user\": {\n",
      "    \"name\": \"Hubert K. Kabal\",\n",
      "    \"email\": \"kabal@example.com\",\n",
      "    \"id\": 12345\n",
      "  }\n",
      "}\n",
      "DEBUG:Processor:GenericAdder (my generic adder) loaded 1 rules\n",
      "DEBUG:Component:Checking health of my generic adder\n",
      "DEBUG:Processor:GenericAdder (my generic adder) processing event LogEvent(data={'id': '92411899-0f70-42e8-998b-79666244aa27', '@timestamp': '2025-08-22 07:55:51.662772+00:00', 'user': {'name': 'Hubert K. Kabal', 'email': 'kabal@example.com', 'id': 12345}}, state=received)\n",
      "Event after processing: {\n",
      "  \"id\": \"92411899-0f70-42e8-998b-79666244aa27\",\n",
      "  \"@timestamp\": \"2025-08-22 07:55:51.662772+00:00\",\n",
      "  \"user\": {\n",
      "    \"name\": \"Hubert K. Kabal\",\n",
      "    \"email\": \"kabal@example.com\",\n",
      "    \"id\": 12345\n",
      "  },\n",
      "  \"event\": {\n",
      "    \"tags\": \"generic added tag\"\n",
      "  }\n",
      "}\n"
     ]
    }
   ],
   "execution_count": 4
  },
  {
   "cell_type": "code",
   "metadata": {
    "ExecuteTime": {
     "end_time": "2025-08-22T07:55:51.691858Z",
     "start_time": "2025-08-22T07:55:51.674590Z"
    }
   },
   "source": [
    "print(f\"Event before processing: {json.dumps(event.data, indent=2)}\")\n",
    "\n",
    "# Predetection example\n",
    "config = {\n",
    "    \"almighty pre_detector\": {\n",
    "        \"type\": \"ng_pre_detector\",\n",
    "        \"outputs\": [\n",
    "            {\"opensearch\": \"pseudonyms\"}\n",
    "        ],\n",
    "        \"rules\": [\n",
    "            {\n",
    "                \"filter\": 'user.id: 12345',\n",
    "                \"pre_detector\": {\n",
    "                    \"case_condition\": \"directly\",\n",
    "                    \"id\": \"RULE_ONE_ID\",\n",
    "                    \"mitre\": [\n",
    "                        \"attack.something1\",\n",
    "                        \"attack.something2\"\n",
    "                    ],\n",
    "                    \"severity\": \"critical\",\n",
    "                    \"title\": \"Rule one\",\n",
    "                    \"description\": \"Some malicious event.\"\n",
    "                }\n",
    "            }\n",
    "        ],\n",
    "    }\n",
    "}\n",
    "processor = Factory.create(config)\n",
    "processor.setup()\n",
    "processor.process(event)\n",
    "print(f\"Event after processing: {json.dumps(event.data, indent=2)}\")\n",
    "print(f\"{len(event.extra_data)=}\")\n",
    "print(f\"Event extra data: {json.dumps(event.extra_data[0].data, indent=2)}\")"
   ],
   "outputs": [
    {
     "name": "stdout",
     "output_type": "stream",
     "text": [
      "Event before processing: {\n",
      "  \"id\": \"92411899-0f70-42e8-998b-79666244aa27\",\n",
      "  \"@timestamp\": \"2025-08-22 07:55:51.662772+00:00\",\n",
      "  \"user\": {\n",
      "    \"name\": \"Hubert K. Kabal\",\n",
      "    \"email\": \"kabal@example.com\",\n",
      "    \"id\": 12345\n",
      "  },\n",
      "  \"event\": {\n",
      "    \"tags\": \"generic added tag\"\n",
      "  }\n",
      "}\n",
      "DEBUG:Processor:PreDetector (almighty pre_detector) loaded 1 rules\n",
      "DEBUG:Component:Checking health of almighty pre_detector\n",
      "DEBUG:Processor:PreDetector (almighty pre_detector) processing event LogEvent(data={'id': '92411899-0f70-42e8-998b-79666244aa27', '@timestamp': '2025-08-22 07:55:51.662772+00:00', 'user': {'name': 'Hubert K. Kabal', 'email': 'kabal@example.com', 'id': 12345}, 'event': {'tags': 'generic added tag'}}, state=received)\n",
      "Event after processing: {\n",
      "  \"id\": \"92411899-0f70-42e8-998b-79666244aa27\",\n",
      "  \"@timestamp\": \"2025-08-22 07:55:51.662772+00:00\",\n",
      "  \"user\": {\n",
      "    \"name\": \"Hubert K. Kabal\",\n",
      "    \"email\": \"kabal@example.com\",\n",
      "    \"id\": 12345\n",
      "  },\n",
      "  \"event\": {\n",
      "    \"tags\": \"generic added tag\"\n",
      "  },\n",
      "  \"pre_detection_id\": \"c8faf4cb-cdb4-4378-ad0b-9ac5f19fe75f\"\n",
      "}\n",
      "len(event.extra_data)=1\n",
      "Event extra data: {\n",
      "  \"description\": \"\",\n",
      "  \"id\": \"RULE_ONE_ID\",\n",
      "  \"title\": \"Rule one\",\n",
      "  \"severity\": \"critical\",\n",
      "  \"mitre\": [\n",
      "    \"attack.something1\",\n",
      "    \"attack.something2\"\n",
      "  ],\n",
      "  \"case_condition\": \"directly\",\n",
      "  \"rule_filter\": \"user.id:\\\"12345\\\"\",\n",
      "  \"pre_detection_id\": \"c8faf4cb-cdb4-4378-ad0b-9ac5f19fe75f\",\n",
      "  \"creation_timestamp\": \"2025-08-22T07:55:51.690546+00:00\",\n",
      "  \"@timestamp\": \"2025-08-22T07:55:51.662772Z\"\n",
      "}\n"
     ]
    }
   ],
   "execution_count": 5
  },
  {
   "cell_type": "code",
   "metadata": {
    "ExecuteTime": {
     "end_time": "2025-08-22T07:55:51.737422Z",
     "start_time": "2025-08-22T07:55:51.723349Z"
    }
   },
   "source": [
    "print(f\"Event before processing: {json.dumps(event.data, indent=2)}\")\n",
    "\n",
    "# Pseudonymization\n",
    "config = {\n",
    "    \"almighty pseudonymizer\": {\n",
    "        \"type\": \"ng_pseudonymizer\",\n",
    "        \"pubkey_analyst\": \"../../../../../examples/exampledata/rules/pseudonymizer/example_analyst_pub.pem\",\n",
    "        \"pubkey_depseudo\": \"../../../../../examples/exampledata/rules/pseudonymizer/example_depseudo_pub.pem\",\n",
    "        \"regex_mapping\": \"../../../../../examples/exampledata/rules/pseudonymizer/regex_mapping.yml\",\n",
    "        \"hash_salt\": \"a_secret_tasty_ingredient\",\n",
    "        \"outputs\": [\n",
    "            {\"opensearch\": \"pseudonyms\"}\n",
    "        ],\n",
    "        \"rules\": [\n",
    "            {\n",
    "                \"filter\": \"*\",\n",
    "                \"pseudonymizer\": {\n",
    "                    \"mapping\": {\n",
    "                        \"user.name\": \"RE_WHOLE_FIELD\",\n",
    "                    }\n",
    "                }\n",
    "            }\n",
    "        ],\n",
    "        \"max_cached_pseudonyms\": 1000000\n",
    "    }\n",
    "}\n",
    "processor = Factory.create(config)\n",
    "processor.setup()\n",
    "processor.process(event)\n",
    "print(f\"Event after processing: {json.dumps(event.data, indent=2)}\")\n",
    "print(f\"{len(event.extra_data)=}\")\n",
    "print(f\"Event extra data: {json.dumps(event.extra_data[1].data, indent=2)}\")"
   ],
   "outputs": [
    {
     "name": "stdout",
     "output_type": "stream",
     "text": [
      "Event before processing: {\n",
      "  \"id\": \"92411899-0f70-42e8-998b-79666244aa27\",\n",
      "  \"@timestamp\": \"2025-08-22 07:55:51.662772+00:00\",\n",
      "  \"user\": {\n",
      "    \"name\": \"Hubert K. Kabal\",\n",
      "    \"email\": \"kabal@example.com\",\n",
      "    \"id\": 12345\n",
      "  },\n",
      "  \"event\": {\n",
      "    \"tags\": \"generic added tag\"\n",
      "  },\n",
      "  \"pre_detection_id\": \"c8faf4cb-cdb4-4378-ad0b-9ac5f19fe75f\"\n",
      "}\n",
      "DEBUG:Processor:Pseudonymizer (almighty pseudonymizer) loaded 1 rules\n",
      "DEBUG:Component:Checking health of almighty pseudonymizer\n",
      "DEBUG:Processor:Pseudonymizer (almighty pseudonymizer) processing event LogEvent(data={'id': '92411899-0f70-42e8-998b-79666244aa27', '@timestamp': '2025-08-22 07:55:51.662772+00:00', 'user': {'name': 'Hubert K. Kabal', 'email': 'kabal@example.com', 'id': 12345}, 'event': {'tags': 'generic added tag'}, 'pre_detection_id': 'c8faf4cb-cdb4-4378-ad0b-9ac5f19fe75f'}, state=received)\n",
      "Event after processing: {\n",
      "  \"id\": \"92411899-0f70-42e8-998b-79666244aa27\",\n",
      "  \"@timestamp\": \"2025-08-22 07:55:51.662772+00:00\",\n",
      "  \"user\": {\n",
      "    \"name\": \"<pseudonym:811e0bc983ec82c3a44469a243b547db259ba89ce3448efd31dc6568042ed9ff>\",\n",
      "    \"email\": \"kabal@example.com\",\n",
      "    \"id\": 12345\n",
      "  },\n",
      "  \"event\": {\n",
      "    \"tags\": \"generic added tag\"\n",
      "  },\n",
      "  \"pre_detection_id\": \"c8faf4cb-cdb4-4378-ad0b-9ac5f19fe75f\"\n",
      "}\n",
      "len(event.extra_data)=2\n",
      "Event extra data: {\n",
      "  \"pseudonym\": \"811e0bc983ec82c3a44469a243b547db259ba89ce3448efd31dc6568042ed9ff\",\n",
      "  \"origin\": \"d9RX3bZ50eZCv0Ytt/BHI0XzhiGjrNJqMNg+vsPwnphWkI5LqT/7B92n9yTzHXi853DMiis3Nry/zTQgAhcMmh9aAUwRLtNp4v8vNuxJpOKv7OmORlo1Yri8CG5rq3WmPMpjCLakoNxWT/aTkUYu7UxPtqLQHwBnYTNECRxoeWc=:EK7ptTGL53muoQdyD4+4mg==:m3SEg3Vaq+gTi6aqo0ezN5Hql6+8xkplocnS5DqnYHTRtbLz+rO6A98XKWvjF/MhM5gsDx6IbI+HEJJ981oHcbkAM57fBY1pj3gMiq1yJsVBlmRsaV8pl0Ykd5DUacogua6aBePH9YX47EJ6vgGygUFWX6m8MGUeekwRNsHi0wtVyUfMuOMZ3dvK03NsMbyzRmznUd7osEciSkMsXn8GmN6XAqGd3SKLGb2Qk3fAnqJmXPyhQ5iaGwvIAkA531ZuPL9CT0is0BpSNqRxvGNUyVaLGZJEO+3Jsx96JHfZQHvgiteM+GRfuTCJv5DOXfY6ZBNJETpaHtovIBIwBweCxQ==:zX6wBt5Cjste21VUGUiiOQ==:a5bfcQI8GEUfEXocb7OF\",\n",
      "  \"@timestamp\": \"2025-08-22 07:55:51.662772+00:00\"\n",
      "}\n"
     ]
    }
   ],
   "execution_count": 6
  }
 ],
 "metadata": {
  "kernelspec": {
   "display_name": ".venv",
   "language": "python",
   "name": "python3"
  },
  "language_info": {
   "codemirror_mode": {
    "name": "ipython",
    "version": 3
   },
   "file_extension": ".py",
   "mimetype": "text/x-python",
   "name": "python",
   "nbconvert_exporter": "python",
   "pygments_lexer": "ipython3",
   "version": "3.11.11"
  },
  "orig_nbformat": 4
 },
 "nbformat": 4,
 "nbformat_minor": 2
}
