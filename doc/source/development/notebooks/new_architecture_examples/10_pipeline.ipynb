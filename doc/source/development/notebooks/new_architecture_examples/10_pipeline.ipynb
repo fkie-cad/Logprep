{
 "cells": [
  {
   "cell_type": "markdown",
   "id": "3ea6bd8d",
   "metadata": {},
   "source": [
    "## Pipeline Example\n",
    "\n",
    "1. Create input and processor chain"
   ]
  },
  {
   "cell_type": "code",
   "id": "c2f1dd6d",
   "metadata": {
    "ExecuteTime": {
     "end_time": "2025-08-22T07:58:31.444704Z",
     "start_time": "2025-08-22T07:58:31.436486Z"
    }
   },
   "source": [
    "from logprep.factory import Factory\n",
    "from logprep.ng.abc.processor import Processor\n",
    "from logprep.event.log_event import LogEvent\n",
    "from logprep.event.event_state import EventStateType\n",
    "from logprep.ng.pipeline import Pipeline\n",
    "\n",
    "\n",
    "input_connector = iter(\n",
    "    [\n",
    "        LogEvent({\"message\": \"Log message 1\"}, original=b\"\", state=EventStateType.RECEIVED),\n",
    "        LogEvent({\"message\": \"Log message 2\"}, original=b\"\", state=EventStateType.RECEIVED),\n",
    "        LogEvent({\"user\": {\"name\": \"John Doe\"}}, original=b\"\", state=EventStateType.RECEIVED),\n",
    "    ]\n",
    ")\n",
    "\n",
    "def get_processors() -> list[Processor]:\n",
    "    processors = [\n",
    "        Factory.create(\n",
    "            {\n",
    "                \"processor\": {\n",
    "                    \"type\": \"ng_generic_adder\",\n",
    "                    \"rules\": [\n",
    "                        {\n",
    "                            \"filter\": \"*\",\n",
    "                            \"generic_adder\": {\"add\": {\"event.tags\": \"generic added tag\"}},\n",
    "                        }\n",
    "                    ],\n",
    "                }\n",
    "            }\n",
    "        ),\n",
    "        Factory.create(\n",
    "            {\n",
    "                \"pseudo_this\": {\n",
    "                    \"type\": \"ng_pseudonymizer\",\n",
    "                    \"pubkey_analyst\": \"../../../../../examples/exampledata/rules/pseudonymizer/example_analyst_pub.pem\",\n",
    "                    \"pubkey_depseudo\": \"../../../../../examples/exampledata/rules/pseudonymizer/example_depseudo_pub.pem\",\n",
    "                    \"regex_mapping\": \"../../../../../examples/exampledata/rules/pseudonymizer/regex_mapping.yml\",\n",
    "                    \"hash_salt\": \"a_secret_tasty_ingredient\",\n",
    "                    \"outputs\": [{\"opensearch\": \"pseudonyms\"}],\n",
    "                    \"rules\": [\n",
    "                        {\n",
    "                            \"filter\": \"user.name\",\n",
    "                            \"pseudonymizer\": {\n",
    "                                \"id\": \"pseudonymizer-1a3c69b2-5d54-4b6b-ab07-c7ddbea7917c\",\n",
    "                                \"mapping\": {\"user.name\": \"RE_WHOLE_FIELD\"},\n",
    "                            },\n",
    "                        }\n",
    "                    ],\n",
    "                    \"max_cached_pseudonyms\": 1000000,\n",
    "                }\n",
    "            }\n",
    "        ),\n",
    "    ]\n",
    "    for processor in processors:\n",
    "        processor.setup()\n",
    "    return processors\n",
    "\n",
    "processors = get_processors()\n"
   ],
   "outputs": [],
   "execution_count": 4
  },
  {
   "cell_type": "markdown",
   "id": "ec064e0b",
   "metadata": {},
   "source": [
    "2. create the pipeline"
   ]
  },
  {
   "cell_type": "code",
   "id": "454c2e8d",
   "metadata": {
    "ExecuteTime": {
     "end_time": "2025-08-22T07:58:31.466178Z",
     "start_time": "2025-08-22T07:58:31.447998Z"
    }
   },
   "source": [
    "\n",
    "pipeline = Pipeline(input_connector, processors)"
   ],
   "outputs": [],
   "execution_count": 5
  },
  {
   "cell_type": "markdown",
   "id": "47780fd6",
   "metadata": {},
   "source": [
    "3. run the pipeline"
   ]
  },
  {
   "cell_type": "code",
   "id": "90dd7cfe",
   "metadata": {
    "ExecuteTime": {
     "end_time": "2025-08-22T07:58:31.497326Z",
     "start_time": "2025-08-22T07:58:31.493395Z"
    }
   },
   "source": [
    "for event in pipeline:\n",
    "    print(f\"Processed event: {event.data}\")\n",
    "    print(f\"Event state: {event.state}\")\n",
    "    print(f\"generated extra_data: {event.extra_data}\")\n",
    "    print(\"-\" * 40)"
   ],
   "outputs": [
    {
     "name": "stdout",
     "output_type": "stream",
     "text": [
      "Processed event: {'message': 'Log message 1', 'event': {'tags': 'generic added tag'}}\n",
      "Event state: processed\n",
      "generated extra_data: []\n",
      "----------------------------------------\n",
      "Processed event: {'message': 'Log message 2', 'event': {'tags': 'generic added tag'}}\n",
      "Event state: processed\n",
      "generated extra_data: []\n",
      "----------------------------------------\n",
      "Processed event: {'user': {'name': '<pseudonym:12f7a0505314df2259513546a7e3da518098b6999443ff681a56fb752afa998b>'}, 'event': {'tags': 'generic added tag'}}\n",
      "Event state: processed\n",
      "generated extra_data: [PseudonymEvent(data={'pseudonym': '12f7a0505314df2259513546a7e3da518098b6999443ff681a56fb752afa998b', 'origin': 'idhyPRJcrPrMsNZW70q6XQGkRK9/ue/G73g3b2A0kb30HsiBjt0z5/QeZPsUCMXwyzA5xOJjCt9J/505HVTvaezDLYGmmyQ9xc6SWwEXo9ZcUOLX2smCwGvzHfxtll5BuxaTnEQFdI28FRWLoJYNh8sj4L7TEhsAG6ALTtsMcbw=:opR2Cs952QlCWT8960QakQ==:IMtvLai6fI3BNwi5mByge4swaQMAg90wtumuuBeGGqYC4vRUHtE0kZ3igCVgYpNjEFYqX0JAtq4odMFfEv9ePGhCi0D1gUfNYQyyErinvpARRIGQyxPPunDXVtGiwwGvyXyMEohcdoNi+tYxvgJnjMPbDHLh/OHVUOQ77kDZr4EWmetGAGfHyANwP0RZy5znPCdIiV//Fx6fpFXfRr7a3aaooG3y/BH8kVEWMGm9xUs62fBHf81ZYjFtGn117BBtZBTnE8kFgboQ0PQApAF7ETeJdMqtSuMKfslBkq36J5qvzg/9/Fg/nmvtszYCoEV2y0acjY1hXAh2W168qvWMPw==:3bZi0mtLzGbybzYQNeeYQQ==:o5zq63ZVDAs='}, state=processed)]\n",
      "----------------------------------------\n"
     ]
    }
   ],
   "execution_count": 6
  }
 ],
 "metadata": {
  "kernelspec": {
   "display_name": ".venv",
   "language": "python",
   "name": "python3"
  },
  "language_info": {
   "codemirror_mode": {
    "name": "ipython",
    "version": 3
   },
   "file_extension": ".py",
   "mimetype": "text/x-python",
   "name": "python",
   "nbconvert_exporter": "python",
   "pygments_lexer": "ipython3",
   "version": "3.12.3"
  }
 },
 "nbformat": 4,
 "nbformat_minor": 5
}
