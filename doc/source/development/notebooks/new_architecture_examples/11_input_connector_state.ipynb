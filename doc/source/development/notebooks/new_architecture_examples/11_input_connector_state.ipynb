{
 "cells": [
  {
   "metadata": {},
   "cell_type": "markdown",
   "source": "# Eventhandling in Input Connectors get_next() - internal event_backlog handling",
   "id": "aa9240e7378f0d5d"
  },
  {
   "metadata": {},
   "cell_type": "raw",
   "source": "",
   "id": "212e9357de609c30"
  },
  {
   "metadata": {},
   "cell_type": "markdown",
   "source": "A small demonstration of the internal `event_backlog` of the Input Connecor and the `acknowledge(...)`  method.",
   "id": "81aee6cd0bc73141"
  },
  {
   "metadata": {},
   "cell_type": "markdown",
   "source": "1. Prepare the kafka",
   "id": "6f4217a086dea93c"
  },
  {
   "metadata": {
    "ExecuteTime": {
     "end_time": "2025-08-25T08:44:25.830412Z",
     "start_time": "2025-08-25T08:44:18.993735Z"
    }
   },
   "cell_type": "code",
   "source": [
    "%%bash\n",
    "# starting kafka container\n",
    "docker compose -f ../../../../../examples/compose/docker-compose.yml down -v\n",
    "docker compose -f ../../../../../examples/compose/docker-compose.yml up -d kafka\n",
    "# creating the topic\n",
    "docker exec -i kafka /bin/bash -c \"/opt/bitnami/kafka/bin/kafka-topics.sh --create --topic consumer --bootstrap-server localhost:9092 --partitions 1 --replication-factor 1\"\n",
    "# waiting for kafka to be ready\n",
    "sleep 10\n"
   ],
   "id": "49243f35baf8c22f",
   "outputs": [
    {
     "name": "stderr",
     "output_type": "stream",
     "text": [
      "bash: warning: setlocale: LC_ALL: cannot change locale (en_US.UTF-8)\n",
      " Container kafka  Stopping\n",
      " Container kafka  Stopped\n",
      " Container kafka  Removing\n",
      " Container kafka  Removed\n",
      " Network compose_kafka  Removing\n",
      " Network compose_kafka  Removed\n",
      " Network compose_kafka  Creating\n",
      " Network compose_kafka  Created\n",
      " Container kafka  Creating\n",
      " Container kafka  Created\n",
      " Container kafka  Starting\n",
      " Container kafka  Started\n",
      "[2025-08-25 08:44:20,589] WARN [AdminClient clientId=adminclient-1] Connection to node -1 (localhost/127.0.0.1:9092) could not be established. Node may not be available. (org.apache.kafka.clients.NetworkClient)\n",
      "[2025-08-25 08:44:20,694] WARN [AdminClient clientId=adminclient-1] Connection to node -1 (localhost/127.0.0.1:9092) could not be established. Node may not be available. (org.apache.kafka.clients.NetworkClient)\n",
      "[2025-08-25 08:44:20,795] WARN [AdminClient clientId=adminclient-1] Connection to node -1 (localhost/127.0.0.1:9092) could not be established. Node may not be available. (org.apache.kafka.clients.NetworkClient)\n",
      "[2025-08-25 08:44:20,996] WARN [AdminClient clientId=adminclient-1] Connection to node -1 (localhost/127.0.0.1:9092) could not be established. Node may not be available. (org.apache.kafka.clients.NetworkClient)\n",
      "[2025-08-25 08:44:21,499] WARN [AdminClient clientId=adminclient-1] Connection to node -1 (localhost/127.0.0.1:9092) could not be established. Node may not be available. (org.apache.kafka.clients.NetworkClient)\n",
      "[2025-08-25 08:44:22,403] WARN [AdminClient clientId=adminclient-1] Connection to node -1 (localhost/127.0.0.1:9092) could not be established. Node may not be available. (org.apache.kafka.clients.NetworkClient)\n",
      "[2025-08-25 08:44:23,307] WARN [AdminClient clientId=adminclient-1] Connection to node -1 (localhost/127.0.0.1:9092) could not be established. Node may not be available. (org.apache.kafka.clients.NetworkClient)\n",
      "[2025-08-25 08:44:24,312] WARN [AdminClient clientId=adminclient-1] Connection to node -1 (localhost/127.0.0.1:9092) could not be established. Node may not be available. (org.apache.kafka.clients.NetworkClient)\n"
     ]
    },
    {
     "name": "stdout",
     "output_type": "stream",
     "text": [
      "Created topic consumer.\n"
     ]
    }
   ],
   "execution_count": 1
  },
  {
   "metadata": {},
   "cell_type": "markdown",
   "source": "2. produce messages",
   "id": "de05c764c04f297e"
  },
  {
   "metadata": {
    "ExecuteTime": {
     "end_time": "2025-08-25T08:44:27.289256Z",
     "start_time": "2025-08-25T08:44:25.837849Z"
    }
   },
   "cell_type": "code",
   "source": [
    "%%bash\n",
    "# producing 3 events to kafka topic consumer\n",
    "docker exec -i kafka bash -lc '\n",
    "printf \"%s\\n\" \\\n",
    "  \"{\\\"message\\\":\\\"the message 1\\\"}\" \\\n",
    "  \"{\\\"message\\\":\\\"the message 2\\\"}\" \\\n",
    "  \"{\\\"message\\\":\\\"the message 3\\\"}\" \\\n",
    "| /opt/bitnami/kafka/bin/kafka-console-producer.sh --bootstrap-server localhost:9092 --topic consumer\n",
    "'"
   ],
   "id": "8a3aebedd118f567",
   "outputs": [
    {
     "name": "stderr",
     "output_type": "stream",
     "text": [
      "bash: warning: setlocale: LC_ALL: cannot change locale (en_US.UTF-8)\n"
     ]
    }
   ],
   "execution_count": 2
  },
  {
   "metadata": {},
   "cell_type": "markdown",
   "source": "3. initializing the confluentkafka_input connector",
   "id": "9f34c43290bf60e8"
  },
  {
   "metadata": {
    "ExecuteTime": {
     "end_time": "2025-08-25T08:44:28.709769Z",
     "start_time": "2025-08-25T08:44:27.343538Z"
    }
   },
   "cell_type": "code",
   "source": [
    "import sys\n",
    "import logging\n",
    "from logprep.factory import Factory\n",
    "from logprep.ng.connector.confluent_kafka.input import ConfluentKafkaInput\n",
    "\n",
    "# Configure logging\n",
    "logging.basicConfig(\n",
    "    level=logging.DEBUG,\n",
    "    stream=sys.stdout\n",
    ")\n",
    "\n",
    "# Create a Kafka input connector configuration\n",
    "\n",
    "kafka_config = {\n",
    "    \"kafka\": {\n",
    "        \"type\": \"ng_confluentkafka_input\",\n",
    "        \"topic\": \"consumer\",\n",
    "        \"kafka_config\": {\n",
    "            \"bootstrap.servers\": \"127.0.0.1:9092\",\n",
    "            \"group.id\": \"cgroup3\",\n",
    "            \"enable.auto.commit\": \"true\",\n",
    "            \"auto.commit.interval.ms\": \"10000\",\n",
    "            \"enable.auto.offset.store\": \"false\",\n",
    "            \"queued.min.messages\": \"100000\",\n",
    "            \"queued.max.messages.kbytes\": \"65536\",\n",
    "            \"statistics.interval.ms\": \"60000\"\n",
    "        }\n",
    "    }\n",
    "}\n",
    "\n",
    "kafka_connector: ConfluentKafkaInput = Factory.create(kafka_config)\n",
    "\n",
    "# Start the connector\n",
    "kafka_connector.setup()\n",
    "\n",
    "# show the current backlog\n",
    "print(f\"{kafka_connector.event_backlog.backlog=}\")"
   ],
   "id": "86846b29a5987b2d",
   "outputs": [
    {
     "name": "stdout",
     "output_type": "stream",
     "text": [
      "DEBUG:Component:Checking health of kafka\n",
      "kafka_connector.event_backlog.backlog=set()\n"
     ]
    }
   ],
   "execution_count": 3
  },
  {
   "metadata": {},
   "cell_type": "markdown",
   "source": "4. Consume and simulate event processing",
   "id": "18b04268e5888fef"
  },
  {
   "metadata": {
    "ExecuteTime": {
     "end_time": "2025-08-25T08:44:35.844378Z",
     "start_time": "2025-08-25T08:44:28.830924Z"
    }
   },
   "cell_type": "code",
   "source": [
    "from logprep.ng.event.event_state import EventStateType\n",
    "\n",
    "# Consume messages from the Kafka topic\n",
    "event_1 = next(kafka_connector(timeout=10))\n",
    "# - Event backlog size: 1\n",
    "print(\n",
    "    \"\\nExpected: 1 Event in Event-Backlog:\"\n",
    "    f\"\\n{kafka_connector.event_backlog.backlog=}\"\n",
    "    f\"\\nSize: {len(kafka_connector.event_backlog.backlog)}\",\n",
    "    end=\"\\n\\n\"\n",
    ")\n",
    "\n",
    "event_2 = next(kafka_connector(timeout=10))\n",
    "# - Event backlog size: 2 (\n",
    "print(\n",
    "    \"Expected: 2 Events in Event-Backlog:\"\n",
    "    f\"\\n{kafka_connector.event_backlog.backlog=}\"\n",
    "    f\"\\nSize: {len(kafka_connector.event_backlog.backlog)}\",\n",
    "    end=\"\\n\\n\"\n",
    ")\n",
    "\n",
    "\n",
    "# Fake/simulate processing:\n",
    "# - set event directly to ACKED (will be removed in next get cycle)\n",
    "\n",
    "print(\"... simulate event processing: set Event 1 to ACKED\", end=\"\\n\\n\")\n",
    "event_1.state.current_state= EventStateType.ACKED\n",
    "\n",
    "print(\"... simulate event processing: set Event 2 to DELIVERED\", end=\"\\n\\n\")\n",
    "# - set event directly to DELIVERED (will be acked in next get cycle)\n",
    "event_2.state.current_state= EventStateType.DELIVERED\n",
    "\n",
    "\n",
    "# next call should ack all events with state DELIVERED and remove ACKED events from event_backlog\n",
    "event_3 = next(kafka_connector(timeout=10))\n",
    "# - Event backlog size: 1 (\n",
    "print(\n",
    "    \"Expected: 2 Events in Event-Backlog:\\n\"\n",
    "    \"- 1. Event 1 (ACKED) removed from backlog\\n\"\n",
    "    \"- 2. Event 2 (DELIVERED) switch to ACKED\\n\"\n",
    "    f\"\\n{kafka_connector.event_backlog.backlog=}\"\n",
    "    f\"\\nSize: {len(kafka_connector.event_backlog.backlog)}\",\n",
    "    end=\"\\n\\n\"\n",
    ")\n",
    "\n",
    "# Shut down the connector to close the producer\n",
    "kafka_connector.shut_down()"
   ],
   "id": "cbb9d880110eb5bf",
   "outputs": [
    {
     "name": "stdout",
     "output_type": "stream",
     "text": [
      "INFO:KafkaInput:bs0010tnu-devclient-PipelineNone-pid41021-a1f9f819-f067-4867-b099-a3ff1267a944 was assigned to topic: consumer | partition 0\n",
      "\n",
      "Expected: 1 Event in Event-Backlog:\n",
      "kafka_connector.event_backlog.backlog={LogEvent(data={'message': 'the message 1'}, state=received)}\n",
      "Size: 1\n",
      "\n",
      "Expected: 2 Events in Event-Backlog:\n",
      "kafka_connector.event_backlog.backlog={LogEvent(data={'message': 'the message 1'}, state=received), LogEvent(data={'message': 'the message 2'}, state=received)}\n",
      "Size: 2\n",
      "\n",
      "... simutate event porcessing: set Event 1 to ACKED\n",
      "\n",
      "... simutate event porcessing: set Event 2 to DELIVERED\n",
      "\n",
      "Expected: 2 Events in Event-Backlog:\n",
      "- 1. Event 1 (ACKED) removed from backlog\n",
      "- 2. Event 2 (DELVIVERED) switch to ACKED\n",
      "\n",
      "kafka_connector.event_backlog.backlog={LogEvent(data={'message': 'the message 2'}, state=acked), LogEvent(data={'message': 'the message 3'}, state=received)}\n",
      "Size: 2\n",
      "\n",
      "WARNING:KafkaInput:bs0010tnu-devclient-PipelineNone-pid41021-a1f9f819-f067-4867-b099-a3ff1267a944 to be revoked from topic: consumer | partition 0\n"
     ]
    }
   ],
   "execution_count": 4
  }
 ],
 "metadata": {
  "kernelspec": {
   "display_name": "Python 3",
   "language": "python",
   "name": "python3"
  },
  "language_info": {
   "codemirror_mode": {
    "name": "ipython",
    "version": 2
   },
   "file_extension": ".py",
   "mimetype": "text/x-python",
   "name": "python",
   "nbconvert_exporter": "python",
   "pygments_lexer": "ipython2",
   "version": "2.7.6"
  }
 },
 "nbformat": 4,
 "nbformat_minor": 5
}
