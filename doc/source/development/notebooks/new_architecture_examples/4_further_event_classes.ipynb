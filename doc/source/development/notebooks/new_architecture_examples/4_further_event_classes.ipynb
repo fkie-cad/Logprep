{
 "cells": [
  {
   "cell_type": "markdown",
   "metadata": {},
   "source": "# Specialized Event Classes: ErrorEvent, PseudonymEvent, SreEvent\n"
  },
  {
   "metadata": {},
   "cell_type": "markdown",
   "source": "Overview of specialized Event Classes with further data."
  },
  {
   "metadata": {},
   "cell_type": "markdown",
   "source": "**ErrorEvent**"
  },
  {
   "metadata": {
    "ExecuteTime": {
     "end_time": "2025-07-01T15:28:54.945107Z",
     "start_time": "2025-07-01T15:28:54.940600Z"
    }
   },
   "cell_type": "code",
   "source": [
    "from logprep.ng.event.error_event import ErrorEvent\n",
    "from logprep.ng.event.log_event import LogEvent\n",
    "\n",
    "log_event = LogEvent({\"data\": 1}, original=b\"data: 1\")\n",
    "\n",
    "# Simulate log_event state to FAILED\n",
    "print(log_event.state.next_state())\n",
    "print(log_event.state.next_state())\n",
    "print(log_event.state.next_state(success=False))\n",
    "\n",
    "error_event = ErrorEvent(log_event=log_event, reason=TypeError(\"Field 'data' hast to be a string!\"))\n",
    "\n",
    "print(error_event)"
   ],
   "outputs": [
    {
     "name": "stdout",
     "output_type": "stream",
     "text": [
      "received\n",
      "processing\n",
      "failed\n",
      "ErrorEvent(data={'@timestamp': '2025-07-01T15:28:54.943466+00:00', 'reason': \"Field 'data' hast to be a string!\", 'original': b'data: 1', 'event': b\"{'data': 1}\"}, state=receiving)\n"
     ]
    }
   ],
   "execution_count": 3
  },
  {
   "metadata": {},
   "cell_type": "markdown",
   "source": "**SreEvent** and **PseudonymEvent** don't have any additional data; they only serve to distinguish between the event types."
  },
  {
   "metadata": {
    "ExecuteTime": {
     "end_time": "2025-07-01T15:54:01.088153Z",
     "start_time": "2025-07-01T15:54:01.084336Z"
    }
   },
   "cell_type": "code",
   "source": [
    "from logprep.ng.event.sre_event import SreEvent\n",
    "\n",
    "sre_event = SreEvent(data={\"data\": 1})\n",
    "\n",
    "# Simulate log_event states\n",
    "print(sre_event.state.next_state())  # RECEIVED\n",
    "print(sre_event.state.next_state())  # PROCESSING\n",
    "print(sre_event.state.next_state(success=True))  # successfully PROCESSED\n",
    "print(sre_event.state.next_state()) # STORED_IN_OUTPUT\n",
    "print(sre_event.state.next_state(success=True))  # successfully DELIVERED\n",
    "print(sre_event.state.next_state()) # ACKED"
   ],
   "outputs": [
    {
     "name": "stdout",
     "output_type": "stream",
     "text": [
      "received\n",
      "processing\n",
      "processed\n",
      "stored_in_output\n",
      "delivered\n",
      "acked\n"
     ]
    }
   ],
   "execution_count": 12
  }
 ],
 "metadata": {
  "kernelspec": {
   "display_name": "Python 3.11.0 ('.venv': venv)",
   "language": "python",
   "name": "python3"
  },
  "language_info": {
   "codemirror_mode": {
    "name": "ipython",
    "version": 3
   },
   "file_extension": ".py",
   "mimetype": "text/x-python",
   "name": "python",
   "nbconvert_exporter": "python",
   "pygments_lexer": "ipython3",
   "version": "3.11.0"
  },
  "orig_nbformat": 4,
  "vscode": {
   "interpreter": {
    "hash": "586280540a85d3e21edc698fe7b86af2848b9b02644e6c22463da25c40a3f1be"
   }
  }
 },
 "nbformat": 4,
 "nbformat_minor": 2
}
