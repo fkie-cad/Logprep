{
 "cells": [
  {
   "cell_type": "markdown",
   "metadata": {},
   "source": [
    "# Specialized Event Classes: ErrorEvent, PseudonymEvent, SreEvent\n"
   ]
  },
  {
   "cell_type": "markdown",
   "metadata": {},
   "source": [
    "Overview of specialized Event Classes with further data."
   ]
  },
  {
   "cell_type": "markdown",
   "metadata": {},
   "source": [
    "**ErrorEvent**"
   ]
  },
  {
   "metadata": {
    "ExecuteTime": {
     "end_time": "2025-08-22T07:51:47.130199Z",
     "start_time": "2025-08-22T07:51:47.126968Z"
    }
   },
   "cell_type": "code",
   "source": [
    "from logprep.event.error_event import ErrorEvent\n",
    "from logprep.event.log_event import LogEvent\n",
    "\n",
    "log_event = LogEvent({\"data\": 1}, original=b\"data: 1\")\n",
    "\n",
    "# Simulate log_event state to FAILED\n",
    "print(log_event.state.next_state())\n",
    "print(log_event.state.next_state())\n",
    "print(log_event.state.next_state(success=False))\n",
    "\n",
    "error_event = ErrorEvent(log_event=log_event, reason=TypeError(\"Field 'data' has to be a string!\"))\n",
    "\n",
    "print(error_event)"
   ],
   "outputs": [
    {
     "name": "stdout",
     "output_type": "stream",
     "text": [
      "received\n",
      "processing\n",
      "failed\n",
      "ErrorEvent(data={'@timestamp': '2025-08-22T07:51:47.128685+00:00', 'reason': \"Field 'data' has to be a string!\", 'original': b'data: 1', 'event': b\"{'data': 1}\"}, state=receiving)\n"
     ]
    }
   ],
   "execution_count": 6
  },
  {
   "cell_type": "markdown",
   "metadata": {},
   "source": [
    "**SreEvent** and **PseudonymEvent** don't have any additional data; they only serve to distinguish between the event types."
   ]
  },
  {
   "metadata": {
    "ExecuteTime": {
     "end_time": "2025-08-22T07:53:06.514782Z",
     "start_time": "2025-08-22T07:53:06.511829Z"
    }
   },
   "cell_type": "code",
   "source": [
    "from logprep.event.sre_event import SreEvent\n",
    "\n",
    "outputs = ({\"output\": \"output1\"}, {\"output\": \"output2\"})\n",
    "\n",
    "sre_event = SreEvent(data={\"data\": 1}, outputs=outputs)  # state: PROCESSED:\n",
    "\n",
    "# Simulate log_event states\n",
    "print(sre_event.state.next_state()) # STORED_IN_OUTPUT\n",
    "print(sre_event.state.next_state(success=True))  # successfully DELIVERED\n",
    "print(sre_event.state.next_state()) # ACKED"
   ],
   "outputs": [
    {
     "name": "stdout",
     "output_type": "stream",
     "text": [
      "stored_in_output\n",
      "delivered\n",
      "acked\n"
     ]
    }
   ],
   "execution_count": 8
  }
 ],
 "metadata": {
  "kernelspec": {
   "display_name": ".venv",
   "language": "python",
   "name": "python3"
  },
  "language_info": {
   "codemirror_mode": {
    "name": "ipython",
    "version": 3
   },
   "file_extension": ".py",
   "mimetype": "text/x-python",
   "name": "python",
   "nbconvert_exporter": "python",
   "pygments_lexer": "ipython3",
   "version": "3.12.3"
  },
  "orig_nbformat": 4
 },
 "nbformat": 4,
 "nbformat_minor": 2
}
