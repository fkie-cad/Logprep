{
 "cells": [
  {
   "cell_type": "markdown",
   "metadata": {},
   "source": [
    "# Performance Test - Domain Resolver"
   ]
  },
  {
   "cell_type": "code",
   "execution_count": 1,
   "metadata": {},
   "outputs": [
    {
     "data": {
      "text/plain": [
       "[filter=\"key1\", DropperRule.Config(description='', regex_fields=[], tests=[], tag_on_failure=['_dropper_failure'], drop=['key1'], drop_full=True),\n",
       " filter=\"key1\", DropperRule.Config(description='', regex_fields=[], tests=[], tag_on_failure=['_dropper_failure'], drop=['key1.a', 'key1.b', 'key1.key2.a', 'key1.key2.key3.b'], drop_full=False),\n",
       " filter=\"key1\", DropperRule.Config(description='', regex_fields=[], tests=[], tag_on_failure=['_dropper_failure'], drop=['key1.key2.a', 'key1.key2.key3.key4.key5.a', 'key1.key2.ke3.b', 'key1.key2.ke3.a'], drop_full=True)]"
      ]
     },
     "execution_count": 1,
     "metadata": {},
     "output_type": "execute_result"
    }
   ],
   "source": [
    "import sys\n",
    "sys.path.append(\"..\")\n",
    "from logging import DEBUG\n",
    "from logprep.factory import Factory\n",
    "from logprep.registry import Registry\n",
    "from logprep.abc import Processor\n",
    "from logprep.processor.dropper.rule import DropperRule\n",
    "from time import perf_counter\n",
    "from logging import getLogger\n",
    "\n",
    "class OldDropper(Processor):\n",
    "    \"\"\"Normalize log events by copying specific values to standardized fields.\"\"\"\n",
    "\n",
    "    rule_class = DropperRule\n",
    "\n",
    "    def _traverse_dict_and_delete(self, dict_: dict, sub_fields, drop_full: bool):\n",
    "        sub_field = sub_fields[0] if sub_fields else None\n",
    "        remaining_sub_fields = sub_fields[1:]\n",
    "\n",
    "        if not remaining_sub_fields and sub_field in dict_.keys():\n",
    "            del dict_[sub_field]\n",
    "        if (\n",
    "            isinstance(dict_, dict)\n",
    "            and sub_field in dict_\n",
    "            and (isinstance(dict_[sub_field], dict) and dict_[sub_field])\n",
    "        ):\n",
    "            self._traverse_dict_and_delete(dict_[sub_field], remaining_sub_fields, drop_full)\n",
    "            if dict_[sub_field] == {} and drop_full:\n",
    "                del dict_[sub_field]\n",
    "\n",
    "    def _drop_field(self, event: dict, dotted_field: str, drop_full: bool):\n",
    "        sub_fields = dotted_field.split(\".\")\n",
    "        self._traverse_dict_and_delete(event, sub_fields, drop_full)\n",
    "\n",
    "    def _apply_rules(self, event: dict, rule: DropperRule):\n",
    "        \"\"\"Drops fields from event Logs.\"\"\"\n",
    "\n",
    "        if self._logger.isEnabledFor(DEBUG):  # pragma: no cover\n",
    "            self._logger.debug(f\"{self.describe()} processing matching event\")\n",
    "        for drop_field in rule.fields_to_drop:\n",
    "            self._try_dropping_field(event, drop_field, rule.drop_full)\n",
    "\n",
    "    def _try_dropping_field(self, event: dict, dotted_field: str, drop_full: bool):\n",
    "        if self._field_exists(event, dotted_field):\n",
    "            self._drop_field(event, dotted_field, drop_full)\n",
    "\n",
    "dropper_config = {\n",
    "    \"dropper\": {\n",
    "        \"type\": \"dropper\",\n",
    "        \"specific_rules\": [\"/dev\"],\n",
    "        \"generic_rules\": [\"/dev\"]  \n",
    "    }\n",
    "}\n",
    "\n",
    "logger = getLogger(__name__)\n",
    "\n",
    "dropper = Factory.create(dropper_config, logger)\n",
    "\n",
    "Registry.mapping.update({\"old_dropper\": OldDropper})\n",
    "\n",
    "old_dropper_config = {\n",
    "    \"dropper\": {\n",
    "        \"type\": \"old_dropper\",\n",
    "        \"specific_rules\": [\"/dev\"],\n",
    "        \"generic_rules\": [\"/dev\"]  \n",
    "    }\n",
    "}\n",
    "\n",
    "old_dropper = Factory.create(old_dropper_config, logger)\n",
    "\n",
    "dropper\n",
    "old_dropper\n",
    "\n",
    "rules = [\n",
    "{\n",
    "    \"filter\": \"key1\",\n",
    "    \"dropper\": {\n",
    "        \"drop\": [\"key1\"],\n",
    "        \n",
    "    },\n",
    "},\n",
    "{\n",
    "    \"filter\": \"key1\",\n",
    "    \"dropper\": {\n",
    "        \"drop\": [\"key1.a\", \"key1.b\", \"key1.key2.a\", \"key1.key2.key3.b\"],\n",
    "        \"drop_full\": False\n",
    "    }\n",
    "},\n",
    "{\n",
    "    \"filter\": \"key1\",\n",
    "    \"dropper\": {\n",
    "        \"drop\": [\"key1.key2.a\", \"key1.key2.key3.key4.key5.a\", \"key1.key2.ke3.b\", \"key1.key2.ke3.a\"],\n",
    "    }\n",
    "}\n",
    "\n",
    "]\n",
    "\n",
    "rules = [DropperRule._create_from_dict(rule) for rule in rules]\n",
    "[dropper._specific_tree.add_rule(rule) for rule in rules]\n",
    "[old_dropper._specific_tree.add_rule(rule) for rule in rules]\n",
    "\n",
    "dropper._rules\n"
   ]
  },
  {
   "cell_type": "code",
   "execution_count": 2,
   "metadata": {},
   "outputs": [],
   "source": [
    "document = {\n",
    "    \"list\": [\"existing\"],\n",
    "    \"key1\": {\n",
    "        \"a\": {\"b\": \"value\"},\n",
    "        \"key2\": {\n",
    "            \"a\": {\"b\": \"value\"},\n",
    "            \"key3\": {\n",
    "                \"a\": {\"b\": \"value\"},\n",
    "                \"key4\": {\n",
    "                    \"a\": {\"b\": \"value\"},\n",
    "                    \"key5\": {\n",
    "                        \"a\": {\"b\": \"value\"},\n",
    "                        \"key6\": \"value\"}\n",
    "                    \n",
    "}}}}}\n"
   ]
  },
  {
   "cell_type": "code",
   "execution_count": 3,
   "metadata": {},
   "outputs": [
    {
     "name": "stdout",
     "output_type": "stream",
     "text": [
      "8.274332102000699\n"
     ]
    }
   ],
   "source": [
    "documents = [document for _ in range(5_000_000)]\n",
    "start = perf_counter()\n",
    "for event in documents:\n",
    "    dropper.process(event)\n",
    "print(perf_counter() - start)\n"
   ]
  },
  {
   "cell_type": "code",
   "execution_count": 4,
   "metadata": {},
   "outputs": [
    {
     "name": "stdout",
     "output_type": "stream",
     "text": [
      "8.099239963999935\n"
     ]
    }
   ],
   "source": [
    "documents1 = [document for _ in range(5_000_000)]\n",
    "start = perf_counter()\n",
    "for event in documents1:\n",
    "    old_dropper.process(event)\n",
    "print(perf_counter() - start)"
   ]
  }
 ],
 "metadata": {
  "kernelspec": {
   "display_name": "Python 3.11.0 ('venv311': venv)",
   "language": "python",
   "name": "python3"
  },
  "language_info": {
   "codemirror_mode": {
    "name": "ipython",
    "version": 3
   },
   "file_extension": ".py",
   "mimetype": "text/x-python",
   "name": "python",
   "nbconvert_exporter": "python",
   "pygments_lexer": "ipython3",
   "version": "3.11.0"
  },
  "orig_nbformat": 4,
  "vscode": {
   "interpreter": {
    "hash": "29409ed53bc6eb81f9a741ed8db3a316fb32f9653fed698d09496af847ef5314"
   }
  }
 },
 "nbformat": 4,
 "nbformat_minor": 2
}
