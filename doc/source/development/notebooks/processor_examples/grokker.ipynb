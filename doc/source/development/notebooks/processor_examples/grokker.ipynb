{
 "cells": [
  {
   "attachments": {},
   "cell_type": "markdown",
   "metadata": {},
   "source": [
    "# Grokker\n",
    "\n",
    "This presentations goal it to introduce the features of the `Grokker` and how to configure it."
   ]
  },
  {
   "attachments": {},
   "cell_type": "markdown",
   "metadata": {},
   "source": [
    "### The challenge\n",
    "\n",
    "I want to dissect a field to different target fields by logstash based grok patterns."
   ]
  },
  {
   "cell_type": "markdown",
   "metadata": {},
   "source": [
    "from this:"
   ]
  },
  {
   "cell_type": "code",
   "execution_count": 1,
   "metadata": {},
   "outputs": [],
   "source": [
    "document = {\"message\": \"2020-07-16T19:20:30.45+01:00 DEBUG This is a sample log\"}"
   ]
  },
  {
   "cell_type": "markdown",
   "metadata": {},
   "source": [
    "to this:"
   ]
  },
  {
   "cell_type": "code",
   "execution_count": 2,
   "metadata": {},
   "outputs": [],
   "source": [
    "expected = {\n",
    "    \"message\": \"2020-07-16T19:20:30.45+01:00 DEBUG This is a sample log\",\n",
    "    \"@timestamp\": \"2020-07-16T19:20:30.45+01:00\",\n",
    "    \"logLevel\": \"DEBUG\",\n",
    "    \"logMessage\": \"This is a sample log\",\n",
    "}"
   ]
  },
  {
   "cell_type": "markdown",
   "metadata": {},
   "source": [
    "### Create rule and processor"
   ]
  },
  {
   "cell_type": "markdown",
   "metadata": {},
   "source": [
    "create the rule:"
   ]
  },
  {
   "cell_type": "code",
   "execution_count": 3,
   "metadata": {},
   "outputs": [
    {
     "data": {
      "text/plain": [
       "135"
      ]
     },
     "execution_count": 3,
     "metadata": {},
     "output_type": "execute_result"
    }
   ],
   "source": [
    "import sys\n",
    "sys.path.append(\"../../../../../\")\n",
    "import tempfile\n",
    "from pathlib import Path\n",
    "\n",
    "rule_yaml = \"\"\"---\n",
    "filter: \"message\"\n",
    "grokker:\n",
    "  mapping:\n",
    "    message: \"%{TIMESTAMP_ISO8601:@timestamp} %{LOGLEVEL:logLevel} %{GREEDYDATA:logMessage}\"\n",
    "\"\"\"\n",
    "\n",
    "rule_path = Path(tempfile.gettempdir()) / \"grokker\"\n",
    "rule_path.mkdir(exist_ok=True)\n",
    "rule_file = rule_path / \"grokker.yml\"\n",
    "rule_file.write_text(rule_yaml)"
   ]
  },
  {
   "cell_type": "markdown",
   "metadata": {},
   "source": [
    "create the processor config:"
   ]
  },
  {
   "cell_type": "code",
   "execution_count": 4,
   "metadata": {},
   "outputs": [],
   "source": [
    "processor_config = {\n",
    "    \"mygrokker\":{   \n",
    "        \"type\": \"grokker\",\n",
    "        \"specific_rules\": [str(rule_path)],\n",
    "        \"generic_rules\": [\"/dev\"],\n",
    "        }\n",
    "    }"
   ]
  },
  {
   "cell_type": "markdown",
   "metadata": {},
   "source": [
    "create the processor with the factory:"
   ]
  },
  {
   "cell_type": "code",
   "execution_count": 5,
   "metadata": {},
   "outputs": [],
   "source": [
    "from unittest import mock\n",
    "from logprep.factory import Factory\n",
    "\n",
    "mock_logger = mock.MagicMock()\n",
    "grokker = Factory.create(processor_config, mock_logger)\n",
    "grokker.setup()"
   ]
  },
  {
   "cell_type": "markdown",
   "metadata": {},
   "source": [
    "### Process event"
   ]
  },
  {
   "cell_type": "code",
   "execution_count": 6,
   "metadata": {},
   "outputs": [
    {
     "name": "stdout",
     "output_type": "stream",
     "text": [
      "before: {'message': '2020-07-16T19:20:30.45+01:00 DEBUG This is a sample log'}\n",
      "after: {'message': '2020-07-16T19:20:30.45+01:00 DEBUG This is a sample log', '@timestamp': '2020-07-16T19:20:30.45+01:00', 'logLevel': 'DEBUG', 'logMessage': 'This is a sample log'}\n",
      "True\n"
     ]
    }
   ],
   "source": [
    "from copy import deepcopy\n",
    "mydocument = deepcopy(document)\n",
    "\n",
    "\n",
    "print(f\"before: {mydocument}\")\n",
    "grokker.process(mydocument)\n",
    "print(f\"after: {mydocument}\")\n",
    "print(mydocument == expected)"
   ]
  },
  {
   "cell_type": "markdown",
   "metadata": {},
   "source": []
  }
 ],
 "metadata": {
  "kernelspec": {
   "display_name": "Python 3.11.0 ('.venv': venv)",
   "language": "python",
   "name": "python3"
  },
  "language_info": {
   "codemirror_mode": {
    "name": "ipython",
    "version": 3
   },
   "file_extension": ".py",
   "mimetype": "text/x-python",
   "name": "python",
   "nbconvert_exporter": "python",
   "pygments_lexer": "ipython3",
   "version": "3.9.16"
  },
  "orig_nbformat": 4,
  "vscode": {
   "interpreter": {
    "hash": "586280540a85d3e21edc698fe7b86af2848b9b02644e6c22463da25c40a3f1be"
   }
  }
 },
 "nbformat": 4,
 "nbformat_minor": 2
}
