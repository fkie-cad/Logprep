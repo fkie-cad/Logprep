{
 "cells": [
  {
   "cell_type": "code",
   "execution_count": 1,
   "metadata": {},
   "outputs": [],
   "source": [
    "import sys\n",
    "sys.path.append(\"../../../../../\")\n",
    "import tempfile\n",
    "from pathlib import Path\n",
    "\n",
    "\n",
    "document = { \n",
    "    \"regex_key_one\": \"*1value2*\", \n",
    "    \"regex_key_two\": \"Here is 1234 in the message\" \n",
    "}\n",
    "\n",
    "\n",
    "rule_yaml = \"\"\"\n",
    "---\n",
    "filter: 'regex_key_one: \"/.*value.*/\" AND regex_key_two: \"/.*1234.*/\"'\n",
    "regex_fields:\n",
    "  - \"regex_key_one\"\n",
    "  - \"regex_key_two\"\n",
    "pseudonymizer:\n",
    "  mapping:\n",
    "      winlog.event_data.param1: \"RE_WHOLE_FIELD\"\n",
    "      winlog.event_data.param2: \"RE_WHOLE_FIELD\"\n",
    "  description: \"...\"\n",
    "\"\"\"\n",
    "\n",
    "rule_path = Path(tempfile.gettempdir()) / \"concatenator\"\n",
    "rule_path.mkdir(exist_ok=True)\n",
    "rule_file = rule_path / \"data-stream.yml\"\n",
    "rule_file.write_text(rule_yaml)\n",
    "\n",
    "processor_config = {\n",
    "    \"mydropper\": {\n",
    "        \"type\": \"pseudonymizer\",\n",
    "        \"specific_rules\": [str(rule_path)],\n",
    "        \"generic_rules\": [\"/dev\"],\n",
    "        \"outputs\": [{\"kafka\": \"topic\"}],\n",
    "        \"pubkey_analyst\": \"../../../../../tests/testdata/unit/pseudonymizer/example_analyst_pub.pem\",\n",
    "        \"pubkey_depseudo\": \"../../../../../tests/testdata/unit/pseudonymizer/example_depseudo_pub.pem\",\n",
    "        \"hash_salt\": \"a_secret_tasty_ingredient\",\n",
    "        \"regex_mapping\":  \"../../../../../tests/testdata/unit/pseudonymizer/rules/regex_mapping.yml\",\n",
    "        \"max_cached_pseudonyms\": 1000000\n",
    "    }\n",
    "}"
   ]
  },
  {
   "cell_type": "code",
   "execution_count": 2,
   "metadata": {},
   "outputs": [
    {
     "data": {
      "text/plain": [
       "pseudonymizer"
      ]
     },
     "execution_count": 2,
     "metadata": {},
     "output_type": "execute_result"
    }
   ],
   "source": [
    "from unittest import mock\n",
    "from logprep.factory import Factory\n",
    "\n",
    "mock_logger = mock.MagicMock()\n",
    "pseudonymizer_processor = Factory.create(processor_config)\n",
    "pseudonymizer_processor"
   ]
  },
  {
   "cell_type": "code",
   "execution_count": 3,
   "metadata": {},
   "outputs": [
    {
     "name": "stdout",
     "output_type": "stream",
     "text": [
      "before: {'regex_key_one': '*1value2*', 'regex_key_two': 'Here is 1234 in the message'}\n",
      "after: {'regex_key_one': '*1value2*', 'regex_key_two': 'Here is 1234 in the message'}\n"
     ]
    }
   ],
   "source": [
    "from copy import deepcopy\n",
    "mydocument = deepcopy(document)\n",
    "\n",
    "print(f\"before: {mydocument}\")\n",
    "pseudonymizer_processor.process(mydocument)\n",
    "print(f\"after: {mydocument}\")"
   ]
  }
 ],
 "metadata": {
  "kernelspec": {
   "display_name": "Python 3 (ipykernel)",
   "language": "python",
   "name": "python3"
  },
  "language_info": {
   "codemirror_mode": {
    "name": "ipython",
    "version": 3
   },
   "file_extension": ".py",
   "mimetype": "text/x-python",
   "name": "python",
   "nbconvert_exporter": "python",
   "pygments_lexer": "ipython3",
   "version": "3.12.5"
  },
  "vscode": {
   "interpreter": {
    "hash": "586280540a85d3e21edc698fe7b86af2848b9b02644e6c22463da25c40a3f1be"
   }
  }
 },
 "nbformat": 4,
 "nbformat_minor": 4
}
